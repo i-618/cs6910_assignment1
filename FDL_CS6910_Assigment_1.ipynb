{
  "nbformat": 4,
  "nbformat_minor": 0,
  "metadata": {
    "colab": {
      "provenance": []
    },
    "kernelspec": {
      "name": "python3",
      "display_name": "Python 3"
    },
    "language_info": {
      "name": "python"
    },
    "widgets": {
      "application/vnd.jupyter.widget-state+json": {
        "09eafaa1d5bb4ee4ad004a5c8c142d6e": {
          "model_module": "@jupyter-widgets/controls",
          "model_name": "VBoxModel",
          "model_module_version": "1.5.0",
          "state": {
            "_dom_classes": [],
            "_model_module": "@jupyter-widgets/controls",
            "_model_module_version": "1.5.0",
            "_model_name": "VBoxModel",
            "_view_count": null,
            "_view_module": "@jupyter-widgets/controls",
            "_view_module_version": "1.5.0",
            "_view_name": "VBoxView",
            "box_style": "",
            "children": [
              "IPY_MODEL_4763280b2e7c4775b2a8cef0d8c3dd4f",
              "IPY_MODEL_07765110505048e8862e6924747db2e8"
            ],
            "layout": "IPY_MODEL_aefcf0798e3c41b488f3d202cf1896a7"
          }
        },
        "4763280b2e7c4775b2a8cef0d8c3dd4f": {
          "model_module": "@jupyter-widgets/controls",
          "model_name": "LabelModel",
          "model_module_version": "1.5.0",
          "state": {
            "_dom_classes": [],
            "_model_module": "@jupyter-widgets/controls",
            "_model_module_version": "1.5.0",
            "_model_name": "LabelModel",
            "_view_count": null,
            "_view_module": "@jupyter-widgets/controls",
            "_view_module_version": "1.5.0",
            "_view_name": "LabelView",
            "description": "",
            "description_tooltip": null,
            "layout": "IPY_MODEL_caa817b28d064846b2a5b80323871758",
            "placeholder": "​",
            "style": "IPY_MODEL_6abd1059f8974baca9bee7ade875b827",
            "value": "0.061 MB of 0.061 MB uploaded\r"
          }
        },
        "07765110505048e8862e6924747db2e8": {
          "model_module": "@jupyter-widgets/controls",
          "model_name": "FloatProgressModel",
          "model_module_version": "1.5.0",
          "state": {
            "_dom_classes": [],
            "_model_module": "@jupyter-widgets/controls",
            "_model_module_version": "1.5.0",
            "_model_name": "FloatProgressModel",
            "_view_count": null,
            "_view_module": "@jupyter-widgets/controls",
            "_view_module_version": "1.5.0",
            "_view_name": "ProgressView",
            "bar_style": "",
            "description": "",
            "description_tooltip": null,
            "layout": "IPY_MODEL_f45361c078cd4241ba8c05e9437b2b97",
            "max": 1,
            "min": 0,
            "orientation": "horizontal",
            "style": "IPY_MODEL_89725f768e424f2eaf3691220f790696",
            "value": 1
          }
        },
        "aefcf0798e3c41b488f3d202cf1896a7": {
          "model_module": "@jupyter-widgets/base",
          "model_name": "LayoutModel",
          "model_module_version": "1.2.0",
          "state": {
            "_model_module": "@jupyter-widgets/base",
            "_model_module_version": "1.2.0",
            "_model_name": "LayoutModel",
            "_view_count": null,
            "_view_module": "@jupyter-widgets/base",
            "_view_module_version": "1.2.0",
            "_view_name": "LayoutView",
            "align_content": null,
            "align_items": null,
            "align_self": null,
            "border": null,
            "bottom": null,
            "display": null,
            "flex": null,
            "flex_flow": null,
            "grid_area": null,
            "grid_auto_columns": null,
            "grid_auto_flow": null,
            "grid_auto_rows": null,
            "grid_column": null,
            "grid_gap": null,
            "grid_row": null,
            "grid_template_areas": null,
            "grid_template_columns": null,
            "grid_template_rows": null,
            "height": null,
            "justify_content": null,
            "justify_items": null,
            "left": null,
            "margin": null,
            "max_height": null,
            "max_width": null,
            "min_height": null,
            "min_width": null,
            "object_fit": null,
            "object_position": null,
            "order": null,
            "overflow": null,
            "overflow_x": null,
            "overflow_y": null,
            "padding": null,
            "right": null,
            "top": null,
            "visibility": null,
            "width": null
          }
        },
        "caa817b28d064846b2a5b80323871758": {
          "model_module": "@jupyter-widgets/base",
          "model_name": "LayoutModel",
          "model_module_version": "1.2.0",
          "state": {
            "_model_module": "@jupyter-widgets/base",
            "_model_module_version": "1.2.0",
            "_model_name": "LayoutModel",
            "_view_count": null,
            "_view_module": "@jupyter-widgets/base",
            "_view_module_version": "1.2.0",
            "_view_name": "LayoutView",
            "align_content": null,
            "align_items": null,
            "align_self": null,
            "border": null,
            "bottom": null,
            "display": null,
            "flex": null,
            "flex_flow": null,
            "grid_area": null,
            "grid_auto_columns": null,
            "grid_auto_flow": null,
            "grid_auto_rows": null,
            "grid_column": null,
            "grid_gap": null,
            "grid_row": null,
            "grid_template_areas": null,
            "grid_template_columns": null,
            "grid_template_rows": null,
            "height": null,
            "justify_content": null,
            "justify_items": null,
            "left": null,
            "margin": null,
            "max_height": null,
            "max_width": null,
            "min_height": null,
            "min_width": null,
            "object_fit": null,
            "object_position": null,
            "order": null,
            "overflow": null,
            "overflow_x": null,
            "overflow_y": null,
            "padding": null,
            "right": null,
            "top": null,
            "visibility": null,
            "width": null
          }
        },
        "6abd1059f8974baca9bee7ade875b827": {
          "model_module": "@jupyter-widgets/controls",
          "model_name": "DescriptionStyleModel",
          "model_module_version": "1.5.0",
          "state": {
            "_model_module": "@jupyter-widgets/controls",
            "_model_module_version": "1.5.0",
            "_model_name": "DescriptionStyleModel",
            "_view_count": null,
            "_view_module": "@jupyter-widgets/base",
            "_view_module_version": "1.2.0",
            "_view_name": "StyleView",
            "description_width": ""
          }
        },
        "f45361c078cd4241ba8c05e9437b2b97": {
          "model_module": "@jupyter-widgets/base",
          "model_name": "LayoutModel",
          "model_module_version": "1.2.0",
          "state": {
            "_model_module": "@jupyter-widgets/base",
            "_model_module_version": "1.2.0",
            "_model_name": "LayoutModel",
            "_view_count": null,
            "_view_module": "@jupyter-widgets/base",
            "_view_module_version": "1.2.0",
            "_view_name": "LayoutView",
            "align_content": null,
            "align_items": null,
            "align_self": null,
            "border": null,
            "bottom": null,
            "display": null,
            "flex": null,
            "flex_flow": null,
            "grid_area": null,
            "grid_auto_columns": null,
            "grid_auto_flow": null,
            "grid_auto_rows": null,
            "grid_column": null,
            "grid_gap": null,
            "grid_row": null,
            "grid_template_areas": null,
            "grid_template_columns": null,
            "grid_template_rows": null,
            "height": null,
            "justify_content": null,
            "justify_items": null,
            "left": null,
            "margin": null,
            "max_height": null,
            "max_width": null,
            "min_height": null,
            "min_width": null,
            "object_fit": null,
            "object_position": null,
            "order": null,
            "overflow": null,
            "overflow_x": null,
            "overflow_y": null,
            "padding": null,
            "right": null,
            "top": null,
            "visibility": null,
            "width": null
          }
        },
        "89725f768e424f2eaf3691220f790696": {
          "model_module": "@jupyter-widgets/controls",
          "model_name": "ProgressStyleModel",
          "model_module_version": "1.5.0",
          "state": {
            "_model_module": "@jupyter-widgets/controls",
            "_model_module_version": "1.5.0",
            "_model_name": "ProgressStyleModel",
            "_view_count": null,
            "_view_module": "@jupyter-widgets/base",
            "_view_module_version": "1.2.0",
            "_view_name": "StyleView",
            "bar_color": null,
            "description_width": ""
          }
        },
        "8ed63b5aea374de59cd3e97eb3cfbaf0": {
          "model_module": "@jupyter-widgets/controls",
          "model_name": "VBoxModel",
          "model_module_version": "1.5.0",
          "state": {
            "_dom_classes": [],
            "_model_module": "@jupyter-widgets/controls",
            "_model_module_version": "1.5.0",
            "_model_name": "VBoxModel",
            "_view_count": null,
            "_view_module": "@jupyter-widgets/controls",
            "_view_module_version": "1.5.0",
            "_view_name": "VBoxView",
            "box_style": "",
            "children": [
              "IPY_MODEL_e1edd5435b2a4f69b57d0ee2fd5a0d1c",
              "IPY_MODEL_5a0a26c1452345e6ad20b8d232938785"
            ],
            "layout": "IPY_MODEL_54a5b33b510442d5ae8b55973b937402"
          }
        },
        "e1edd5435b2a4f69b57d0ee2fd5a0d1c": {
          "model_module": "@jupyter-widgets/controls",
          "model_name": "LabelModel",
          "model_module_version": "1.5.0",
          "state": {
            "_dom_classes": [],
            "_model_module": "@jupyter-widgets/controls",
            "_model_module_version": "1.5.0",
            "_model_name": "LabelModel",
            "_view_count": null,
            "_view_module": "@jupyter-widgets/controls",
            "_view_module_version": "1.5.0",
            "_view_name": "LabelView",
            "description": "",
            "description_tooltip": null,
            "layout": "IPY_MODEL_d9b89829d51445bbada2226b78d4b7ed",
            "placeholder": "​",
            "style": "IPY_MODEL_beabb2a7a38d4e049777ef72d14357b5",
            "value": "0.012 MB of 0.012 MB uploaded\r"
          }
        },
        "5a0a26c1452345e6ad20b8d232938785": {
          "model_module": "@jupyter-widgets/controls",
          "model_name": "FloatProgressModel",
          "model_module_version": "1.5.0",
          "state": {
            "_dom_classes": [],
            "_model_module": "@jupyter-widgets/controls",
            "_model_module_version": "1.5.0",
            "_model_name": "FloatProgressModel",
            "_view_count": null,
            "_view_module": "@jupyter-widgets/controls",
            "_view_module_version": "1.5.0",
            "_view_name": "ProgressView",
            "bar_style": "",
            "description": "",
            "description_tooltip": null,
            "layout": "IPY_MODEL_a2606bcdb6f74fe3ad4a34cb789fde31",
            "max": 1,
            "min": 0,
            "orientation": "horizontal",
            "style": "IPY_MODEL_25003bfdaa634cd39d375ce6a8890f64",
            "value": 1
          }
        },
        "54a5b33b510442d5ae8b55973b937402": {
          "model_module": "@jupyter-widgets/base",
          "model_name": "LayoutModel",
          "model_module_version": "1.2.0",
          "state": {
            "_model_module": "@jupyter-widgets/base",
            "_model_module_version": "1.2.0",
            "_model_name": "LayoutModel",
            "_view_count": null,
            "_view_module": "@jupyter-widgets/base",
            "_view_module_version": "1.2.0",
            "_view_name": "LayoutView",
            "align_content": null,
            "align_items": null,
            "align_self": null,
            "border": null,
            "bottom": null,
            "display": null,
            "flex": null,
            "flex_flow": null,
            "grid_area": null,
            "grid_auto_columns": null,
            "grid_auto_flow": null,
            "grid_auto_rows": null,
            "grid_column": null,
            "grid_gap": null,
            "grid_row": null,
            "grid_template_areas": null,
            "grid_template_columns": null,
            "grid_template_rows": null,
            "height": null,
            "justify_content": null,
            "justify_items": null,
            "left": null,
            "margin": null,
            "max_height": null,
            "max_width": null,
            "min_height": null,
            "min_width": null,
            "object_fit": null,
            "object_position": null,
            "order": null,
            "overflow": null,
            "overflow_x": null,
            "overflow_y": null,
            "padding": null,
            "right": null,
            "top": null,
            "visibility": null,
            "width": null
          }
        },
        "d9b89829d51445bbada2226b78d4b7ed": {
          "model_module": "@jupyter-widgets/base",
          "model_name": "LayoutModel",
          "model_module_version": "1.2.0",
          "state": {
            "_model_module": "@jupyter-widgets/base",
            "_model_module_version": "1.2.0",
            "_model_name": "LayoutModel",
            "_view_count": null,
            "_view_module": "@jupyter-widgets/base",
            "_view_module_version": "1.2.0",
            "_view_name": "LayoutView",
            "align_content": null,
            "align_items": null,
            "align_self": null,
            "border": null,
            "bottom": null,
            "display": null,
            "flex": null,
            "flex_flow": null,
            "grid_area": null,
            "grid_auto_columns": null,
            "grid_auto_flow": null,
            "grid_auto_rows": null,
            "grid_column": null,
            "grid_gap": null,
            "grid_row": null,
            "grid_template_areas": null,
            "grid_template_columns": null,
            "grid_template_rows": null,
            "height": null,
            "justify_content": null,
            "justify_items": null,
            "left": null,
            "margin": null,
            "max_height": null,
            "max_width": null,
            "min_height": null,
            "min_width": null,
            "object_fit": null,
            "object_position": null,
            "order": null,
            "overflow": null,
            "overflow_x": null,
            "overflow_y": null,
            "padding": null,
            "right": null,
            "top": null,
            "visibility": null,
            "width": null
          }
        },
        "beabb2a7a38d4e049777ef72d14357b5": {
          "model_module": "@jupyter-widgets/controls",
          "model_name": "DescriptionStyleModel",
          "model_module_version": "1.5.0",
          "state": {
            "_model_module": "@jupyter-widgets/controls",
            "_model_module_version": "1.5.0",
            "_model_name": "DescriptionStyleModel",
            "_view_count": null,
            "_view_module": "@jupyter-widgets/base",
            "_view_module_version": "1.2.0",
            "_view_name": "StyleView",
            "description_width": ""
          }
        },
        "a2606bcdb6f74fe3ad4a34cb789fde31": {
          "model_module": "@jupyter-widgets/base",
          "model_name": "LayoutModel",
          "model_module_version": "1.2.0",
          "state": {
            "_model_module": "@jupyter-widgets/base",
            "_model_module_version": "1.2.0",
            "_model_name": "LayoutModel",
            "_view_count": null,
            "_view_module": "@jupyter-widgets/base",
            "_view_module_version": "1.2.0",
            "_view_name": "LayoutView",
            "align_content": null,
            "align_items": null,
            "align_self": null,
            "border": null,
            "bottom": null,
            "display": null,
            "flex": null,
            "flex_flow": null,
            "grid_area": null,
            "grid_auto_columns": null,
            "grid_auto_flow": null,
            "grid_auto_rows": null,
            "grid_column": null,
            "grid_gap": null,
            "grid_row": null,
            "grid_template_areas": null,
            "grid_template_columns": null,
            "grid_template_rows": null,
            "height": null,
            "justify_content": null,
            "justify_items": null,
            "left": null,
            "margin": null,
            "max_height": null,
            "max_width": null,
            "min_height": null,
            "min_width": null,
            "object_fit": null,
            "object_position": null,
            "order": null,
            "overflow": null,
            "overflow_x": null,
            "overflow_y": null,
            "padding": null,
            "right": null,
            "top": null,
            "visibility": null,
            "width": null
          }
        },
        "25003bfdaa634cd39d375ce6a8890f64": {
          "model_module": "@jupyter-widgets/controls",
          "model_name": "ProgressStyleModel",
          "model_module_version": "1.5.0",
          "state": {
            "_model_module": "@jupyter-widgets/controls",
            "_model_module_version": "1.5.0",
            "_model_name": "ProgressStyleModel",
            "_view_count": null,
            "_view_module": "@jupyter-widgets/base",
            "_view_module_version": "1.2.0",
            "_view_name": "StyleView",
            "bar_color": null,
            "description_width": ""
          }
        },
        "0a539e75980d43fa99067eeac5b05573": {
          "model_module": "@jupyter-widgets/controls",
          "model_name": "VBoxModel",
          "model_module_version": "1.5.0",
          "state": {
            "_dom_classes": [],
            "_model_module": "@jupyter-widgets/controls",
            "_model_module_version": "1.5.0",
            "_model_name": "VBoxModel",
            "_view_count": null,
            "_view_module": "@jupyter-widgets/controls",
            "_view_module_version": "1.5.0",
            "_view_name": "VBoxView",
            "box_style": "",
            "children": [
              "IPY_MODEL_b688efbf9c074d628e56fa631244ac73",
              "IPY_MODEL_7313ba1329c9454eb85f53de856dd729"
            ],
            "layout": "IPY_MODEL_86956a45558b47429f72a6f983505644"
          }
        },
        "b688efbf9c074d628e56fa631244ac73": {
          "model_module": "@jupyter-widgets/controls",
          "model_name": "LabelModel",
          "model_module_version": "1.5.0",
          "state": {
            "_dom_classes": [],
            "_model_module": "@jupyter-widgets/controls",
            "_model_module_version": "1.5.0",
            "_model_name": "LabelModel",
            "_view_count": null,
            "_view_module": "@jupyter-widgets/controls",
            "_view_module_version": "1.5.0",
            "_view_name": "LabelView",
            "description": "",
            "description_tooltip": null,
            "layout": "IPY_MODEL_99e91997530f463a9f80e776ad2343fa",
            "placeholder": "​",
            "style": "IPY_MODEL_1548e01acbfd4db6a683079de6d987d1",
            "value": "0.014 MB of 0.014 MB uploaded\r"
          }
        },
        "7313ba1329c9454eb85f53de856dd729": {
          "model_module": "@jupyter-widgets/controls",
          "model_name": "FloatProgressModel",
          "model_module_version": "1.5.0",
          "state": {
            "_dom_classes": [],
            "_model_module": "@jupyter-widgets/controls",
            "_model_module_version": "1.5.0",
            "_model_name": "FloatProgressModel",
            "_view_count": null,
            "_view_module": "@jupyter-widgets/controls",
            "_view_module_version": "1.5.0",
            "_view_name": "ProgressView",
            "bar_style": "",
            "description": "",
            "description_tooltip": null,
            "layout": "IPY_MODEL_be1e7dddb77d440cb7e4a4949c5c6a73",
            "max": 1,
            "min": 0,
            "orientation": "horizontal",
            "style": "IPY_MODEL_c74ff61ea4cf4b419b66606ab4265494",
            "value": 1
          }
        },
        "86956a45558b47429f72a6f983505644": {
          "model_module": "@jupyter-widgets/base",
          "model_name": "LayoutModel",
          "model_module_version": "1.2.0",
          "state": {
            "_model_module": "@jupyter-widgets/base",
            "_model_module_version": "1.2.0",
            "_model_name": "LayoutModel",
            "_view_count": null,
            "_view_module": "@jupyter-widgets/base",
            "_view_module_version": "1.2.0",
            "_view_name": "LayoutView",
            "align_content": null,
            "align_items": null,
            "align_self": null,
            "border": null,
            "bottom": null,
            "display": null,
            "flex": null,
            "flex_flow": null,
            "grid_area": null,
            "grid_auto_columns": null,
            "grid_auto_flow": null,
            "grid_auto_rows": null,
            "grid_column": null,
            "grid_gap": null,
            "grid_row": null,
            "grid_template_areas": null,
            "grid_template_columns": null,
            "grid_template_rows": null,
            "height": null,
            "justify_content": null,
            "justify_items": null,
            "left": null,
            "margin": null,
            "max_height": null,
            "max_width": null,
            "min_height": null,
            "min_width": null,
            "object_fit": null,
            "object_position": null,
            "order": null,
            "overflow": null,
            "overflow_x": null,
            "overflow_y": null,
            "padding": null,
            "right": null,
            "top": null,
            "visibility": null,
            "width": null
          }
        },
        "99e91997530f463a9f80e776ad2343fa": {
          "model_module": "@jupyter-widgets/base",
          "model_name": "LayoutModel",
          "model_module_version": "1.2.0",
          "state": {
            "_model_module": "@jupyter-widgets/base",
            "_model_module_version": "1.2.0",
            "_model_name": "LayoutModel",
            "_view_count": null,
            "_view_module": "@jupyter-widgets/base",
            "_view_module_version": "1.2.0",
            "_view_name": "LayoutView",
            "align_content": null,
            "align_items": null,
            "align_self": null,
            "border": null,
            "bottom": null,
            "display": null,
            "flex": null,
            "flex_flow": null,
            "grid_area": null,
            "grid_auto_columns": null,
            "grid_auto_flow": null,
            "grid_auto_rows": null,
            "grid_column": null,
            "grid_gap": null,
            "grid_row": null,
            "grid_template_areas": null,
            "grid_template_columns": null,
            "grid_template_rows": null,
            "height": null,
            "justify_content": null,
            "justify_items": null,
            "left": null,
            "margin": null,
            "max_height": null,
            "max_width": null,
            "min_height": null,
            "min_width": null,
            "object_fit": null,
            "object_position": null,
            "order": null,
            "overflow": null,
            "overflow_x": null,
            "overflow_y": null,
            "padding": null,
            "right": null,
            "top": null,
            "visibility": null,
            "width": null
          }
        },
        "1548e01acbfd4db6a683079de6d987d1": {
          "model_module": "@jupyter-widgets/controls",
          "model_name": "DescriptionStyleModel",
          "model_module_version": "1.5.0",
          "state": {
            "_model_module": "@jupyter-widgets/controls",
            "_model_module_version": "1.5.0",
            "_model_name": "DescriptionStyleModel",
            "_view_count": null,
            "_view_module": "@jupyter-widgets/base",
            "_view_module_version": "1.2.0",
            "_view_name": "StyleView",
            "description_width": ""
          }
        },
        "be1e7dddb77d440cb7e4a4949c5c6a73": {
          "model_module": "@jupyter-widgets/base",
          "model_name": "LayoutModel",
          "model_module_version": "1.2.0",
          "state": {
            "_model_module": "@jupyter-widgets/base",
            "_model_module_version": "1.2.0",
            "_model_name": "LayoutModel",
            "_view_count": null,
            "_view_module": "@jupyter-widgets/base",
            "_view_module_version": "1.2.0",
            "_view_name": "LayoutView",
            "align_content": null,
            "align_items": null,
            "align_self": null,
            "border": null,
            "bottom": null,
            "display": null,
            "flex": null,
            "flex_flow": null,
            "grid_area": null,
            "grid_auto_columns": null,
            "grid_auto_flow": null,
            "grid_auto_rows": null,
            "grid_column": null,
            "grid_gap": null,
            "grid_row": null,
            "grid_template_areas": null,
            "grid_template_columns": null,
            "grid_template_rows": null,
            "height": null,
            "justify_content": null,
            "justify_items": null,
            "left": null,
            "margin": null,
            "max_height": null,
            "max_width": null,
            "min_height": null,
            "min_width": null,
            "object_fit": null,
            "object_position": null,
            "order": null,
            "overflow": null,
            "overflow_x": null,
            "overflow_y": null,
            "padding": null,
            "right": null,
            "top": null,
            "visibility": null,
            "width": null
          }
        },
        "c74ff61ea4cf4b419b66606ab4265494": {
          "model_module": "@jupyter-widgets/controls",
          "model_name": "ProgressStyleModel",
          "model_module_version": "1.5.0",
          "state": {
            "_model_module": "@jupyter-widgets/controls",
            "_model_module_version": "1.5.0",
            "_model_name": "ProgressStyleModel",
            "_view_count": null,
            "_view_module": "@jupyter-widgets/base",
            "_view_module_version": "1.2.0",
            "_view_name": "StyleView",
            "bar_color": null,
            "description_width": ""
          }
        },
        "710b828100834d839432b02df5a2ba99": {
          "model_module": "@jupyter-widgets/controls",
          "model_name": "VBoxModel",
          "model_module_version": "1.5.0",
          "state": {
            "_dom_classes": [],
            "_model_module": "@jupyter-widgets/controls",
            "_model_module_version": "1.5.0",
            "_model_name": "VBoxModel",
            "_view_count": null,
            "_view_module": "@jupyter-widgets/controls",
            "_view_module_version": "1.5.0",
            "_view_name": "VBoxView",
            "box_style": "",
            "children": [
              "IPY_MODEL_8acdb034b7a94e18bb0061b69e36eccb",
              "IPY_MODEL_6c15ea3732ee42c99bbc6c8687d157fe"
            ],
            "layout": "IPY_MODEL_74f6d2f79809411eb043a1d86f7d1825"
          }
        },
        "8acdb034b7a94e18bb0061b69e36eccb": {
          "model_module": "@jupyter-widgets/controls",
          "model_name": "LabelModel",
          "model_module_version": "1.5.0",
          "state": {
            "_dom_classes": [],
            "_model_module": "@jupyter-widgets/controls",
            "_model_module_version": "1.5.0",
            "_model_name": "LabelModel",
            "_view_count": null,
            "_view_module": "@jupyter-widgets/controls",
            "_view_module_version": "1.5.0",
            "_view_name": "LabelView",
            "description": "",
            "description_tooltip": null,
            "layout": "IPY_MODEL_ba3b248772bd493aa9d1fc7f12593e94",
            "placeholder": "​",
            "style": "IPY_MODEL_0c9ad130a62145319fcb711e5366431d",
            "value": "0.014 MB of 0.014 MB uploaded\r"
          }
        },
        "6c15ea3732ee42c99bbc6c8687d157fe": {
          "model_module": "@jupyter-widgets/controls",
          "model_name": "FloatProgressModel",
          "model_module_version": "1.5.0",
          "state": {
            "_dom_classes": [],
            "_model_module": "@jupyter-widgets/controls",
            "_model_module_version": "1.5.0",
            "_model_name": "FloatProgressModel",
            "_view_count": null,
            "_view_module": "@jupyter-widgets/controls",
            "_view_module_version": "1.5.0",
            "_view_name": "ProgressView",
            "bar_style": "",
            "description": "",
            "description_tooltip": null,
            "layout": "IPY_MODEL_572d0b93ba8d4b099e15ae425cab9909",
            "max": 1,
            "min": 0,
            "orientation": "horizontal",
            "style": "IPY_MODEL_168bdd5f2ccb4d0b831dcb237b594d31",
            "value": 1
          }
        },
        "74f6d2f79809411eb043a1d86f7d1825": {
          "model_module": "@jupyter-widgets/base",
          "model_name": "LayoutModel",
          "model_module_version": "1.2.0",
          "state": {
            "_model_module": "@jupyter-widgets/base",
            "_model_module_version": "1.2.0",
            "_model_name": "LayoutModel",
            "_view_count": null,
            "_view_module": "@jupyter-widgets/base",
            "_view_module_version": "1.2.0",
            "_view_name": "LayoutView",
            "align_content": null,
            "align_items": null,
            "align_self": null,
            "border": null,
            "bottom": null,
            "display": null,
            "flex": null,
            "flex_flow": null,
            "grid_area": null,
            "grid_auto_columns": null,
            "grid_auto_flow": null,
            "grid_auto_rows": null,
            "grid_column": null,
            "grid_gap": null,
            "grid_row": null,
            "grid_template_areas": null,
            "grid_template_columns": null,
            "grid_template_rows": null,
            "height": null,
            "justify_content": null,
            "justify_items": null,
            "left": null,
            "margin": null,
            "max_height": null,
            "max_width": null,
            "min_height": null,
            "min_width": null,
            "object_fit": null,
            "object_position": null,
            "order": null,
            "overflow": null,
            "overflow_x": null,
            "overflow_y": null,
            "padding": null,
            "right": null,
            "top": null,
            "visibility": null,
            "width": null
          }
        },
        "ba3b248772bd493aa9d1fc7f12593e94": {
          "model_module": "@jupyter-widgets/base",
          "model_name": "LayoutModel",
          "model_module_version": "1.2.0",
          "state": {
            "_model_module": "@jupyter-widgets/base",
            "_model_module_version": "1.2.0",
            "_model_name": "LayoutModel",
            "_view_count": null,
            "_view_module": "@jupyter-widgets/base",
            "_view_module_version": "1.2.0",
            "_view_name": "LayoutView",
            "align_content": null,
            "align_items": null,
            "align_self": null,
            "border": null,
            "bottom": null,
            "display": null,
            "flex": null,
            "flex_flow": null,
            "grid_area": null,
            "grid_auto_columns": null,
            "grid_auto_flow": null,
            "grid_auto_rows": null,
            "grid_column": null,
            "grid_gap": null,
            "grid_row": null,
            "grid_template_areas": null,
            "grid_template_columns": null,
            "grid_template_rows": null,
            "height": null,
            "justify_content": null,
            "justify_items": null,
            "left": null,
            "margin": null,
            "max_height": null,
            "max_width": null,
            "min_height": null,
            "min_width": null,
            "object_fit": null,
            "object_position": null,
            "order": null,
            "overflow": null,
            "overflow_x": null,
            "overflow_y": null,
            "padding": null,
            "right": null,
            "top": null,
            "visibility": null,
            "width": null
          }
        },
        "0c9ad130a62145319fcb711e5366431d": {
          "model_module": "@jupyter-widgets/controls",
          "model_name": "DescriptionStyleModel",
          "model_module_version": "1.5.0",
          "state": {
            "_model_module": "@jupyter-widgets/controls",
            "_model_module_version": "1.5.0",
            "_model_name": "DescriptionStyleModel",
            "_view_count": null,
            "_view_module": "@jupyter-widgets/base",
            "_view_module_version": "1.2.0",
            "_view_name": "StyleView",
            "description_width": ""
          }
        },
        "572d0b93ba8d4b099e15ae425cab9909": {
          "model_module": "@jupyter-widgets/base",
          "model_name": "LayoutModel",
          "model_module_version": "1.2.0",
          "state": {
            "_model_module": "@jupyter-widgets/base",
            "_model_module_version": "1.2.0",
            "_model_name": "LayoutModel",
            "_view_count": null,
            "_view_module": "@jupyter-widgets/base",
            "_view_module_version": "1.2.0",
            "_view_name": "LayoutView",
            "align_content": null,
            "align_items": null,
            "align_self": null,
            "border": null,
            "bottom": null,
            "display": null,
            "flex": null,
            "flex_flow": null,
            "grid_area": null,
            "grid_auto_columns": null,
            "grid_auto_flow": null,
            "grid_auto_rows": null,
            "grid_column": null,
            "grid_gap": null,
            "grid_row": null,
            "grid_template_areas": null,
            "grid_template_columns": null,
            "grid_template_rows": null,
            "height": null,
            "justify_content": null,
            "justify_items": null,
            "left": null,
            "margin": null,
            "max_height": null,
            "max_width": null,
            "min_height": null,
            "min_width": null,
            "object_fit": null,
            "object_position": null,
            "order": null,
            "overflow": null,
            "overflow_x": null,
            "overflow_y": null,
            "padding": null,
            "right": null,
            "top": null,
            "visibility": null,
            "width": null
          }
        },
        "168bdd5f2ccb4d0b831dcb237b594d31": {
          "model_module": "@jupyter-widgets/controls",
          "model_name": "ProgressStyleModel",
          "model_module_version": "1.5.0",
          "state": {
            "_model_module": "@jupyter-widgets/controls",
            "_model_module_version": "1.5.0",
            "_model_name": "ProgressStyleModel",
            "_view_count": null,
            "_view_module": "@jupyter-widgets/base",
            "_view_module_version": "1.2.0",
            "_view_name": "StyleView",
            "bar_color": null,
            "description_width": ""
          }
        },
        "0bc23264b8f14eb4b29317aa9a6e4827": {
          "model_module": "@jupyter-widgets/controls",
          "model_name": "VBoxModel",
          "model_module_version": "1.5.0",
          "state": {
            "_dom_classes": [],
            "_model_module": "@jupyter-widgets/controls",
            "_model_module_version": "1.5.0",
            "_model_name": "VBoxModel",
            "_view_count": null,
            "_view_module": "@jupyter-widgets/controls",
            "_view_module_version": "1.5.0",
            "_view_name": "VBoxView",
            "box_style": "",
            "children": [
              "IPY_MODEL_1ac671a9d2d34517968522ab531cca0c",
              "IPY_MODEL_b34d7e59392640568bf7e7539dfab591"
            ],
            "layout": "IPY_MODEL_c9b16350025449d1be25190918583949"
          }
        },
        "1ac671a9d2d34517968522ab531cca0c": {
          "model_module": "@jupyter-widgets/controls",
          "model_name": "LabelModel",
          "model_module_version": "1.5.0",
          "state": {
            "_dom_classes": [],
            "_model_module": "@jupyter-widgets/controls",
            "_model_module_version": "1.5.0",
            "_model_name": "LabelModel",
            "_view_count": null,
            "_view_module": "@jupyter-widgets/controls",
            "_view_module_version": "1.5.0",
            "_view_name": "LabelView",
            "description": "",
            "description_tooltip": null,
            "layout": "IPY_MODEL_1e62eb0efbf8444aa231e90592f3cec7",
            "placeholder": "​",
            "style": "IPY_MODEL_7f0035b9df75430e879407371fa69970",
            "value": "0.012 MB of 0.012 MB uploaded\r"
          }
        },
        "b34d7e59392640568bf7e7539dfab591": {
          "model_module": "@jupyter-widgets/controls",
          "model_name": "FloatProgressModel",
          "model_module_version": "1.5.0",
          "state": {
            "_dom_classes": [],
            "_model_module": "@jupyter-widgets/controls",
            "_model_module_version": "1.5.0",
            "_model_name": "FloatProgressModel",
            "_view_count": null,
            "_view_module": "@jupyter-widgets/controls",
            "_view_module_version": "1.5.0",
            "_view_name": "ProgressView",
            "bar_style": "",
            "description": "",
            "description_tooltip": null,
            "layout": "IPY_MODEL_78f0b238569e4924873308e7dadf1f29",
            "max": 1,
            "min": 0,
            "orientation": "horizontal",
            "style": "IPY_MODEL_39435f2bc20d47239c05b7caf0d55a61",
            "value": 1
          }
        },
        "c9b16350025449d1be25190918583949": {
          "model_module": "@jupyter-widgets/base",
          "model_name": "LayoutModel",
          "model_module_version": "1.2.0",
          "state": {
            "_model_module": "@jupyter-widgets/base",
            "_model_module_version": "1.2.0",
            "_model_name": "LayoutModel",
            "_view_count": null,
            "_view_module": "@jupyter-widgets/base",
            "_view_module_version": "1.2.0",
            "_view_name": "LayoutView",
            "align_content": null,
            "align_items": null,
            "align_self": null,
            "border": null,
            "bottom": null,
            "display": null,
            "flex": null,
            "flex_flow": null,
            "grid_area": null,
            "grid_auto_columns": null,
            "grid_auto_flow": null,
            "grid_auto_rows": null,
            "grid_column": null,
            "grid_gap": null,
            "grid_row": null,
            "grid_template_areas": null,
            "grid_template_columns": null,
            "grid_template_rows": null,
            "height": null,
            "justify_content": null,
            "justify_items": null,
            "left": null,
            "margin": null,
            "max_height": null,
            "max_width": null,
            "min_height": null,
            "min_width": null,
            "object_fit": null,
            "object_position": null,
            "order": null,
            "overflow": null,
            "overflow_x": null,
            "overflow_y": null,
            "padding": null,
            "right": null,
            "top": null,
            "visibility": null,
            "width": null
          }
        },
        "1e62eb0efbf8444aa231e90592f3cec7": {
          "model_module": "@jupyter-widgets/base",
          "model_name": "LayoutModel",
          "model_module_version": "1.2.0",
          "state": {
            "_model_module": "@jupyter-widgets/base",
            "_model_module_version": "1.2.0",
            "_model_name": "LayoutModel",
            "_view_count": null,
            "_view_module": "@jupyter-widgets/base",
            "_view_module_version": "1.2.0",
            "_view_name": "LayoutView",
            "align_content": null,
            "align_items": null,
            "align_self": null,
            "border": null,
            "bottom": null,
            "display": null,
            "flex": null,
            "flex_flow": null,
            "grid_area": null,
            "grid_auto_columns": null,
            "grid_auto_flow": null,
            "grid_auto_rows": null,
            "grid_column": null,
            "grid_gap": null,
            "grid_row": null,
            "grid_template_areas": null,
            "grid_template_columns": null,
            "grid_template_rows": null,
            "height": null,
            "justify_content": null,
            "justify_items": null,
            "left": null,
            "margin": null,
            "max_height": null,
            "max_width": null,
            "min_height": null,
            "min_width": null,
            "object_fit": null,
            "object_position": null,
            "order": null,
            "overflow": null,
            "overflow_x": null,
            "overflow_y": null,
            "padding": null,
            "right": null,
            "top": null,
            "visibility": null,
            "width": null
          }
        },
        "7f0035b9df75430e879407371fa69970": {
          "model_module": "@jupyter-widgets/controls",
          "model_name": "DescriptionStyleModel",
          "model_module_version": "1.5.0",
          "state": {
            "_model_module": "@jupyter-widgets/controls",
            "_model_module_version": "1.5.0",
            "_model_name": "DescriptionStyleModel",
            "_view_count": null,
            "_view_module": "@jupyter-widgets/base",
            "_view_module_version": "1.2.0",
            "_view_name": "StyleView",
            "description_width": ""
          }
        },
        "78f0b238569e4924873308e7dadf1f29": {
          "model_module": "@jupyter-widgets/base",
          "model_name": "LayoutModel",
          "model_module_version": "1.2.0",
          "state": {
            "_model_module": "@jupyter-widgets/base",
            "_model_module_version": "1.2.0",
            "_model_name": "LayoutModel",
            "_view_count": null,
            "_view_module": "@jupyter-widgets/base",
            "_view_module_version": "1.2.0",
            "_view_name": "LayoutView",
            "align_content": null,
            "align_items": null,
            "align_self": null,
            "border": null,
            "bottom": null,
            "display": null,
            "flex": null,
            "flex_flow": null,
            "grid_area": null,
            "grid_auto_columns": null,
            "grid_auto_flow": null,
            "grid_auto_rows": null,
            "grid_column": null,
            "grid_gap": null,
            "grid_row": null,
            "grid_template_areas": null,
            "grid_template_columns": null,
            "grid_template_rows": null,
            "height": null,
            "justify_content": null,
            "justify_items": null,
            "left": null,
            "margin": null,
            "max_height": null,
            "max_width": null,
            "min_height": null,
            "min_width": null,
            "object_fit": null,
            "object_position": null,
            "order": null,
            "overflow": null,
            "overflow_x": null,
            "overflow_y": null,
            "padding": null,
            "right": null,
            "top": null,
            "visibility": null,
            "width": null
          }
        },
        "39435f2bc20d47239c05b7caf0d55a61": {
          "model_module": "@jupyter-widgets/controls",
          "model_name": "ProgressStyleModel",
          "model_module_version": "1.5.0",
          "state": {
            "_model_module": "@jupyter-widgets/controls",
            "_model_module_version": "1.5.0",
            "_model_name": "ProgressStyleModel",
            "_view_count": null,
            "_view_module": "@jupyter-widgets/base",
            "_view_module_version": "1.2.0",
            "_view_name": "StyleView",
            "bar_color": null,
            "description_width": ""
          }
        },
        "04de3fc2e769492fb834c6083e4ce3ad": {
          "model_module": "@jupyter-widgets/controls",
          "model_name": "VBoxModel",
          "model_module_version": "1.5.0",
          "state": {
            "_dom_classes": [],
            "_model_module": "@jupyter-widgets/controls",
            "_model_module_version": "1.5.0",
            "_model_name": "VBoxModel",
            "_view_count": null,
            "_view_module": "@jupyter-widgets/controls",
            "_view_module_version": "1.5.0",
            "_view_name": "VBoxView",
            "box_style": "",
            "children": [
              "IPY_MODEL_8e58df346de9443d8f854f0691ddef54",
              "IPY_MODEL_23e7266d96074569935035769f461f08"
            ],
            "layout": "IPY_MODEL_e34aa61f5e014f798d889311f27e94da"
          }
        },
        "8e58df346de9443d8f854f0691ddef54": {
          "model_module": "@jupyter-widgets/controls",
          "model_name": "LabelModel",
          "model_module_version": "1.5.0",
          "state": {
            "_dom_classes": [],
            "_model_module": "@jupyter-widgets/controls",
            "_model_module_version": "1.5.0",
            "_model_name": "LabelModel",
            "_view_count": null,
            "_view_module": "@jupyter-widgets/controls",
            "_view_module_version": "1.5.0",
            "_view_name": "LabelView",
            "description": "",
            "description_tooltip": null,
            "layout": "IPY_MODEL_0c3cb2cb9e7d4efb8169c379c4514e5d",
            "placeholder": "​",
            "style": "IPY_MODEL_380ecefea056453f8fc75b28166212a9",
            "value": "0.012 MB of 0.012 MB uploaded\r"
          }
        },
        "23e7266d96074569935035769f461f08": {
          "model_module": "@jupyter-widgets/controls",
          "model_name": "FloatProgressModel",
          "model_module_version": "1.5.0",
          "state": {
            "_dom_classes": [],
            "_model_module": "@jupyter-widgets/controls",
            "_model_module_version": "1.5.0",
            "_model_name": "FloatProgressModel",
            "_view_count": null,
            "_view_module": "@jupyter-widgets/controls",
            "_view_module_version": "1.5.0",
            "_view_name": "ProgressView",
            "bar_style": "",
            "description": "",
            "description_tooltip": null,
            "layout": "IPY_MODEL_e36d56fad15348cda84285228cd97a90",
            "max": 1,
            "min": 0,
            "orientation": "horizontal",
            "style": "IPY_MODEL_82f0563e6e0c438fb411df055fe39b83",
            "value": 1
          }
        },
        "e34aa61f5e014f798d889311f27e94da": {
          "model_module": "@jupyter-widgets/base",
          "model_name": "LayoutModel",
          "model_module_version": "1.2.0",
          "state": {
            "_model_module": "@jupyter-widgets/base",
            "_model_module_version": "1.2.0",
            "_model_name": "LayoutModel",
            "_view_count": null,
            "_view_module": "@jupyter-widgets/base",
            "_view_module_version": "1.2.0",
            "_view_name": "LayoutView",
            "align_content": null,
            "align_items": null,
            "align_self": null,
            "border": null,
            "bottom": null,
            "display": null,
            "flex": null,
            "flex_flow": null,
            "grid_area": null,
            "grid_auto_columns": null,
            "grid_auto_flow": null,
            "grid_auto_rows": null,
            "grid_column": null,
            "grid_gap": null,
            "grid_row": null,
            "grid_template_areas": null,
            "grid_template_columns": null,
            "grid_template_rows": null,
            "height": null,
            "justify_content": null,
            "justify_items": null,
            "left": null,
            "margin": null,
            "max_height": null,
            "max_width": null,
            "min_height": null,
            "min_width": null,
            "object_fit": null,
            "object_position": null,
            "order": null,
            "overflow": null,
            "overflow_x": null,
            "overflow_y": null,
            "padding": null,
            "right": null,
            "top": null,
            "visibility": null,
            "width": null
          }
        },
        "0c3cb2cb9e7d4efb8169c379c4514e5d": {
          "model_module": "@jupyter-widgets/base",
          "model_name": "LayoutModel",
          "model_module_version": "1.2.0",
          "state": {
            "_model_module": "@jupyter-widgets/base",
            "_model_module_version": "1.2.0",
            "_model_name": "LayoutModel",
            "_view_count": null,
            "_view_module": "@jupyter-widgets/base",
            "_view_module_version": "1.2.0",
            "_view_name": "LayoutView",
            "align_content": null,
            "align_items": null,
            "align_self": null,
            "border": null,
            "bottom": null,
            "display": null,
            "flex": null,
            "flex_flow": null,
            "grid_area": null,
            "grid_auto_columns": null,
            "grid_auto_flow": null,
            "grid_auto_rows": null,
            "grid_column": null,
            "grid_gap": null,
            "grid_row": null,
            "grid_template_areas": null,
            "grid_template_columns": null,
            "grid_template_rows": null,
            "height": null,
            "justify_content": null,
            "justify_items": null,
            "left": null,
            "margin": null,
            "max_height": null,
            "max_width": null,
            "min_height": null,
            "min_width": null,
            "object_fit": null,
            "object_position": null,
            "order": null,
            "overflow": null,
            "overflow_x": null,
            "overflow_y": null,
            "padding": null,
            "right": null,
            "top": null,
            "visibility": null,
            "width": null
          }
        },
        "380ecefea056453f8fc75b28166212a9": {
          "model_module": "@jupyter-widgets/controls",
          "model_name": "DescriptionStyleModel",
          "model_module_version": "1.5.0",
          "state": {
            "_model_module": "@jupyter-widgets/controls",
            "_model_module_version": "1.5.0",
            "_model_name": "DescriptionStyleModel",
            "_view_count": null,
            "_view_module": "@jupyter-widgets/base",
            "_view_module_version": "1.2.0",
            "_view_name": "StyleView",
            "description_width": ""
          }
        },
        "e36d56fad15348cda84285228cd97a90": {
          "model_module": "@jupyter-widgets/base",
          "model_name": "LayoutModel",
          "model_module_version": "1.2.0",
          "state": {
            "_model_module": "@jupyter-widgets/base",
            "_model_module_version": "1.2.0",
            "_model_name": "LayoutModel",
            "_view_count": null,
            "_view_module": "@jupyter-widgets/base",
            "_view_module_version": "1.2.0",
            "_view_name": "LayoutView",
            "align_content": null,
            "align_items": null,
            "align_self": null,
            "border": null,
            "bottom": null,
            "display": null,
            "flex": null,
            "flex_flow": null,
            "grid_area": null,
            "grid_auto_columns": null,
            "grid_auto_flow": null,
            "grid_auto_rows": null,
            "grid_column": null,
            "grid_gap": null,
            "grid_row": null,
            "grid_template_areas": null,
            "grid_template_columns": null,
            "grid_template_rows": null,
            "height": null,
            "justify_content": null,
            "justify_items": null,
            "left": null,
            "margin": null,
            "max_height": null,
            "max_width": null,
            "min_height": null,
            "min_width": null,
            "object_fit": null,
            "object_position": null,
            "order": null,
            "overflow": null,
            "overflow_x": null,
            "overflow_y": null,
            "padding": null,
            "right": null,
            "top": null,
            "visibility": null,
            "width": null
          }
        },
        "82f0563e6e0c438fb411df055fe39b83": {
          "model_module": "@jupyter-widgets/controls",
          "model_name": "ProgressStyleModel",
          "model_module_version": "1.5.0",
          "state": {
            "_model_module": "@jupyter-widgets/controls",
            "_model_module_version": "1.5.0",
            "_model_name": "ProgressStyleModel",
            "_view_count": null,
            "_view_module": "@jupyter-widgets/base",
            "_view_module_version": "1.2.0",
            "_view_name": "StyleView",
            "bar_color": null,
            "description_width": ""
          }
        },
        "9c0ea68d98944df7a7fcecc9e2741f5c": {
          "model_module": "@jupyter-widgets/controls",
          "model_name": "VBoxModel",
          "model_module_version": "1.5.0",
          "state": {
            "_dom_classes": [],
            "_model_module": "@jupyter-widgets/controls",
            "_model_module_version": "1.5.0",
            "_model_name": "VBoxModel",
            "_view_count": null,
            "_view_module": "@jupyter-widgets/controls",
            "_view_module_version": "1.5.0",
            "_view_name": "VBoxView",
            "box_style": "",
            "children": [
              "IPY_MODEL_3d612958a16f489db60f5440a278eed9",
              "IPY_MODEL_8c22f5ebeace4b8cb388850b5bfbe108"
            ],
            "layout": "IPY_MODEL_4a5c99f4875f4fe4b8d5f6cc46e6392c"
          }
        },
        "3d612958a16f489db60f5440a278eed9": {
          "model_module": "@jupyter-widgets/controls",
          "model_name": "LabelModel",
          "model_module_version": "1.5.0",
          "state": {
            "_dom_classes": [],
            "_model_module": "@jupyter-widgets/controls",
            "_model_module_version": "1.5.0",
            "_model_name": "LabelModel",
            "_view_count": null,
            "_view_module": "@jupyter-widgets/controls",
            "_view_module_version": "1.5.0",
            "_view_name": "LabelView",
            "description": "",
            "description_tooltip": null,
            "layout": "IPY_MODEL_90556f9016c8487e8174f6d82f434acf",
            "placeholder": "​",
            "style": "IPY_MODEL_9878ea1f854a4dc5985757553099436d",
            "value": "0.014 MB of 0.014 MB uploaded\r"
          }
        },
        "8c22f5ebeace4b8cb388850b5bfbe108": {
          "model_module": "@jupyter-widgets/controls",
          "model_name": "FloatProgressModel",
          "model_module_version": "1.5.0",
          "state": {
            "_dom_classes": [],
            "_model_module": "@jupyter-widgets/controls",
            "_model_module_version": "1.5.0",
            "_model_name": "FloatProgressModel",
            "_view_count": null,
            "_view_module": "@jupyter-widgets/controls",
            "_view_module_version": "1.5.0",
            "_view_name": "ProgressView",
            "bar_style": "",
            "description": "",
            "description_tooltip": null,
            "layout": "IPY_MODEL_020b7122e15e48719b22b4e91ec82b14",
            "max": 1,
            "min": 0,
            "orientation": "horizontal",
            "style": "IPY_MODEL_6e8da851a0a5413791a0da6838b5c201",
            "value": 1
          }
        },
        "4a5c99f4875f4fe4b8d5f6cc46e6392c": {
          "model_module": "@jupyter-widgets/base",
          "model_name": "LayoutModel",
          "model_module_version": "1.2.0",
          "state": {
            "_model_module": "@jupyter-widgets/base",
            "_model_module_version": "1.2.0",
            "_model_name": "LayoutModel",
            "_view_count": null,
            "_view_module": "@jupyter-widgets/base",
            "_view_module_version": "1.2.0",
            "_view_name": "LayoutView",
            "align_content": null,
            "align_items": null,
            "align_self": null,
            "border": null,
            "bottom": null,
            "display": null,
            "flex": null,
            "flex_flow": null,
            "grid_area": null,
            "grid_auto_columns": null,
            "grid_auto_flow": null,
            "grid_auto_rows": null,
            "grid_column": null,
            "grid_gap": null,
            "grid_row": null,
            "grid_template_areas": null,
            "grid_template_columns": null,
            "grid_template_rows": null,
            "height": null,
            "justify_content": null,
            "justify_items": null,
            "left": null,
            "margin": null,
            "max_height": null,
            "max_width": null,
            "min_height": null,
            "min_width": null,
            "object_fit": null,
            "object_position": null,
            "order": null,
            "overflow": null,
            "overflow_x": null,
            "overflow_y": null,
            "padding": null,
            "right": null,
            "top": null,
            "visibility": null,
            "width": null
          }
        },
        "90556f9016c8487e8174f6d82f434acf": {
          "model_module": "@jupyter-widgets/base",
          "model_name": "LayoutModel",
          "model_module_version": "1.2.0",
          "state": {
            "_model_module": "@jupyter-widgets/base",
            "_model_module_version": "1.2.0",
            "_model_name": "LayoutModel",
            "_view_count": null,
            "_view_module": "@jupyter-widgets/base",
            "_view_module_version": "1.2.0",
            "_view_name": "LayoutView",
            "align_content": null,
            "align_items": null,
            "align_self": null,
            "border": null,
            "bottom": null,
            "display": null,
            "flex": null,
            "flex_flow": null,
            "grid_area": null,
            "grid_auto_columns": null,
            "grid_auto_flow": null,
            "grid_auto_rows": null,
            "grid_column": null,
            "grid_gap": null,
            "grid_row": null,
            "grid_template_areas": null,
            "grid_template_columns": null,
            "grid_template_rows": null,
            "height": null,
            "justify_content": null,
            "justify_items": null,
            "left": null,
            "margin": null,
            "max_height": null,
            "max_width": null,
            "min_height": null,
            "min_width": null,
            "object_fit": null,
            "object_position": null,
            "order": null,
            "overflow": null,
            "overflow_x": null,
            "overflow_y": null,
            "padding": null,
            "right": null,
            "top": null,
            "visibility": null,
            "width": null
          }
        },
        "9878ea1f854a4dc5985757553099436d": {
          "model_module": "@jupyter-widgets/controls",
          "model_name": "DescriptionStyleModel",
          "model_module_version": "1.5.0",
          "state": {
            "_model_module": "@jupyter-widgets/controls",
            "_model_module_version": "1.5.0",
            "_model_name": "DescriptionStyleModel",
            "_view_count": null,
            "_view_module": "@jupyter-widgets/base",
            "_view_module_version": "1.2.0",
            "_view_name": "StyleView",
            "description_width": ""
          }
        },
        "020b7122e15e48719b22b4e91ec82b14": {
          "model_module": "@jupyter-widgets/base",
          "model_name": "LayoutModel",
          "model_module_version": "1.2.0",
          "state": {
            "_model_module": "@jupyter-widgets/base",
            "_model_module_version": "1.2.0",
            "_model_name": "LayoutModel",
            "_view_count": null,
            "_view_module": "@jupyter-widgets/base",
            "_view_module_version": "1.2.0",
            "_view_name": "LayoutView",
            "align_content": null,
            "align_items": null,
            "align_self": null,
            "border": null,
            "bottom": null,
            "display": null,
            "flex": null,
            "flex_flow": null,
            "grid_area": null,
            "grid_auto_columns": null,
            "grid_auto_flow": null,
            "grid_auto_rows": null,
            "grid_column": null,
            "grid_gap": null,
            "grid_row": null,
            "grid_template_areas": null,
            "grid_template_columns": null,
            "grid_template_rows": null,
            "height": null,
            "justify_content": null,
            "justify_items": null,
            "left": null,
            "margin": null,
            "max_height": null,
            "max_width": null,
            "min_height": null,
            "min_width": null,
            "object_fit": null,
            "object_position": null,
            "order": null,
            "overflow": null,
            "overflow_x": null,
            "overflow_y": null,
            "padding": null,
            "right": null,
            "top": null,
            "visibility": null,
            "width": null
          }
        },
        "6e8da851a0a5413791a0da6838b5c201": {
          "model_module": "@jupyter-widgets/controls",
          "model_name": "ProgressStyleModel",
          "model_module_version": "1.5.0",
          "state": {
            "_model_module": "@jupyter-widgets/controls",
            "_model_module_version": "1.5.0",
            "_model_name": "ProgressStyleModel",
            "_view_count": null,
            "_view_module": "@jupyter-widgets/base",
            "_view_module_version": "1.2.0",
            "_view_name": "StyleView",
            "bar_color": null,
            "description_width": ""
          }
        }
      }
    }
  },
  "cells": [
    {
      "cell_type": "markdown",
      "source": [
        "\n",
        "# CS6910 - Fundamentals of Deep Learning - Assignment 1\n",
        "\n",
        "\n",
        "##  Submitted by: NS24Z066 - LIKHITH KUMARA\n",
        "\n",
        "\n",
        "\n",
        "## Instructions\n",
        "\n",
        "The goal of this assignment is twofold:\n",
        "\n",
        "(i) implement and use gradient descent (and its variants) with\n",
        "backpropagation for a classification task\n",
        "\n",
        "(ii) get familiar with Wandb which is a cool tool for running and keeping track of a large number of experiments\n",
        "This is a individual assignment and no groups are allowed.\n",
        "Collaborations and discussions with other students is strictly prohibited.\n",
        "You must use Python (NumPy and Pandas) for your implementation.\n",
        "You cannot use the following packages from Keras, PyTorch, Tensorflow: optimizers, layers\n",
        "If you are using any packages from Keras, PyTorch, Tensorflow then post on Moodle first to check with the instructor.\n",
        "You have to generate the report in the same format as shown below using wandb.ai. You can start by cloning this report using the clone option above. Most of the plots that we have asked for below can be (automatically) generated using the APIs provided by wandb.ai. You will upload a link to this report on Gradescope.\n",
        "You also need to provide a link to your GitHub code as shown below. Follow good software engineering practices and set up a GitHub repo for the project on Day\n",
        "\n",
        "1. Please do not write all code on your local machine and push everything to GitHub on the last day. The commits in GitHub should reflect how the code has evolved during the course of the assignment.\n",
        "You have to check Moodle regularly for updates regarding the assignment.\n",
        "\n",
        "## Problem Statement\n",
        "In this assignment you need to implement a feedforward neural network and write the backpropagation code for training the network. We strongly recommend using numpy for all matrix/vector operations. You are not allowed to use any automatic differentiation packages. This network will be trained and\n",
        "tested using the Fashion-MNIST dataset. Specifically, given an input image (28 x 28 = 784\n",
        "pixels) from the Fashion-MNIST dataset, the network will be trained to classify the image into 1 of 10 classes.\n"
      ],
      "metadata": {
        "id": "z4dSdfrnZu16"
      }
    },
    {
      "cell_type": "code",
      "source": [
        "!pip install -qq -U wandb\n",
        "# Log in to your W&B account\n",
        "import wandb\n",
        "from google.colab import userdata\n",
        "wandb.login(key = userdata.get('WANDB_API_KEY'), verify = True)\n",
        "\n",
        "run = wandb.init(\n",
        "      # Set the project where this run will be logged\n",
        "      project=\"CS6910-Assignment-1\"\n",
        "      )\n",
        "\n"
      ],
      "metadata": {
        "colab": {
          "base_uri": "https://localhost:8080/",
          "height": 410,
          "referenced_widgets": [
            "09eafaa1d5bb4ee4ad004a5c8c142d6e",
            "4763280b2e7c4775b2a8cef0d8c3dd4f",
            "07765110505048e8862e6924747db2e8",
            "aefcf0798e3c41b488f3d202cf1896a7",
            "caa817b28d064846b2a5b80323871758",
            "6abd1059f8974baca9bee7ade875b827",
            "f45361c078cd4241ba8c05e9437b2b97",
            "89725f768e424f2eaf3691220f790696"
          ]
        },
        "id": "6DS2wkdHkO2B",
        "outputId": "6f8d2315-df07-4835-f8d2-487b45b7412f"
      },
      "execution_count": 6,
      "outputs": [
        {
          "output_type": "stream",
          "name": "stderr",
          "text": [
            "\u001b[34m\u001b[1mwandb\u001b[0m: \u001b[33mWARNING\u001b[0m Calling wandb.login() after wandb.init() has no effect.\n"
          ]
        },
        {
          "output_type": "display_data",
          "data": {
            "text/plain": [
              "<IPython.core.display.HTML object>"
            ],
            "text/html": [
              "Finishing last run (ID:wkd2903f) before initializing another..."
            ]
          },
          "metadata": {}
        },
        {
          "output_type": "display_data",
          "data": {
            "text/plain": [
              "VBox(children=(Label(value='0.049 MB of 0.049 MB uploaded\\r'), FloatProgress(value=1.0, max=1.0)))"
            ],
            "application/vnd.jupyter.widget-view+json": {
              "version_major": 2,
              "version_minor": 0,
              "model_id": "09eafaa1d5bb4ee4ad004a5c8c142d6e"
            }
          },
          "metadata": {}
        },
        {
          "output_type": "display_data",
          "data": {
            "text/plain": [
              "<IPython.core.display.HTML object>"
            ],
            "text/html": [
              "<style>\n",
              "    table.wandb td:nth-child(1) { padding: 0 10px; text-align: left ; width: auto;} td:nth-child(2) {text-align: left ; width: 100%}\n",
              "    .wandb-row { display: flex; flex-direction: row; flex-wrap: wrap; justify-content: flex-start; width: 100% }\n",
              "    .wandb-col { display: flex; flex-direction: column; flex-basis: 100%; flex: 1; padding: 10px; }\n",
              "    </style>\n",
              "<div class=\"wandb-row\"><div class=\"wandb-col\"><h3>Run history:</h3><br/><table class=\"wandb\"><tr><td>accuracy</td><td>▁▄▅▇▇█</td></tr><tr><td>epoch</td><td>▁▂▄▅▇█</td></tr><tr><td>loss</td><td>█▅▄▃▂▁</td></tr><tr><td>val_accuracy</td><td>▁▄▆▆▇█</td></tr><tr><td>val_loss</td><td>█▅▃▂▂▁</td></tr></table><br/></div><div class=\"wandb-col\"><h3>Run summary:</h3><br/><table class=\"wandb\"><tr><td>accuracy</td><td>0.864</td></tr><tr><td>epoch</td><td>5</td></tr><tr><td>loss</td><td>22015.68</td></tr><tr><td>val_accuracy</td><td>0.851</td></tr><tr><td>val_loss</td><td>2631.55</td></tr></table><br/></div></div>"
            ]
          },
          "metadata": {}
        },
        {
          "output_type": "display_data",
          "data": {
            "text/plain": [
              "<IPython.core.display.HTML object>"
            ],
            "text/html": [
              " View run <strong style=\"color:#cdcd00\">trim-frog-158</strong> at: <a href='https://wandb.ai/ns24z066/CS6910-Assignment-1/runs/wkd2903f' target=\"_blank\">https://wandb.ai/ns24z066/CS6910-Assignment-1/runs/wkd2903f</a><br/>Synced 5 W&B file(s), 100 media file(s), 0 artifact file(s) and 0 other file(s)"
            ]
          },
          "metadata": {}
        },
        {
          "output_type": "display_data",
          "data": {
            "text/plain": [
              "<IPython.core.display.HTML object>"
            ],
            "text/html": [
              "Find logs at: <code>./wandb/run-20240317_152203-wkd2903f/logs</code>"
            ]
          },
          "metadata": {}
        },
        {
          "output_type": "display_data",
          "data": {
            "text/plain": [
              "<IPython.core.display.HTML object>"
            ],
            "text/html": [
              "Successfully finished last run (ID:wkd2903f). Initializing new run:<br/>"
            ]
          },
          "metadata": {}
        },
        {
          "output_type": "display_data",
          "data": {
            "text/plain": [
              "<IPython.core.display.HTML object>"
            ],
            "text/html": [
              "Tracking run with wandb version 0.16.4"
            ]
          },
          "metadata": {}
        },
        {
          "output_type": "display_data",
          "data": {
            "text/plain": [
              "<IPython.core.display.HTML object>"
            ],
            "text/html": [
              "Run data is saved locally in <code>/content/wandb/run-20240317_165018-zmths5vd</code>"
            ]
          },
          "metadata": {}
        },
        {
          "output_type": "display_data",
          "data": {
            "text/plain": [
              "<IPython.core.display.HTML object>"
            ],
            "text/html": [
              "Syncing run <strong><a href='https://wandb.ai/ns24z066/CS6910-Assignment-1/runs/zmths5vd' target=\"_blank\">rose-surf-159</a></strong> to <a href='https://wandb.ai/ns24z066/CS6910-Assignment-1' target=\"_blank\">Weights & Biases</a> (<a href='https://wandb.me/run' target=\"_blank\">docs</a>)<br/>"
            ]
          },
          "metadata": {}
        },
        {
          "output_type": "display_data",
          "data": {
            "text/plain": [
              "<IPython.core.display.HTML object>"
            ],
            "text/html": [
              " View project at <a href='https://wandb.ai/ns24z066/CS6910-Assignment-1' target=\"_blank\">https://wandb.ai/ns24z066/CS6910-Assignment-1</a>"
            ]
          },
          "metadata": {}
        },
        {
          "output_type": "display_data",
          "data": {
            "text/plain": [
              "<IPython.core.display.HTML object>"
            ],
            "text/html": [
              " View run at <a href='https://wandb.ai/ns24z066/CS6910-Assignment-1/runs/zmths5vd' target=\"_blank\">https://wandb.ai/ns24z066/CS6910-Assignment-1/runs/zmths5vd</a>"
            ]
          },
          "metadata": {}
        }
      ]
    },
    {
      "cell_type": "markdown",
      "source": [
        "\n",
        "\n",
        "## Question 1 (2 Marks)\n",
        "Download the fashion-MNIST dataset and plot 1 sample image for each class as shown in the grid below. Use from keras.datasets import fashion_mnist for getting the fashion mnist dataset.\n"
      ],
      "metadata": {
        "id": "LhJvjy6VZwzW"
      }
    },
    {
      "cell_type": "code",
      "source": [
        "from keras.datasets import fashion_mnist\n",
        "import numpy as np\n",
        "\n",
        "(x_train, y_train), (x_test, y_test) = fashion_mnist.load_data()\n",
        "fmnist_labels = {\n",
        "0 :\t'T-shirt/top',\n",
        "1 :\t'Trouser',\n",
        "2 :\t'Pullover',\n",
        "3 :\t'Dress',\n",
        "4 :\t'Coat',\n",
        "5 :\t'Sandal',\n",
        "6 :\t'Shirt',\n",
        "7 :\t'Sneaker',\n",
        "8 :\t'Bag',\n",
        "9 :\t'Ankle boot'}\n",
        "\n",
        "\n",
        "# Pre-Processing the data for training\n",
        "(x_train, y_train), (x_test, y_test) = fashion_mnist.load_data()\n",
        "\n",
        "# One hot encoding the output parameters, since this is a classification problem, in case of regression this is not needed\n",
        "one_hot_label = np.zeros([y_train.shape[0], len(np.unique(y_train)), 1], dtype=int)\n",
        "for index, item in enumerate(y_train):\n",
        "  one_hot_label[index, item] = [1]\n",
        "\n",
        "one_hot_label_test = np.zeros([y_test.shape[0], len(np.unique(y_test)), 1], dtype=int)\n",
        "for index, item in enumerate(y_test):\n",
        "  one_hot_label_test[index, item] = [1]\n",
        "\n",
        "# Flattening each image into shape (784, 1) as Neural network accepts only 1d series of data and then normalizing it with max value\n",
        "x_train_flattened = x_train.reshape(-1, 784, 1)/np.max(x_train)\n",
        "x_test_flattened = x_test.reshape(-1, 784, 1)/np.max(x_test)\n",
        "\n",
        "# It is given that 90% of the dataset is to be considered for training, while 10%  for validation\n",
        "train_records_count = int(len(x_train)*0.9)\n",
        "train_data={'inputs':x_train_flattened[:train_records_count], 'labels':one_hot_label[:train_records_count]}\n",
        "val_data={'inputs':x_train_flattened[train_records_count:], 'labels':one_hot_label[train_records_count:]}\n",
        "test_data={'inputs':x_test_flattened, 'labels': one_hot_label_test}"
      ],
      "metadata": {
        "id": "NlkoCgk4ehiP"
      },
      "execution_count": 7,
      "outputs": []
    },
    {
      "cell_type": "code",
      "source": [
        "# Addings 10 random sets of the unique labels from the keras fashion mnist dataset\n",
        "for _ in range(10):\n",
        "  rand_int = np.random.randint(6000)\n",
        "  samples = []\n",
        "  for i in np.unique(y_train):\n",
        "    index = np.where(y_train == i)[0][rand_int]\n",
        "    pixels = x_train[index]\n",
        "    image = wandb.Image(pixels, caption=f\"{fmnist_labels[y_train[index]]}\")\n",
        "    samples.append(image)\n",
        "\n",
        "  run.log({\"Random Samples 10 Labels\": samples})"
      ],
      "metadata": {
        "id": "yYlhxRX_lQ31"
      },
      "execution_count": 3,
      "outputs": []
    },
    {
      "cell_type": "markdown",
      "source": [
        "\n",
        "## Question 2 (10 Marks)\n",
        "Implement a feedforward neural network which takes images from the fashion-mnist data as input and outputs a probability distribution over the 10 classes.\n",
        "Your code should be flexible such that it is easy to change the number of hidden layers and the number of neurons in each hidden layer.\n"
      ],
      "metadata": {
        "id": "yJfh7Ul2eKcs"
      }
    },
    {
      "cell_type": "code",
      "source": [
        "# Sample of how to Call the NeuralNetwork class, Please check NeuralNetwork.py for complete implementaion\n",
        "from NeuralNetwork import NeuralNetwork\n",
        "\n",
        "layers = [{'num_neurons': 128, 'activation': 'tanh'}] * 5\n",
        "nn = NeuralNetwork(input_dim=x_train_flattened.shape[1], output_dim=one_hot_label.shape[1], nn_archtre=layers,\n",
        "                   last_layer_activation='softmax', weight_initializer='xavier')\n",
        "\n",
        "#Trying to predict class after training, the prediction is supposed to be accurate\n",
        "print('Predicted Class:', np.round(nn.feed_forward(x_train_flattened[1]), 2).tolist(), fmnist_labels[np.argmax(nn.feed_forward(x_train_flattened[1]))])\n",
        "\n",
        "#Actual Class\n",
        "print('Actual Class:', one_hot_label[1].tolist(), fmnist_labels[np.argmax(one_hot_label[1])])\n"
      ],
      "metadata": {
        "id": "9QX-Z3GJeiHo",
        "colab": {
          "base_uri": "https://localhost:8080/"
        },
        "outputId": "349ee84f-ba30-420a-8c6b-0ea90e269e6b"
      },
      "execution_count": 4,
      "outputs": [
        {
          "output_type": "stream",
          "name": "stdout",
          "text": [
            "Predicted Class: [[0.02], [0.01], [0.01], [0.15], [0.0], [0.0], [0.01], [0.06], [0.02], [0.71]] Ankle boot\n",
            "Actual Class: [[1], [0], [0], [0], [0], [0], [0], [0], [0], [0]] T-shirt/top\n"
          ]
        }
      ]
    },
    {
      "cell_type": "markdown",
      "source": [
        "\n",
        "## Question 3 (24 Marks)\n",
        "Implement the backpropagation algorithm with support for the following optimisation functions\n",
        "sgd\n",
        "momentum based gradient descent\n",
        "nesterov accelerated gradient descent\n",
        "rmsprop\n",
        "adam\n",
        "nadam\n",
        "(12 marks for the backpropagation framework and 2 marks for each of the optimisation algorithms above)\n",
        "We will check the code for implementation and ease of use (e.g., how easy it is to add a new optimisation algorithm such as Eve). Note that the code should be flexible enough to work with different batch sizes.\n",
        "\n"
      ],
      "metadata": {
        "id": "S9LFT4nveKZS"
      }
    },
    {
      "cell_type": "code",
      "source": [
        "test_records_count = int(len(x_train)*0.1)\n",
        "train_data={'inputs':x_train_flattened[:-test_records_count], 'labels':one_hot_label[:-test_records_count]}\n",
        "val_data={'inputs':x_train_flattened[-test_records_count:], 'labels':one_hot_label[-test_records_count:]}\n",
        "\n",
        "# Training using the parameters that were found to be best by sweeping in wandb\n",
        "nn.train(train_data=train_data, val_data=val_data, epochs=5, learning_rate=0.001,\n",
        "                 optimizer='adam', weight_decay=0, batch_size=64, print_every_epoch=1)\n",
        "\n",
        "#Trying to predict class after training, the prediction is supposed to be accurate\n",
        "print('Predicted Class:', np.round(nn.feed_forward(x_train_flattened[1]), 2).tolist(), fmnist_labels[np.argmax(nn.feed_forward(x_train_flattened[1]))])\n",
        "\n",
        "#Actual Class\n",
        "print('Actual Class:', one_hot_label[1].tolist(), fmnist_labels[np.argmax(one_hot_label[1])])\n"
      ],
      "metadata": {
        "id": "Bib8vFcGei15",
        "colab": {
          "base_uri": "https://localhost:8080/"
        },
        "outputId": "d194a1e3-daac-4bf3-fbfd-a4f6405aaaf6"
      },
      "execution_count": 17,
      "outputs": [
        {
          "output_type": "stream",
          "name": "stdout",
          "text": [
            "Using _adam_gradient_descent for traing optimization\n",
            "Seconds taken 6.04 batch: 1/843 val_loss_acc: (22102.91, 0.102)\n",
            "Seconds taken 43.19 batch: 423/843 val_loss_acc: (5430.58, 0.686)\n",
            "Mins taken 2.34 {'loss': 44007.94, 'accuracy': 0.726, 'val_loss': 4859.57, 'val_accuracy': 0.722, 'epoch': 0}\n",
            "Seconds taken 96.01 batch: 1/843 val_loss_acc: (4827.74, 0.715)\n",
            "Seconds taken 44.95 batch: 423/843 val_loss_acc: (4663.35, 0.728)\n",
            "Mins taken 2.33 {'loss': 40005.88, 'accuracy': 0.745, 'val_loss': 4436.92, 'val_accuracy': 0.743, 'epoch': 1}\n",
            "Seconds taken 95.19 batch: 1/843 val_loss_acc: (4312.39, 0.743)\n",
            "Seconds taken 43.3 batch: 423/843 val_loss_acc: (4357.08, 0.745)\n",
            "Mins taken 2.3 {'loss': 37781.39, 'accuracy': 0.759, 'val_loss': 4210.32, 'val_accuracy': 0.755, 'epoch': 2}\n",
            "Seconds taken 97.01 batch: 1/843 val_loss_acc: (4077.36, 0.758)\n",
            "Seconds taken 44.25 batch: 423/843 val_loss_acc: (4158.07, 0.757)\n",
            "Mins taken 2.34 {'loss': 36316.81, 'accuracy': 0.768, 'val_loss': 4065.97, 'val_accuracy': 0.759, 'epoch': 3}\n",
            "Seconds taken 93.53 batch: 1/843 val_loss_acc: (3933.71, 0.768)\n",
            "Seconds taken 45.28 batch: 423/843 val_loss_acc: (4064.17, 0.764)\n",
            "Mins taken 2.29 {'loss': 35134.42, 'accuracy': 0.775, 'val_loss': 3949.08, 'val_accuracy': 0.765, 'epoch': 4}\n",
            "Total time taken for training: 11.6  mins\n",
            "Predicted Class: [[0.95], [0.0], [0.01], [0.0], [0.0], [0.0], [0.04], [0.0], [0.0], [0.0]] T-shirt/top\n",
            "Actual Class: [[1], [0], [0], [0], [0], [0], [0], [0], [0], [0]] T-shirt/top\n"
          ]
        }
      ]
    },
    {
      "cell_type": "markdown",
      "source": [
        "## Question 4 (10 Marks)\n",
        "Use the sweep functionality provided by wandb to find the best values for the hyperparameters listed below. Use the standard train/test split of fashion_mnist (use (X_train, y_train), (X_test, y_test) = fashion_mnist.load_data()).  Keep 10% of the training data aside as validation data for this hyperparameter search. Here are some suggestions for different values to try for hyperparameters. As you can quickly see that this leads to an exponential number of combinations. You will have to think about strategies to do this hyperparameter search efficiently. Check out the options provided by wandb.sweep and write down what strategy you chose and why.\n",
        "number of epochs: 5, 10\n",
        "number of hidden layers:  3, 4, 5\n",
        "size of every hidden layer:  32, 64, 128\n",
        "weight decay (L2 regularisation): 0, 0.0005,  0.5\n",
        "learning rate: 1e-3, 1 e-4\n",
        "optimizer:  sgd, momentum, nesterov, rmsprop, adam, nadam\n",
        "batch size: 16, 32, 64\n",
        "weight initialisation: random, Xavier\n",
        "activation functions: sigmoid, tanh, ReLU\n",
        "wandb will automatically generate the following plots. Paste these plots below using the \"Add Panel to Report\" feature. Make sure you use meaningful names for each sweep (e.g. hl_3_bs_16_ac_tanh to indicate that there were 3 hidden layers, batch size was 16 and activation function was ReLU) instead of using the default names (whole-sweep, kind-sweep) given by wandb.\n",
        "\n"
      ],
      "metadata": {
        "id": "2ehre8QNeKW5"
      }
    },
    {
      "cell_type": "code",
      "source": [
        "sweep_config = {\n",
        "    'program': 'train.py',\n",
        "    'name': 'hp-searching-sweep',\n",
        "    'method': 'bayes',\n",
        "    'metric': {\n",
        "          'name': 'accuracy',\n",
        "          'goal': 'maximize'\n",
        "    },\n",
        "    'parameters':{\n",
        "          'epochs': {\n",
        "                'values': [5, 10]\n",
        "              },\n",
        "          'num_layers': {\n",
        "                'values': [3, 4, 5]\n",
        "              },\n",
        "          'hidden_size': {\n",
        "                'values': [32, 64, 128]\n",
        "              },\n",
        "          'weight_decay': {\n",
        "                'values': [0, 0.0005, 0.5]\n",
        "              },\n",
        "          'learning_rate': {\n",
        "                'values': [1e-3, 1e-4]\n",
        "              },\n",
        "          'optimizer': {\n",
        "                'values': ['stochastic', 'momentum', 'nag', 'rmsprop', 'adam', 'nadam']\n",
        "              },\n",
        "          'batch_size': {\n",
        "                'values': [16, 32, 64]\n",
        "              },\n",
        "          'weight_init': {\n",
        "                'values': ['random', 'xavier']\n",
        "              },\n",
        "          'activation': {\n",
        "                'values': ['sigmoid', 'tanh', 'relu']\n",
        "              },\n",
        "    }\n",
        "    }\n",
        "sweep_id = wandb.sweep(sweep_config, project=\"CS6910-Assignment-1\")"
      ],
      "metadata": {
        "id": "SaaE7vNsekHk",
        "colab": {
          "base_uri": "https://localhost:8080/"
        },
        "outputId": "73301acb-d2fa-4ac8-8216-d6021eb904b4"
      },
      "execution_count": 4,
      "outputs": [
        {
          "output_type": "stream",
          "name": "stdout",
          "text": [
            "Create sweep with ID: 7def9p5u\n",
            "Sweep URL: https://wandb.ai/ns24z066/CS6910-Assignment-1/sweeps/7def9p5u\n"
          ]
        }
      ]
    },
    {
      "cell_type": "code",
      "source": [
        "def train(config=None):\n",
        "  # Initialize a new wandb run\n",
        "    with wandb.init(config=config) as run:\n",
        "\n",
        "        # If called by wandb.agent, as below,\n",
        "        # this config will be set by Sweep Controller\n",
        "        config = wandb.config\n",
        "\n",
        "        run_name = str(config).replace(\"': '\", ' ').replace(\"'\", '')\n",
        "        print(run_name)\n",
        "        run.name = run_name\n",
        "        layers = [{'num_neurons': config.hidden_size, 'activation': config.activation}] * config.num_layers\n",
        "        nn = NeuralNetwork(input_dim=x_train_flattened.shape[1], output_dim=one_hot_label.shape[1], nn_archtre=layers,\n",
        "                   last_layer_activation='softmax', weight_initializer=config.weight_init)\n",
        "\n",
        "\n",
        "\n",
        "        nn.train(train_data=train_data, val_data=val_data, epochs=config.epochs, learning_rate=config.learning_rate,\n",
        "                 optimizer=config.optimizer, weight_decay=config.weight_decay, batch_size=config.batch_size, print_every_epoch=1)\n",
        "\n",
        "\n",
        "\n",
        "\n",
        "wandb.agent(sweep_id, train)"
      ],
      "metadata": {
        "colab": {
          "base_uri": "https://localhost:8080/",
          "height": 1000,
          "referenced_widgets": [
            "8ed63b5aea374de59cd3e97eb3cfbaf0",
            "e1edd5435b2a4f69b57d0ee2fd5a0d1c",
            "5a0a26c1452345e6ad20b8d232938785",
            "54a5b33b510442d5ae8b55973b937402",
            "d9b89829d51445bbada2226b78d4b7ed",
            "beabb2a7a38d4e049777ef72d14357b5",
            "a2606bcdb6f74fe3ad4a34cb789fde31",
            "25003bfdaa634cd39d375ce6a8890f64",
            "0a539e75980d43fa99067eeac5b05573",
            "b688efbf9c074d628e56fa631244ac73",
            "7313ba1329c9454eb85f53de856dd729",
            "86956a45558b47429f72a6f983505644",
            "99e91997530f463a9f80e776ad2343fa",
            "1548e01acbfd4db6a683079de6d987d1",
            "be1e7dddb77d440cb7e4a4949c5c6a73",
            "c74ff61ea4cf4b419b66606ab4265494",
            "710b828100834d839432b02df5a2ba99",
            "8acdb034b7a94e18bb0061b69e36eccb",
            "6c15ea3732ee42c99bbc6c8687d157fe",
            "74f6d2f79809411eb043a1d86f7d1825",
            "ba3b248772bd493aa9d1fc7f12593e94",
            "0c9ad130a62145319fcb711e5366431d",
            "572d0b93ba8d4b099e15ae425cab9909",
            "168bdd5f2ccb4d0b831dcb237b594d31",
            "0bc23264b8f14eb4b29317aa9a6e4827",
            "1ac671a9d2d34517968522ab531cca0c",
            "b34d7e59392640568bf7e7539dfab591",
            "c9b16350025449d1be25190918583949",
            "1e62eb0efbf8444aa231e90592f3cec7",
            "7f0035b9df75430e879407371fa69970",
            "78f0b238569e4924873308e7dadf1f29",
            "39435f2bc20d47239c05b7caf0d55a61",
            "04de3fc2e769492fb834c6083e4ce3ad",
            "8e58df346de9443d8f854f0691ddef54",
            "23e7266d96074569935035769f461f08",
            "e34aa61f5e014f798d889311f27e94da",
            "0c3cb2cb9e7d4efb8169c379c4514e5d",
            "380ecefea056453f8fc75b28166212a9",
            "e36d56fad15348cda84285228cd97a90",
            "82f0563e6e0c438fb411df055fe39b83",
            "9c0ea68d98944df7a7fcecc9e2741f5c",
            "3d612958a16f489db60f5440a278eed9",
            "8c22f5ebeace4b8cb388850b5bfbe108",
            "4a5c99f4875f4fe4b8d5f6cc46e6392c",
            "90556f9016c8487e8174f6d82f434acf",
            "9878ea1f854a4dc5985757553099436d",
            "020b7122e15e48719b22b4e91ec82b14",
            "6e8da851a0a5413791a0da6838b5c201"
          ]
        },
        "id": "nWO2aFh5NvcR",
        "outputId": "e3cbc5db-c0ad-4b74-a573-89eeb1aa1223"
      },
      "execution_count": 10,
      "outputs": [
        {
          "output_type": "stream",
          "name": "stdout",
          "text": [
            "Error in callback <bound method _WandbInit._resume_backend of <wandb.sdk.wandb_init._WandbInit object at 0x7c2dff563ee0>> (for pre_run_cell):\n"
          ]
        },
        {
          "output_type": "error",
          "ename": "BrokenPipeError",
          "evalue": "[Errno 32] Broken pipe",
          "traceback": [
            "\u001b[0;31m---------------------------------------------------------------------------\u001b[0m",
            "\u001b[0;31mBrokenPipeError\u001b[0m                           Traceback (most recent call last)",
            "\u001b[0;32m/usr/local/lib/python3.10/dist-packages/wandb/sdk/wandb_init.py\u001b[0m in \u001b[0;36m_resume_backend\u001b[0;34m(self, *args, **kwargs)\u001b[0m\n\u001b[1;32m    441\u001b[0m         \u001b[0;32mif\u001b[0m \u001b[0mself\u001b[0m\u001b[0;34m.\u001b[0m\u001b[0mbackend\u001b[0m \u001b[0;32mis\u001b[0m \u001b[0;32mnot\u001b[0m \u001b[0;32mNone\u001b[0m \u001b[0;32mand\u001b[0m \u001b[0mself\u001b[0m\u001b[0;34m.\u001b[0m\u001b[0mbackend\u001b[0m\u001b[0;34m.\u001b[0m\u001b[0minterface\u001b[0m \u001b[0;32mis\u001b[0m \u001b[0;32mnot\u001b[0m \u001b[0;32mNone\u001b[0m\u001b[0;34m:\u001b[0m\u001b[0;34m\u001b[0m\u001b[0;34m\u001b[0m\u001b[0m\n\u001b[1;32m    442\u001b[0m             \u001b[0mlogger\u001b[0m\u001b[0;34m.\u001b[0m\u001b[0minfo\u001b[0m\u001b[0;34m(\u001b[0m\u001b[0;34m\"resuming backend\"\u001b[0m\u001b[0;34m)\u001b[0m  \u001b[0;31m# type: ignore\u001b[0m\u001b[0;34m\u001b[0m\u001b[0;34m\u001b[0m\u001b[0m\n\u001b[0;32m--> 443\u001b[0;31m             \u001b[0mself\u001b[0m\u001b[0;34m.\u001b[0m\u001b[0mbackend\u001b[0m\u001b[0;34m.\u001b[0m\u001b[0minterface\u001b[0m\u001b[0;34m.\u001b[0m\u001b[0mpublish_resume\u001b[0m\u001b[0;34m(\u001b[0m\u001b[0;34m)\u001b[0m\u001b[0;34m\u001b[0m\u001b[0;34m\u001b[0m\u001b[0m\n\u001b[0m\u001b[1;32m    444\u001b[0m \u001b[0;34m\u001b[0m\u001b[0m\n\u001b[1;32m    445\u001b[0m     \u001b[0;32mdef\u001b[0m \u001b[0m_jupyter_teardown\u001b[0m\u001b[0;34m(\u001b[0m\u001b[0mself\u001b[0m\u001b[0;34m)\u001b[0m \u001b[0;34m->\u001b[0m \u001b[0;32mNone\u001b[0m\u001b[0;34m:\u001b[0m\u001b[0;34m\u001b[0m\u001b[0;34m\u001b[0m\u001b[0m\n",
            "\u001b[0;32m/usr/local/lib/python3.10/dist-packages/wandb/sdk/interface/interface.py\u001b[0m in \u001b[0;36mpublish_resume\u001b[0;34m(self)\u001b[0m\n\u001b[1;32m    665\u001b[0m     \u001b[0;32mdef\u001b[0m \u001b[0mpublish_resume\u001b[0m\u001b[0;34m(\u001b[0m\u001b[0mself\u001b[0m\u001b[0;34m)\u001b[0m \u001b[0;34m->\u001b[0m \u001b[0;32mNone\u001b[0m\u001b[0;34m:\u001b[0m\u001b[0;34m\u001b[0m\u001b[0;34m\u001b[0m\u001b[0m\n\u001b[1;32m    666\u001b[0m         \u001b[0mresume\u001b[0m \u001b[0;34m=\u001b[0m \u001b[0mpb\u001b[0m\u001b[0;34m.\u001b[0m\u001b[0mResumeRequest\u001b[0m\u001b[0;34m(\u001b[0m\u001b[0;34m)\u001b[0m\u001b[0;34m\u001b[0m\u001b[0;34m\u001b[0m\u001b[0m\n\u001b[0;32m--> 667\u001b[0;31m         \u001b[0mself\u001b[0m\u001b[0;34m.\u001b[0m\u001b[0m_publish_resume\u001b[0m\u001b[0;34m(\u001b[0m\u001b[0mresume\u001b[0m\u001b[0;34m)\u001b[0m\u001b[0;34m\u001b[0m\u001b[0;34m\u001b[0m\u001b[0m\n\u001b[0m\u001b[1;32m    668\u001b[0m \u001b[0;34m\u001b[0m\u001b[0m\n\u001b[1;32m    669\u001b[0m     \u001b[0;34m@\u001b[0m\u001b[0mabstractmethod\u001b[0m\u001b[0;34m\u001b[0m\u001b[0;34m\u001b[0m\u001b[0m\n",
            "\u001b[0;32m/usr/local/lib/python3.10/dist-packages/wandb/sdk/interface/interface_shared.py\u001b[0m in \u001b[0;36m_publish_resume\u001b[0;34m(self, resume)\u001b[0m\n\u001b[1;32m    357\u001b[0m     \u001b[0;32mdef\u001b[0m \u001b[0m_publish_resume\u001b[0m\u001b[0;34m(\u001b[0m\u001b[0mself\u001b[0m\u001b[0;34m,\u001b[0m \u001b[0mresume\u001b[0m\u001b[0;34m:\u001b[0m \u001b[0mpb\u001b[0m\u001b[0;34m.\u001b[0m\u001b[0mResumeRequest\u001b[0m\u001b[0;34m)\u001b[0m \u001b[0;34m->\u001b[0m \u001b[0;32mNone\u001b[0m\u001b[0;34m:\u001b[0m\u001b[0;34m\u001b[0m\u001b[0;34m\u001b[0m\u001b[0m\n\u001b[1;32m    358\u001b[0m         \u001b[0mrec\u001b[0m \u001b[0;34m=\u001b[0m \u001b[0mself\u001b[0m\u001b[0;34m.\u001b[0m\u001b[0m_make_request\u001b[0m\u001b[0;34m(\u001b[0m\u001b[0mresume\u001b[0m\u001b[0;34m=\u001b[0m\u001b[0mresume\u001b[0m\u001b[0;34m)\u001b[0m\u001b[0;34m\u001b[0m\u001b[0;34m\u001b[0m\u001b[0m\n\u001b[0;32m--> 359\u001b[0;31m         \u001b[0mself\u001b[0m\u001b[0;34m.\u001b[0m\u001b[0m_publish\u001b[0m\u001b[0;34m(\u001b[0m\u001b[0mrec\u001b[0m\u001b[0;34m)\u001b[0m\u001b[0;34m\u001b[0m\u001b[0;34m\u001b[0m\u001b[0m\n\u001b[0m\u001b[1;32m    360\u001b[0m \u001b[0;34m\u001b[0m\u001b[0m\n\u001b[1;32m    361\u001b[0m     \u001b[0;32mdef\u001b[0m \u001b[0m_publish_run\u001b[0m\u001b[0;34m(\u001b[0m\u001b[0mself\u001b[0m\u001b[0;34m,\u001b[0m \u001b[0mrun\u001b[0m\u001b[0;34m:\u001b[0m \u001b[0mpb\u001b[0m\u001b[0;34m.\u001b[0m\u001b[0mRunRecord\u001b[0m\u001b[0;34m)\u001b[0m \u001b[0;34m->\u001b[0m \u001b[0;32mNone\u001b[0m\u001b[0;34m:\u001b[0m\u001b[0;34m\u001b[0m\u001b[0;34m\u001b[0m\u001b[0m\n",
            "\u001b[0;32m/usr/local/lib/python3.10/dist-packages/wandb/sdk/interface/interface_sock.py\u001b[0m in \u001b[0;36m_publish\u001b[0;34m(self, record, local)\u001b[0m\n\u001b[1;32m     49\u001b[0m     \u001b[0;32mdef\u001b[0m \u001b[0m_publish\u001b[0m\u001b[0;34m(\u001b[0m\u001b[0mself\u001b[0m\u001b[0;34m,\u001b[0m \u001b[0mrecord\u001b[0m\u001b[0;34m:\u001b[0m \u001b[0;34m\"pb.Record\"\u001b[0m\u001b[0;34m,\u001b[0m \u001b[0mlocal\u001b[0m\u001b[0;34m:\u001b[0m \u001b[0mOptional\u001b[0m\u001b[0;34m[\u001b[0m\u001b[0mbool\u001b[0m\u001b[0;34m]\u001b[0m \u001b[0;34m=\u001b[0m \u001b[0;32mNone\u001b[0m\u001b[0;34m)\u001b[0m \u001b[0;34m->\u001b[0m \u001b[0;32mNone\u001b[0m\u001b[0;34m:\u001b[0m\u001b[0;34m\u001b[0m\u001b[0;34m\u001b[0m\u001b[0m\n\u001b[1;32m     50\u001b[0m         \u001b[0mself\u001b[0m\u001b[0;34m.\u001b[0m\u001b[0m_assign\u001b[0m\u001b[0;34m(\u001b[0m\u001b[0mrecord\u001b[0m\u001b[0;34m)\u001b[0m\u001b[0;34m\u001b[0m\u001b[0;34m\u001b[0m\u001b[0m\n\u001b[0;32m---> 51\u001b[0;31m         \u001b[0mself\u001b[0m\u001b[0;34m.\u001b[0m\u001b[0m_sock_client\u001b[0m\u001b[0;34m.\u001b[0m\u001b[0msend_record_publish\u001b[0m\u001b[0;34m(\u001b[0m\u001b[0mrecord\u001b[0m\u001b[0;34m)\u001b[0m\u001b[0;34m\u001b[0m\u001b[0;34m\u001b[0m\u001b[0m\n\u001b[0m\u001b[1;32m     52\u001b[0m \u001b[0;34m\u001b[0m\u001b[0m\n\u001b[1;32m     53\u001b[0m     def _communicate_async(\n",
            "\u001b[0;32m/usr/local/lib/python3.10/dist-packages/wandb/sdk/lib/sock_client.py\u001b[0m in \u001b[0;36msend_record_publish\u001b[0;34m(self, record)\u001b[0m\n\u001b[1;32m    219\u001b[0m         \u001b[0mserver_req\u001b[0m \u001b[0;34m=\u001b[0m \u001b[0mspb\u001b[0m\u001b[0;34m.\u001b[0m\u001b[0mServerRequest\u001b[0m\u001b[0;34m(\u001b[0m\u001b[0;34m)\u001b[0m\u001b[0;34m\u001b[0m\u001b[0;34m\u001b[0m\u001b[0m\n\u001b[1;32m    220\u001b[0m         \u001b[0mserver_req\u001b[0m\u001b[0;34m.\u001b[0m\u001b[0mrecord_publish\u001b[0m\u001b[0;34m.\u001b[0m\u001b[0mCopyFrom\u001b[0m\u001b[0;34m(\u001b[0m\u001b[0mrecord\u001b[0m\u001b[0;34m)\u001b[0m\u001b[0;34m\u001b[0m\u001b[0;34m\u001b[0m\u001b[0m\n\u001b[0;32m--> 221\u001b[0;31m         \u001b[0mself\u001b[0m\u001b[0;34m.\u001b[0m\u001b[0msend_server_request\u001b[0m\u001b[0;34m(\u001b[0m\u001b[0mserver_req\u001b[0m\u001b[0;34m)\u001b[0m\u001b[0;34m\u001b[0m\u001b[0;34m\u001b[0m\u001b[0m\n\u001b[0m\u001b[1;32m    222\u001b[0m \u001b[0;34m\u001b[0m\u001b[0m\n\u001b[1;32m    223\u001b[0m     \u001b[0;32mdef\u001b[0m \u001b[0m_extract_packet_bytes\u001b[0m\u001b[0;34m(\u001b[0m\u001b[0mself\u001b[0m\u001b[0;34m)\u001b[0m \u001b[0;34m->\u001b[0m \u001b[0mOptional\u001b[0m\u001b[0;34m[\u001b[0m\u001b[0mbytes\u001b[0m\u001b[0;34m]\u001b[0m\u001b[0;34m:\u001b[0m\u001b[0;34m\u001b[0m\u001b[0;34m\u001b[0m\u001b[0m\n",
            "\u001b[0;32m/usr/local/lib/python3.10/dist-packages/wandb/sdk/lib/sock_client.py\u001b[0m in \u001b[0;36msend_server_request\u001b[0;34m(self, msg)\u001b[0m\n\u001b[1;32m    153\u001b[0m \u001b[0;34m\u001b[0m\u001b[0m\n\u001b[1;32m    154\u001b[0m     \u001b[0;32mdef\u001b[0m \u001b[0msend_server_request\u001b[0m\u001b[0;34m(\u001b[0m\u001b[0mself\u001b[0m\u001b[0;34m,\u001b[0m \u001b[0mmsg\u001b[0m\u001b[0;34m:\u001b[0m \u001b[0mAny\u001b[0m\u001b[0;34m)\u001b[0m \u001b[0;34m->\u001b[0m \u001b[0;32mNone\u001b[0m\u001b[0;34m:\u001b[0m\u001b[0;34m\u001b[0m\u001b[0;34m\u001b[0m\u001b[0m\n\u001b[0;32m--> 155\u001b[0;31m         \u001b[0mself\u001b[0m\u001b[0;34m.\u001b[0m\u001b[0m_send_message\u001b[0m\u001b[0;34m(\u001b[0m\u001b[0mmsg\u001b[0m\u001b[0;34m)\u001b[0m\u001b[0;34m\u001b[0m\u001b[0;34m\u001b[0m\u001b[0m\n\u001b[0m\u001b[1;32m    156\u001b[0m \u001b[0;34m\u001b[0m\u001b[0m\n\u001b[1;32m    157\u001b[0m     \u001b[0;32mdef\u001b[0m \u001b[0msend_server_response\u001b[0m\u001b[0;34m(\u001b[0m\u001b[0mself\u001b[0m\u001b[0;34m,\u001b[0m \u001b[0mmsg\u001b[0m\u001b[0;34m:\u001b[0m \u001b[0mAny\u001b[0m\u001b[0;34m)\u001b[0m \u001b[0;34m->\u001b[0m \u001b[0;32mNone\u001b[0m\u001b[0;34m:\u001b[0m\u001b[0;34m\u001b[0m\u001b[0;34m\u001b[0m\u001b[0m\n",
            "\u001b[0;32m/usr/local/lib/python3.10/dist-packages/wandb/sdk/lib/sock_client.py\u001b[0m in \u001b[0;36m_send_message\u001b[0;34m(self, msg)\u001b[0m\n\u001b[1;32m    150\u001b[0m         \u001b[0mheader\u001b[0m \u001b[0;34m=\u001b[0m \u001b[0mstruct\u001b[0m\u001b[0;34m.\u001b[0m\u001b[0mpack\u001b[0m\u001b[0;34m(\u001b[0m\u001b[0;34m\"<BI\"\u001b[0m\u001b[0;34m,\u001b[0m \u001b[0mord\u001b[0m\u001b[0;34m(\u001b[0m\u001b[0;34m\"W\"\u001b[0m\u001b[0;34m)\u001b[0m\u001b[0;34m,\u001b[0m \u001b[0mraw_size\u001b[0m\u001b[0;34m)\u001b[0m\u001b[0;34m\u001b[0m\u001b[0;34m\u001b[0m\u001b[0m\n\u001b[1;32m    151\u001b[0m         \u001b[0;32mwith\u001b[0m \u001b[0mself\u001b[0m\u001b[0;34m.\u001b[0m\u001b[0m_lock\u001b[0m\u001b[0;34m:\u001b[0m\u001b[0;34m\u001b[0m\u001b[0;34m\u001b[0m\u001b[0m\n\u001b[0;32m--> 152\u001b[0;31m             \u001b[0mself\u001b[0m\u001b[0;34m.\u001b[0m\u001b[0m_sendall_with_error_handle\u001b[0m\u001b[0;34m(\u001b[0m\u001b[0mheader\u001b[0m \u001b[0;34m+\u001b[0m \u001b[0mdata\u001b[0m\u001b[0;34m)\u001b[0m\u001b[0;34m\u001b[0m\u001b[0;34m\u001b[0m\u001b[0m\n\u001b[0m\u001b[1;32m    153\u001b[0m \u001b[0;34m\u001b[0m\u001b[0m\n\u001b[1;32m    154\u001b[0m     \u001b[0;32mdef\u001b[0m \u001b[0msend_server_request\u001b[0m\u001b[0;34m(\u001b[0m\u001b[0mself\u001b[0m\u001b[0;34m,\u001b[0m \u001b[0mmsg\u001b[0m\u001b[0;34m:\u001b[0m \u001b[0mAny\u001b[0m\u001b[0;34m)\u001b[0m \u001b[0;34m->\u001b[0m \u001b[0;32mNone\u001b[0m\u001b[0;34m:\u001b[0m\u001b[0;34m\u001b[0m\u001b[0;34m\u001b[0m\u001b[0m\n",
            "\u001b[0;32m/usr/local/lib/python3.10/dist-packages/wandb/sdk/lib/sock_client.py\u001b[0m in \u001b[0;36m_sendall_with_error_handle\u001b[0;34m(self, data)\u001b[0m\n\u001b[1;32m    128\u001b[0m             \u001b[0mstart_time\u001b[0m \u001b[0;34m=\u001b[0m \u001b[0mtime\u001b[0m\u001b[0;34m.\u001b[0m\u001b[0mmonotonic\u001b[0m\u001b[0;34m(\u001b[0m\u001b[0;34m)\u001b[0m\u001b[0;34m\u001b[0m\u001b[0;34m\u001b[0m\u001b[0m\n\u001b[1;32m    129\u001b[0m             \u001b[0;32mtry\u001b[0m\u001b[0;34m:\u001b[0m\u001b[0;34m\u001b[0m\u001b[0;34m\u001b[0m\u001b[0m\n\u001b[0;32m--> 130\u001b[0;31m                 \u001b[0msent\u001b[0m \u001b[0;34m=\u001b[0m \u001b[0mself\u001b[0m\u001b[0;34m.\u001b[0m\u001b[0m_sock\u001b[0m\u001b[0;34m.\u001b[0m\u001b[0msend\u001b[0m\u001b[0;34m(\u001b[0m\u001b[0mdata\u001b[0m\u001b[0;34m)\u001b[0m\u001b[0;34m\u001b[0m\u001b[0;34m\u001b[0m\u001b[0m\n\u001b[0m\u001b[1;32m    131\u001b[0m                 \u001b[0;31m# sent equal to 0 indicates a closed socket\u001b[0m\u001b[0;34m\u001b[0m\u001b[0;34m\u001b[0m\u001b[0m\n\u001b[1;32m    132\u001b[0m                 \u001b[0;32mif\u001b[0m \u001b[0msent\u001b[0m \u001b[0;34m==\u001b[0m \u001b[0;36m0\u001b[0m\u001b[0;34m:\u001b[0m\u001b[0;34m\u001b[0m\u001b[0;34m\u001b[0m\u001b[0m\n",
            "\u001b[0;31mBrokenPipeError\u001b[0m: [Errno 32] Broken pipe"
          ]
        },
        {
          "output_type": "stream",
          "name": "stderr",
          "text": [
            "\u001b[34m\u001b[1mwandb\u001b[0m: \u001b[33mWARNING\u001b[0m Calling wandb.login() after wandb.init() has no effect.\n",
            "\u001b[34m\u001b[1mwandb\u001b[0m: While tearing down the service manager. The following error has occurred: [Errno 32] Broken pipe\n",
            "\u001b[34m\u001b[1mwandb\u001b[0m: Agent Starting Run: t0h26b96 with config:\n",
            "\u001b[34m\u001b[1mwandb\u001b[0m: \tactivation: relu\n",
            "\u001b[34m\u001b[1mwandb\u001b[0m: \tbatch_size: 64\n",
            "\u001b[34m\u001b[1mwandb\u001b[0m: \tepochs: 5\n",
            "\u001b[34m\u001b[1mwandb\u001b[0m: \thidden_size: 64\n",
            "\u001b[34m\u001b[1mwandb\u001b[0m: \tlearning_rate: 0.0001\n",
            "\u001b[34m\u001b[1mwandb\u001b[0m: \tnum_layers: 5\n",
            "\u001b[34m\u001b[1mwandb\u001b[0m: \toptimizer: nag\n",
            "\u001b[34m\u001b[1mwandb\u001b[0m: \tweight_decay: 0.5\n",
            "\u001b[34m\u001b[1mwandb\u001b[0m: \tweight_init: random\n"
          ]
        },
        {
          "output_type": "display_data",
          "data": {
            "text/plain": [
              "<IPython.core.display.HTML object>"
            ],
            "text/html": [
              "Tracking run with wandb version 0.16.4"
            ]
          },
          "metadata": {}
        },
        {
          "output_type": "display_data",
          "data": {
            "text/plain": [
              "<IPython.core.display.HTML object>"
            ],
            "text/html": [
              "Run data is saved locally in <code>/content/wandb/run-20240317_024317-t0h26b96</code>"
            ]
          },
          "metadata": {}
        },
        {
          "output_type": "display_data",
          "data": {
            "text/plain": [
              "<IPython.core.display.HTML object>"
            ],
            "text/html": [
              "Syncing run <strong><a href='https://wandb.ai/ns24z066/CS6910-Assignment-1/runs/t0h26b96' target=\"_blank\">peachy-sweep-2</a></strong> to <a href='https://wandb.ai/ns24z066/CS6910-Assignment-1' target=\"_blank\">Weights & Biases</a> (<a href='https://wandb.me/run' target=\"_blank\">docs</a>)<br/>Sweep page: <a href='https://wandb.ai/ns24z066/CS6910-Assignment-1/sweeps/91emsl1o' target=\"_blank\">https://wandb.ai/ns24z066/CS6910-Assignment-1/sweeps/91emsl1o</a>"
            ]
          },
          "metadata": {}
        },
        {
          "output_type": "display_data",
          "data": {
            "text/plain": [
              "<IPython.core.display.HTML object>"
            ],
            "text/html": [
              " View project at <a href='https://wandb.ai/ns24z066/CS6910-Assignment-1' target=\"_blank\">https://wandb.ai/ns24z066/CS6910-Assignment-1</a>"
            ]
          },
          "metadata": {}
        },
        {
          "output_type": "display_data",
          "data": {
            "text/plain": [
              "<IPython.core.display.HTML object>"
            ],
            "text/html": [
              " View sweep at <a href='https://wandb.ai/ns24z066/CS6910-Assignment-1/sweeps/91emsl1o' target=\"_blank\">https://wandb.ai/ns24z066/CS6910-Assignment-1/sweeps/91emsl1o</a>"
            ]
          },
          "metadata": {}
        },
        {
          "output_type": "display_data",
          "data": {
            "text/plain": [
              "<IPython.core.display.HTML object>"
            ],
            "text/html": [
              " View run at <a href='https://wandb.ai/ns24z066/CS6910-Assignment-1/runs/t0h26b96' target=\"_blank\">https://wandb.ai/ns24z066/CS6910-Assignment-1/runs/t0h26b96</a>"
            ]
          },
          "metadata": {}
        },
        {
          "output_type": "stream",
          "name": "stdout",
          "text": [
            "{activation relu, batch_size: 64, epochs: 5, hidden_size: 64, learning_rate: 0.0001, num_layers: 5, optimizer nag, weight_decay: 0.5, weight_init random}\n",
            "Using _nag_gradient_descent for traing optimization\n",
            "Seconds taken 11.07 batch: 1/843 val_loss_acc: (2863704.19, 0.105)\n",
            "loss isnan or not changing for past 3 epochs reinitializing weights\n",
            "Seconds taken 80.5 batch: 422/843 val_loss_acc: (nan, 0.105)\n",
            "Seconds taken 74.21 batch: 843/843 val_loss_acc: (84097485692.92, 0.106)\n",
            "Mins taken 4.5 {'loss': 756877377315.11, 'accuracy': 0.099, 'val_loss': 84097485692.92, 'val_accuracy': 0.106, 'epoch': 0}\n",
            "Seconds taken 115.75 batch: 1/843 val_loss_acc: (84096541780.11, 0.106)\n",
            "Seconds taken 72.16 batch: 422/843 val_loss_acc: (83702600062.12, 0.106)\n",
            "Seconds taken 70.75 batch: 843/843 val_loss_acc: (83317642830.94, 0.106)\n",
            "Mins taken 4.36 {'loss': 749858791557.3, 'accuracy': 0.099, 'val_loss': 83317642830.94, 'val_accuracy': 0.106, 'epoch': 1}\n",
            "Seconds taken 116.72 batch: 1/843 val_loss_acc: (83316742113.76, 0.106)\n",
            "Seconds taken 69.67 batch: 422/843 val_loss_acc: (82938929943.74, 0.106)\n",
            "Seconds taken 73.26 batch: 843/843 val_loss_acc: (82567385112.18, 0.106)\n",
            "Mins taken 4.24 {'loss': 743106472088.47, 'accuracy': 0.099, 'val_loss': 82567385112.18, 'val_accuracy': 0.106, 'epoch': 2}\n",
            "Seconds taken 108.86 batch: 1/843 val_loss_acc: (82566519182.23, 0.106)\n",
            "Seconds taken 78.87 batch: 422/843 val_loss_acc: (82204214586.32, 0.106)\n",
            "Seconds taken 75.7 batch: 843/843 val_loss_acc: (81850583574.16, 0.106)\n",
            "Mins taken 4.25 {'loss': 736655258246.23, 'accuracy': 0.099, 'val_loss': 81850583574.16, 'val_accuracy': 0.106, 'epoch': 3}\n",
            "Seconds taken 105.04 batch: 1/843 val_loss_acc: (81849739903.02, 0.106)\n",
            "Seconds taken 80.96 batch: 422/843 val_loss_acc: (81501006584.1, 0.106)\n",
            "Seconds taken 69.99 batch: 843/843 val_loss_acc: (81161753550.3, 0.106)\n",
            "Mins taken 4.43 {'loss': 730455788031.5, 'accuracy': 0.099, 'val_loss': 81161753550.3, 'val_accuracy': 0.106, 'epoch': 4}\n",
            "Total time taken for training: 21.78  mins\n"
          ]
        },
        {
          "output_type": "display_data",
          "data": {
            "text/plain": [
              "VBox(children=(Label(value='0.001 MB of 0.012 MB uploaded\\r'), FloatProgress(value=0.08300153139356815, max=1.…"
            ],
            "application/vnd.jupyter.widget-view+json": {
              "version_major": 2,
              "version_minor": 0,
              "model_id": "8ed63b5aea374de59cd3e97eb3cfbaf0"
            }
          },
          "metadata": {}
        },
        {
          "output_type": "display_data",
          "data": {
            "text/plain": [
              "<IPython.core.display.HTML object>"
            ],
            "text/html": [
              "<style>\n",
              "    table.wandb td:nth-child(1) { padding: 0 10px; text-align: left ; width: auto;} td:nth-child(2) {text-align: left ; width: 100%}\n",
              "    .wandb-row { display: flex; flex-direction: row; flex-wrap: wrap; justify-content: flex-start; width: 100% }\n",
              "    .wandb-col { display: flex; flex-direction: column; flex-basis: 100%; flex: 1; padding: 10px; }\n",
              "    </style>\n",
              "<div class=\"wandb-row\"><div class=\"wandb-col\"><h3>Run history:</h3><br/><table class=\"wandb\"><tr><td>accuracy</td><td>▁▁▁▁▁</td></tr><tr><td>epoch</td><td>▁▃▅▆█</td></tr><tr><td>loss</td><td>█▆▄▃▁</td></tr><tr><td>val_accuracy</td><td>▁▁▁▁▁</td></tr><tr><td>val_loss</td><td>█▆▄▃▁</td></tr></table><br/></div><div class=\"wandb-col\"><h3>Run summary:</h3><br/><table class=\"wandb\"><tr><td>accuracy</td><td>0.099</td></tr><tr><td>epoch</td><td>4</td></tr><tr><td>loss</td><td>730455788031.5</td></tr><tr><td>val_accuracy</td><td>0.106</td></tr><tr><td>val_loss</td><td>81161753550.3</td></tr></table><br/></div></div>"
            ]
          },
          "metadata": {}
        },
        {
          "output_type": "display_data",
          "data": {
            "text/plain": [
              "<IPython.core.display.HTML object>"
            ],
            "text/html": [
              " View run <strong style=\"color:#cdcd00\">peachy-sweep-2</strong> at: <a href='https://wandb.ai/ns24z066/CS6910-Assignment-1/runs/t0h26b96' target=\"_blank\">https://wandb.ai/ns24z066/CS6910-Assignment-1/runs/t0h26b96</a><br/>Synced 5 W&B file(s), 0 media file(s), 0 artifact file(s) and 0 other file(s)"
            ]
          },
          "metadata": {}
        },
        {
          "output_type": "display_data",
          "data": {
            "text/plain": [
              "<IPython.core.display.HTML object>"
            ],
            "text/html": [
              "Find logs at: <code>./wandb/run-20240317_024317-t0h26b96/logs</code>"
            ]
          },
          "metadata": {}
        },
        {
          "output_type": "stream",
          "name": "stderr",
          "text": [
            "\u001b[34m\u001b[1mwandb\u001b[0m: Agent Starting Run: x3zcu7sw with config:\n",
            "\u001b[34m\u001b[1mwandb\u001b[0m: \tactivation: sigmoid\n",
            "\u001b[34m\u001b[1mwandb\u001b[0m: \tbatch_size: 64\n",
            "\u001b[34m\u001b[1mwandb\u001b[0m: \tepochs: 10\n",
            "\u001b[34m\u001b[1mwandb\u001b[0m: \thidden_size: 128\n",
            "\u001b[34m\u001b[1mwandb\u001b[0m: \tlearning_rate: 0.001\n",
            "\u001b[34m\u001b[1mwandb\u001b[0m: \tnum_layers: 3\n",
            "\u001b[34m\u001b[1mwandb\u001b[0m: \toptimizer: nag\n",
            "\u001b[34m\u001b[1mwandb\u001b[0m: \tweight_decay: 0.5\n",
            "\u001b[34m\u001b[1mwandb\u001b[0m: \tweight_init: random\n"
          ]
        },
        {
          "output_type": "display_data",
          "data": {
            "text/plain": [
              "<IPython.core.display.HTML object>"
            ],
            "text/html": [
              "Tracking run with wandb version 0.16.4"
            ]
          },
          "metadata": {}
        },
        {
          "output_type": "display_data",
          "data": {
            "text/plain": [
              "<IPython.core.display.HTML object>"
            ],
            "text/html": [
              "Run data is saved locally in <code>/content/wandb/run-20240317_030525-x3zcu7sw</code>"
            ]
          },
          "metadata": {}
        },
        {
          "output_type": "display_data",
          "data": {
            "text/plain": [
              "<IPython.core.display.HTML object>"
            ],
            "text/html": [
              "Syncing run <strong><a href='https://wandb.ai/ns24z066/CS6910-Assignment-1/runs/x3zcu7sw' target=\"_blank\">smooth-sweep-6</a></strong> to <a href='https://wandb.ai/ns24z066/CS6910-Assignment-1' target=\"_blank\">Weights & Biases</a> (<a href='https://wandb.me/run' target=\"_blank\">docs</a>)<br/>Sweep page: <a href='https://wandb.ai/ns24z066/CS6910-Assignment-1/sweeps/91emsl1o' target=\"_blank\">https://wandb.ai/ns24z066/CS6910-Assignment-1/sweeps/91emsl1o</a>"
            ]
          },
          "metadata": {}
        },
        {
          "output_type": "display_data",
          "data": {
            "text/plain": [
              "<IPython.core.display.HTML object>"
            ],
            "text/html": [
              " View project at <a href='https://wandb.ai/ns24z066/CS6910-Assignment-1' target=\"_blank\">https://wandb.ai/ns24z066/CS6910-Assignment-1</a>"
            ]
          },
          "metadata": {}
        },
        {
          "output_type": "display_data",
          "data": {
            "text/plain": [
              "<IPython.core.display.HTML object>"
            ],
            "text/html": [
              " View sweep at <a href='https://wandb.ai/ns24z066/CS6910-Assignment-1/sweeps/91emsl1o' target=\"_blank\">https://wandb.ai/ns24z066/CS6910-Assignment-1/sweeps/91emsl1o</a>"
            ]
          },
          "metadata": {}
        },
        {
          "output_type": "display_data",
          "data": {
            "text/plain": [
              "<IPython.core.display.HTML object>"
            ],
            "text/html": [
              " View run at <a href='https://wandb.ai/ns24z066/CS6910-Assignment-1/runs/x3zcu7sw' target=\"_blank\">https://wandb.ai/ns24z066/CS6910-Assignment-1/runs/x3zcu7sw</a>"
            ]
          },
          "metadata": {}
        },
        {
          "output_type": "stream",
          "name": "stdout",
          "text": [
            "{activation sigmoid, batch_size: 64, epochs: 10, hidden_size: 128, learning_rate: 0.001, num_layers: 3, optimizer nag, weight_decay: 0.5, weight_init random}\n",
            "Using _nag_gradient_descent for traing optimization\n",
            "Seconds taken 18.49 batch: 1/843 val_loss_acc: (12662608.19, 0.09)\n",
            "Seconds taken 122.34 batch: 422/843 val_loss_acc: (4449855.13, 0.469)\n",
            "Seconds taken 134.71 batch: 843/843 val_loss_acc: (1543232.34, 0.659)\n",
            "Mins taken 7.33 {'loss': 13890426.81, 'accuracy': 0.653, 'val_loss': 1543232.34, 'val_accuracy': 0.659, 'epoch': 0}\n",
            "Seconds taken 183.88 batch: 1/843 val_loss_acc: (1539381.55, 0.655)\n",
            "Seconds taken 120.69 batch: 422/843 val_loss_acc: (544176.56, 0.734)\n",
            "Seconds taken 124.38 batch: 843/843 val_loss_acc: (204223.75, 0.711)\n",
            "Mins taken 7.2 {'loss': 1838566.09, 'accuracy': 0.702, 'val_loss': 204223.75, 'val_accuracy': 0.711, 'epoch': 1}\n",
            "Seconds taken 184.96 batch: 1/843 val_loss_acc: (203770.5, 0.707)\n",
            "Seconds taken 109.44 batch: 422/843 val_loss_acc: (87611.93, 0.578)\n",
            "Seconds taken 124.31 batch: 843/843 val_loss_acc: (46440.33, 0.444)\n",
            "Mins taken 6.99 {'loss': 418151.87, 'accuracy': 0.436, 'val_loss': 46440.33, 'val_accuracy': 0.444, 'epoch': 2}\n",
            "Seconds taken 185.66 batch: 1/843 val_loss_acc: (46337.83, 0.447)\n",
            "Seconds taken 120.33 batch: 422/843 val_loss_acc: (29559.77, 0.302)\n",
            "Seconds taken 130.35 batch: 843/843 val_loss_acc: (20905.74, 0.197)\n",
            "Mins taken 7.17 {'loss': 188024.87, 'accuracy': 0.197, 'val_loss': 20905.74, 'val_accuracy': 0.197, 'epoch': 3}\n",
            "Seconds taken 180.42 batch: 1/843 val_loss_acc: (20887.1, 0.198)\n",
            "Seconds taken 121.03 batch: 422/843 val_loss_acc: (16576.6, 0.103)\n",
            "Seconds taken 123.45 batch: 843/843 val_loss_acc: (14822.0, 0.106)\n",
            "Mins taken 7.2 {'loss': 133360.18, 'accuracy': 0.099, 'val_loss': 14822.0, 'val_accuracy': 0.106, 'epoch': 4}\n",
            "Seconds taken 185.34 batch: 1/843 val_loss_acc: (14819.14, 0.106)\n",
            "Seconds taken 147.73 batch: 422/843 val_loss_acc: (14160.63, 0.105)\n",
            "Seconds taken 138.34 batch: 843/843 val_loss_acc: (13945.62, 0.106)\n",
            "Mins taken 7.95 {'loss': 125480.16, 'accuracy': 0.099, 'val_loss': 13945.62, 'val_accuracy': 0.106, 'epoch': 5}\n",
            "Seconds taken 194.47 batch: 1/843 val_loss_acc: (13945.12, 0.106)\n",
            "Seconds taken 136.38 batch: 422/843 val_loss_acc: (13855.78, 0.105)\n",
            "Seconds taken 141.9 batch: 843/843 val_loss_acc: (13839.63, 0.106)\n",
            "Mins taken 7.91 {'loss': 124527.57, 'accuracy': 0.099, 'val_loss': 13839.63, 'val_accuracy': 0.106, 'epoch': 6}\n",
            "Seconds taken 195.06 batch: 1/843 val_loss_acc: (13839.44, 0.106)\n",
            "Seconds taken 126.32 batch: 422/843 val_loss_acc: (13819.63, 0.105)\n",
            "Seconds taken 138.73 batch: 843/843 val_loss_acc: (13826.96, 0.106)\n",
            "Mins taken 7.74 {'loss': 124414.05, 'accuracy': 0.099, 'val_loss': 13826.96, 'val_accuracy': 0.106, 'epoch': 7}\n",
            "Seconds taken 198.84 batch: 1/843 val_loss_acc: (13826.82, 0.106)\n",
            "Seconds taken 161.64 batch: 422/843 val_loss_acc: (13815.35, 0.105)\n",
            "Seconds taken 138.64 batch: 843/843 val_loss_acc: (13825.39, 0.106)\n",
            "Mins taken 8.26 {'loss': 124400.18, 'accuracy': 0.099, 'val_loss': 13825.39, 'val_accuracy': 0.106, 'epoch': 8}\n",
            "Seconds taken 189.11 batch: 1/843 val_loss_acc: (13825.25, 0.106)\n",
            "Seconds taken 142.0 batch: 422/843 val_loss_acc: (13814.81, 0.105)\n",
            "Seconds taken 137.53 batch: 843/843 val_loss_acc: (13825.15, 0.106)\n",
            "Mins taken 7.8 {'loss': 124398.21, 'accuracy': 0.099, 'val_loss': 13825.15, 'val_accuracy': 0.106, 'epoch': 9}\n",
            "Total time taken for training: 75.55  mins\n"
          ]
        },
        {
          "output_type": "display_data",
          "data": {
            "text/plain": [
              "VBox(children=(Label(value='0.001 MB of 0.001 MB uploaded\\r'), FloatProgress(value=1.0, max=1.0)))"
            ],
            "application/vnd.jupyter.widget-view+json": {
              "version_major": 2,
              "version_minor": 0,
              "model_id": "0a539e75980d43fa99067eeac5b05573"
            }
          },
          "metadata": {}
        },
        {
          "output_type": "display_data",
          "data": {
            "text/plain": [
              "<IPython.core.display.HTML object>"
            ],
            "text/html": [
              "<style>\n",
              "    table.wandb td:nth-child(1) { padding: 0 10px; text-align: left ; width: auto;} td:nth-child(2) {text-align: left ; width: 100%}\n",
              "    .wandb-row { display: flex; flex-direction: row; flex-wrap: wrap; justify-content: flex-start; width: 100% }\n",
              "    .wandb-col { display: flex; flex-direction: column; flex-basis: 100%; flex: 1; padding: 10px; }\n",
              "    </style>\n",
              "<div class=\"wandb-row\"><div class=\"wandb-col\"><h3>Run history:</h3><br/><table class=\"wandb\"><tr><td>accuracy</td><td>▇█▅▂▁▁▁▁▁▁</td></tr><tr><td>epoch</td><td>▁▂▃▃▄▅▆▆▇█</td></tr><tr><td>loss</td><td>█▂▁▁▁▁▁▁▁▁</td></tr><tr><td>val_accuracy</td><td>▇█▅▂▁▁▁▁▁▁</td></tr><tr><td>val_loss</td><td>█▂▁▁▁▁▁▁▁▁</td></tr></table><br/></div><div class=\"wandb-col\"><h3>Run summary:</h3><br/><table class=\"wandb\"><tr><td>accuracy</td><td>0.099</td></tr><tr><td>epoch</td><td>9</td></tr><tr><td>loss</td><td>124398.21</td></tr><tr><td>val_accuracy</td><td>0.106</td></tr><tr><td>val_loss</td><td>13825.15</td></tr></table><br/></div></div>"
            ]
          },
          "metadata": {}
        },
        {
          "output_type": "display_data",
          "data": {
            "text/plain": [
              "<IPython.core.display.HTML object>"
            ],
            "text/html": [
              " View run <strong style=\"color:#cdcd00\">smooth-sweep-6</strong> at: <a href='https://wandb.ai/ns24z066/CS6910-Assignment-1/runs/x3zcu7sw' target=\"_blank\">https://wandb.ai/ns24z066/CS6910-Assignment-1/runs/x3zcu7sw</a><br/>Synced 5 W&B file(s), 0 media file(s), 0 artifact file(s) and 0 other file(s)"
            ]
          },
          "metadata": {}
        },
        {
          "output_type": "display_data",
          "data": {
            "text/plain": [
              "<IPython.core.display.HTML object>"
            ],
            "text/html": [
              "Find logs at: <code>./wandb/run-20240317_030525-x3zcu7sw/logs</code>"
            ]
          },
          "metadata": {}
        },
        {
          "output_type": "stream",
          "name": "stderr",
          "text": [
            "\u001b[34m\u001b[1mwandb\u001b[0m: Sweep Agent: Waiting for job.\n",
            "\u001b[34m\u001b[1mwandb\u001b[0m: Job received.\n",
            "\u001b[34m\u001b[1mwandb\u001b[0m: Agent Starting Run: n550ywu9 with config:\n",
            "\u001b[34m\u001b[1mwandb\u001b[0m: \tactivation: tanh\n",
            "\u001b[34m\u001b[1mwandb\u001b[0m: \tbatch_size: 64\n",
            "\u001b[34m\u001b[1mwandb\u001b[0m: \tepochs: 10\n",
            "\u001b[34m\u001b[1mwandb\u001b[0m: \thidden_size: 64\n",
            "\u001b[34m\u001b[1mwandb\u001b[0m: \tlearning_rate: 0.001\n",
            "\u001b[34m\u001b[1mwandb\u001b[0m: \tnum_layers: 4\n",
            "\u001b[34m\u001b[1mwandb\u001b[0m: \toptimizer: nag\n",
            "\u001b[34m\u001b[1mwandb\u001b[0m: \tweight_decay: 0.5\n",
            "\u001b[34m\u001b[1mwandb\u001b[0m: \tweight_init: xavier\n"
          ]
        },
        {
          "output_type": "display_data",
          "data": {
            "text/plain": [
              "<IPython.core.display.HTML object>"
            ],
            "text/html": [
              "Tracking run with wandb version 0.16.4"
            ]
          },
          "metadata": {}
        },
        {
          "output_type": "display_data",
          "data": {
            "text/plain": [
              "<IPython.core.display.HTML object>"
            ],
            "text/html": [
              "Run data is saved locally in <code>/content/wandb/run-20240317_042125-n550ywu9</code>"
            ]
          },
          "metadata": {}
        },
        {
          "output_type": "display_data",
          "data": {
            "text/plain": [
              "<IPython.core.display.HTML object>"
            ],
            "text/html": [
              "Syncing run <strong><a href='https://wandb.ai/ns24z066/CS6910-Assignment-1/runs/n550ywu9' target=\"_blank\">visionary-sweep-34</a></strong> to <a href='https://wandb.ai/ns24z066/CS6910-Assignment-1' target=\"_blank\">Weights & Biases</a> (<a href='https://wandb.me/run' target=\"_blank\">docs</a>)<br/>Sweep page: <a href='https://wandb.ai/ns24z066/CS6910-Assignment-1/sweeps/91emsl1o' target=\"_blank\">https://wandb.ai/ns24z066/CS6910-Assignment-1/sweeps/91emsl1o</a>"
            ]
          },
          "metadata": {}
        },
        {
          "output_type": "display_data",
          "data": {
            "text/plain": [
              "<IPython.core.display.HTML object>"
            ],
            "text/html": [
              " View project at <a href='https://wandb.ai/ns24z066/CS6910-Assignment-1' target=\"_blank\">https://wandb.ai/ns24z066/CS6910-Assignment-1</a>"
            ]
          },
          "metadata": {}
        },
        {
          "output_type": "display_data",
          "data": {
            "text/plain": [
              "<IPython.core.display.HTML object>"
            ],
            "text/html": [
              " View sweep at <a href='https://wandb.ai/ns24z066/CS6910-Assignment-1/sweeps/91emsl1o' target=\"_blank\">https://wandb.ai/ns24z066/CS6910-Assignment-1/sweeps/91emsl1o</a>"
            ]
          },
          "metadata": {}
        },
        {
          "output_type": "display_data",
          "data": {
            "text/plain": [
              "<IPython.core.display.HTML object>"
            ],
            "text/html": [
              " View run at <a href='https://wandb.ai/ns24z066/CS6910-Assignment-1/runs/n550ywu9' target=\"_blank\">https://wandb.ai/ns24z066/CS6910-Assignment-1/runs/n550ywu9</a>"
            ]
          },
          "metadata": {}
        },
        {
          "output_type": "stream",
          "name": "stdout",
          "text": [
            "{activation tanh, batch_size: 64, epochs: 10, hidden_size: 64, learning_rate: 0.001, num_layers: 4, optimizer nag, weight_decay: 0.5, weight_init xavier}\n",
            "Using _nag_gradient_descent for traing optimization\n",
            "Seconds taken 9.91 batch: 1/843 val_loss_acc: (81854.85, 0.084)\n",
            "Seconds taken 66.53 batch: 422/843 val_loss_acc: (34633.57, 0.7)\n",
            "Seconds taken 50.61 batch: 843/843 val_loss_acc: (21030.33, 0.732)\n",
            "Mins taken 3.08 {'loss': 189172.49, 'accuracy': 0.73, 'val_loss': 21030.33, 'val_accuracy': 0.732, 'epoch': 0}\n",
            "Seconds taken 61.96 batch: 1/843 val_loss_acc: (20992.64, 0.71)\n",
            "Seconds taken 34.87 batch: 422/843 val_loss_acc: (15982.07, 0.706)\n",
            "Seconds taken 37.56 batch: 843/843 val_loss_acc: (18123.56, 0.484)\n",
            "Mins taken 2.25 {'loss': 162697.77, 'accuracy': 0.482, 'val_loss': 18123.56, 'val_accuracy': 0.484, 'epoch': 1}\n",
            "Seconds taken 65.27 batch: 1/843 val_loss_acc: (18469.37, 0.523)\n",
            "Seconds taken 42.44 batch: 422/843 val_loss_acc: (18087.32, 0.488)\n",
            "Seconds taken 39.04 batch: 843/843 val_loss_acc: (17277.65, 0.437)\n",
            "Mins taken 2.21 {'loss': 155859.11, 'accuracy': 0.418, 'val_loss': 17277.65, 'val_accuracy': 0.437, 'epoch': 2}\n",
            "Seconds taken 48.42 batch: 1/843 val_loss_acc: (17236.44, 0.437)\n",
            "Seconds taken 45.03 batch: 422/843 val_loss_acc: (19247.14, 0.296)\n",
            "Seconds taken 44.35 batch: 843/843 val_loss_acc: (15418.97, 0.269)\n",
            "Mins taken 2.52 {'loss': 138513.53, 'accuracy': 0.278, 'val_loss': 15418.97, 'val_accuracy': 0.269, 'epoch': 3}\n",
            "Seconds taken 62.91 batch: 1/843 val_loss_acc: (15373.08, 0.35)\n",
            "Seconds taken 38.08 batch: 422/843 val_loss_acc: (15519.38, 0.232)\n",
            "Seconds taken 40.67 batch: 843/843 val_loss_acc: (15223.06, 0.183)\n",
            "Mins taken 2.42 {'loss': 137027.0, 'accuracy': 0.186, 'val_loss': 15223.06, 'val_accuracy': 0.183, 'epoch': 4}\n",
            "Seconds taken 66.93 batch: 1/843 val_loss_acc: (15209.17, 0.169)\n",
            "Seconds taken 45.43 batch: 422/843 val_loss_acc: (14804.65, 0.101)\n",
            "Seconds taken 40.32 batch: 843/843 val_loss_acc: (14369.69, 0.103)\n",
            "Mins taken 2.26 {'loss': 129236.74, 'accuracy': 0.1, 'val_loss': 14369.69, 'val_accuracy': 0.103, 'epoch': 5}\n",
            "Seconds taken 48.45 batch: 1/843 val_loss_acc: (14358.54, 0.103)\n",
            "Seconds taken 44.66 batch: 422/843 val_loss_acc: (14099.39, 0.092)\n",
            "Seconds taken 41.21 batch: 843/843 val_loss_acc: (13986.25, 0.103)\n",
            "Mins taken 2.51 {'loss': 125793.4, 'accuracy': 0.1, 'val_loss': 13986.25, 'val_accuracy': 0.103, 'epoch': 6}\n",
            "Seconds taken 67.15 batch: 1/843 val_loss_acc: (13973.43, 0.103)\n",
            "Seconds taken 44.2 batch: 422/843 val_loss_acc: (13925.15, 0.092)\n",
            "Seconds taken 43.32 batch: 843/843 val_loss_acc: (13910.97, 0.103)\n",
            "Mins taken 2.61 {'loss': 125118.36, 'accuracy': 0.1, 'val_loss': 13910.97, 'val_accuracy': 0.103, 'epoch': 7}\n",
            "Seconds taken 67.68 batch: 1/843 val_loss_acc: (13897.63, 0.103)\n",
            "Seconds taken 43.63 batch: 422/843 val_loss_acc: (13891.84, 0.092)\n",
            "Seconds taken 45.56 batch: 843/843 val_loss_acc: (13896.67, 0.103)\n",
            "Mins taken 2.38 {'loss': 124990.29, 'accuracy': 0.1, 'val_loss': 13896.67, 'val_accuracy': 0.103, 'epoch': 8}\n",
            "Seconds taken 53.06 batch: 1/843 val_loss_acc: (13883.17, 0.103)\n",
            "Seconds taken 41.69 batch: 422/843 val_loss_acc: (13885.45, 0.092)\n",
            "Seconds taken 45.3 batch: 843/843 val_loss_acc: (13893.95, 0.103)\n",
            "Mins taken 2.53 {'loss': 124966.06, 'accuracy': 0.1, 'val_loss': 13893.95, 'val_accuracy': 0.103, 'epoch': 9}\n",
            "Total time taken for training: 24.76  mins\n"
          ]
        },
        {
          "output_type": "display_data",
          "data": {
            "text/plain": [
              "VBox(children=(Label(value='0.001 MB of 0.001 MB uploaded\\r'), FloatProgress(value=1.0, max=1.0)))"
            ],
            "application/vnd.jupyter.widget-view+json": {
              "version_major": 2,
              "version_minor": 0,
              "model_id": "710b828100834d839432b02df5a2ba99"
            }
          },
          "metadata": {}
        },
        {
          "output_type": "display_data",
          "data": {
            "text/plain": [
              "<IPython.core.display.HTML object>"
            ],
            "text/html": [
              "<style>\n",
              "    table.wandb td:nth-child(1) { padding: 0 10px; text-align: left ; width: auto;} td:nth-child(2) {text-align: left ; width: 100%}\n",
              "    .wandb-row { display: flex; flex-direction: row; flex-wrap: wrap; justify-content: flex-start; width: 100% }\n",
              "    .wandb-col { display: flex; flex-direction: column; flex-basis: 100%; flex: 1; padding: 10px; }\n",
              "    </style>\n",
              "<div class=\"wandb-row\"><div class=\"wandb-col\"><h3>Run history:</h3><br/><table class=\"wandb\"><tr><td>accuracy</td><td>█▅▅▃▂▁▁▁▁▁</td></tr><tr><td>epoch</td><td>▁▂▃▃▄▅▆▆▇█</td></tr><tr><td>loss</td><td>█▅▄▂▂▁▁▁▁▁</td></tr><tr><td>val_accuracy</td><td>█▅▅▃▂▁▁▁▁▁</td></tr><tr><td>val_loss</td><td>█▅▄▂▂▁▁▁▁▁</td></tr></table><br/></div><div class=\"wandb-col\"><h3>Run summary:</h3><br/><table class=\"wandb\"><tr><td>accuracy</td><td>0.1</td></tr><tr><td>epoch</td><td>9</td></tr><tr><td>loss</td><td>124966.06</td></tr><tr><td>val_accuracy</td><td>0.103</td></tr><tr><td>val_loss</td><td>13893.95</td></tr></table><br/></div></div>"
            ]
          },
          "metadata": {}
        },
        {
          "output_type": "display_data",
          "data": {
            "text/plain": [
              "<IPython.core.display.HTML object>"
            ],
            "text/html": [
              " View run <strong style=\"color:#cdcd00\">visionary-sweep-34</strong> at: <a href='https://wandb.ai/ns24z066/CS6910-Assignment-1/runs/n550ywu9' target=\"_blank\">https://wandb.ai/ns24z066/CS6910-Assignment-1/runs/n550ywu9</a><br/>Synced 5 W&B file(s), 0 media file(s), 0 artifact file(s) and 0 other file(s)"
            ]
          },
          "metadata": {}
        },
        {
          "output_type": "display_data",
          "data": {
            "text/plain": [
              "<IPython.core.display.HTML object>"
            ],
            "text/html": [
              "Find logs at: <code>./wandb/run-20240317_042125-n550ywu9/logs</code>"
            ]
          },
          "metadata": {}
        },
        {
          "output_type": "stream",
          "name": "stderr",
          "text": [
            "\u001b[34m\u001b[1mwandb\u001b[0m: Agent Starting Run: lev2grnw with config:\n",
            "\u001b[34m\u001b[1mwandb\u001b[0m: \tactivation: relu\n",
            "\u001b[34m\u001b[1mwandb\u001b[0m: \tbatch_size: 32\n",
            "\u001b[34m\u001b[1mwandb\u001b[0m: \tepochs: 5\n",
            "\u001b[34m\u001b[1mwandb\u001b[0m: \thidden_size: 32\n",
            "\u001b[34m\u001b[1mwandb\u001b[0m: \tlearning_rate: 0.001\n",
            "\u001b[34m\u001b[1mwandb\u001b[0m: \tnum_layers: 3\n",
            "\u001b[34m\u001b[1mwandb\u001b[0m: \toptimizer: nag\n",
            "\u001b[34m\u001b[1mwandb\u001b[0m: \tweight_decay: 0.5\n",
            "\u001b[34m\u001b[1mwandb\u001b[0m: \tweight_init: xavier\n"
          ]
        },
        {
          "output_type": "display_data",
          "data": {
            "text/plain": [
              "<IPython.core.display.HTML object>"
            ],
            "text/html": [
              "Tracking run with wandb version 0.16.4"
            ]
          },
          "metadata": {}
        },
        {
          "output_type": "display_data",
          "data": {
            "text/plain": [
              "<IPython.core.display.HTML object>"
            ],
            "text/html": [
              "Run data is saved locally in <code>/content/wandb/run-20240317_044627-lev2grnw</code>"
            ]
          },
          "metadata": {}
        },
        {
          "output_type": "display_data",
          "data": {
            "text/plain": [
              "<IPython.core.display.HTML object>"
            ],
            "text/html": [
              "Syncing run <strong><a href='https://wandb.ai/ns24z066/CS6910-Assignment-1/runs/lev2grnw' target=\"_blank\">comfy-sweep-42</a></strong> to <a href='https://wandb.ai/ns24z066/CS6910-Assignment-1' target=\"_blank\">Weights & Biases</a> (<a href='https://wandb.me/run' target=\"_blank\">docs</a>)<br/>Sweep page: <a href='https://wandb.ai/ns24z066/CS6910-Assignment-1/sweeps/91emsl1o' target=\"_blank\">https://wandb.ai/ns24z066/CS6910-Assignment-1/sweeps/91emsl1o</a>"
            ]
          },
          "metadata": {}
        },
        {
          "output_type": "display_data",
          "data": {
            "text/plain": [
              "<IPython.core.display.HTML object>"
            ],
            "text/html": [
              " View project at <a href='https://wandb.ai/ns24z066/CS6910-Assignment-1' target=\"_blank\">https://wandb.ai/ns24z066/CS6910-Assignment-1</a>"
            ]
          },
          "metadata": {}
        },
        {
          "output_type": "display_data",
          "data": {
            "text/plain": [
              "<IPython.core.display.HTML object>"
            ],
            "text/html": [
              " View sweep at <a href='https://wandb.ai/ns24z066/CS6910-Assignment-1/sweeps/91emsl1o' target=\"_blank\">https://wandb.ai/ns24z066/CS6910-Assignment-1/sweeps/91emsl1o</a>"
            ]
          },
          "metadata": {}
        },
        {
          "output_type": "display_data",
          "data": {
            "text/plain": [
              "<IPython.core.display.HTML object>"
            ],
            "text/html": [
              " View run at <a href='https://wandb.ai/ns24z066/CS6910-Assignment-1/runs/lev2grnw' target=\"_blank\">https://wandb.ai/ns24z066/CS6910-Assignment-1/runs/lev2grnw</a>"
            ]
          },
          "metadata": {}
        },
        {
          "output_type": "stream",
          "name": "stdout",
          "text": [
            "{activation relu, batch_size: 32, epochs: 5, hidden_size: 32, learning_rate: 0.001, num_layers: 3, optimizer nag, weight_decay: 0.5, weight_init xavier}\n",
            "Using _nag_gradient_descent for traing optimization\n",
            "Seconds taken 3.73 batch: 1/1687 val_loss_acc: (60151.01, 0.187)\n",
            "Seconds taken 27.34 batch: 844/1687 val_loss_acc: (19384.0, 0.151)\n",
            "Seconds taken 26.76 batch: 1687/1687 val_loss_acc: (14488.99, 0.1)\n",
            "Mins taken 1.44 {'loss': 130390.77, 'accuracy': 0.1, 'val_loss': 14488.99, 'val_accuracy': 0.1, 'epoch': 0}\n",
            "Seconds taken 30.81 batch: 1/1687 val_loss_acc: (14487.27, 0.1)\n",
            "Seconds taken 30.73 batch: 844/1687 val_loss_acc: (13895.92, 0.098)\n",
            "Seconds taken 30.33 batch: 1687/1687 val_loss_acc: (13826.51, 0.1)\n",
            "Mins taken 1.66 {'loss': 124428.77, 'accuracy': 0.1, 'val_loss': 13826.51, 'val_accuracy': 0.1, 'epoch': 1}\n",
            "Seconds taken 40.61 batch: 1/1687 val_loss_acc: (13826.45, 0.1)\n",
            "Seconds taken 28.81 batch: 844/1687 val_loss_acc: (13817.31, 0.105)\n",
            "Seconds taken 27.7 batch: 1687/1687 val_loss_acc: (13817.16, 0.1)\n",
            "Mins taken 1.49 {'loss': 124344.54, 'accuracy': 0.1, 'val_loss': 13817.16, 'val_accuracy': 0.1, 'epoch': 2}\n",
            "Seconds taken 30.67 batch: 1/1687 val_loss_acc: (13817.13, 0.1)\n",
            "Seconds taken 27.05 batch: 844/1687 val_loss_acc: (13816.2, 0.105)\n",
            "Seconds taken 28.94 batch: 1687/1687 val_loss_acc: (13817.03, 0.1)\n",
            "Mins taken 1.57 {'loss': 124343.36, 'accuracy': 0.1, 'val_loss': 13817.03, 'val_accuracy': 0.1, 'epoch': 3}\n",
            "Seconds taken 38.9 batch: 1/1687 val_loss_acc: (13817.0, 0.1)\n",
            "Seconds taken 31.81 batch: 844/1687 val_loss_acc: (13816.19, 0.105)\n",
            "Seconds taken 30.15 batch: 1687/1687 val_loss_acc: (13817.03, 0.1)\n",
            "Mins taken 1.63 {'loss': 124343.34, 'accuracy': 0.1, 'val_loss': 13817.03, 'val_accuracy': 0.1, 'epoch': 4}\n",
            "Total time taken for training: 7.78  mins\n"
          ]
        },
        {
          "output_type": "display_data",
          "data": {
            "text/plain": [
              "VBox(children=(Label(value='0.001 MB of 0.001 MB uploaded\\r'), FloatProgress(value=1.0, max=1.0)))"
            ],
            "application/vnd.jupyter.widget-view+json": {
              "version_major": 2,
              "version_minor": 0,
              "model_id": "0bc23264b8f14eb4b29317aa9a6e4827"
            }
          },
          "metadata": {}
        },
        {
          "output_type": "display_data",
          "data": {
            "text/plain": [
              "<IPython.core.display.HTML object>"
            ],
            "text/html": [
              "<style>\n",
              "    table.wandb td:nth-child(1) { padding: 0 10px; text-align: left ; width: auto;} td:nth-child(2) {text-align: left ; width: 100%}\n",
              "    .wandb-row { display: flex; flex-direction: row; flex-wrap: wrap; justify-content: flex-start; width: 100% }\n",
              "    .wandb-col { display: flex; flex-direction: column; flex-basis: 100%; flex: 1; padding: 10px; }\n",
              "    </style>\n",
              "<div class=\"wandb-row\"><div class=\"wandb-col\"><h3>Run history:</h3><br/><table class=\"wandb\"><tr><td>accuracy</td><td>▁▁▁▁▁</td></tr><tr><td>epoch</td><td>▁▃▅▆█</td></tr><tr><td>loss</td><td>█▁▁▁▁</td></tr><tr><td>val_accuracy</td><td>▁▁▁▁▁</td></tr><tr><td>val_loss</td><td>█▁▁▁▁</td></tr></table><br/></div><div class=\"wandb-col\"><h3>Run summary:</h3><br/><table class=\"wandb\"><tr><td>accuracy</td><td>0.1</td></tr><tr><td>epoch</td><td>4</td></tr><tr><td>loss</td><td>124343.34</td></tr><tr><td>val_accuracy</td><td>0.1</td></tr><tr><td>val_loss</td><td>13817.03</td></tr></table><br/></div></div>"
            ]
          },
          "metadata": {}
        },
        {
          "output_type": "display_data",
          "data": {
            "text/plain": [
              "<IPython.core.display.HTML object>"
            ],
            "text/html": [
              " View run <strong style=\"color:#cdcd00\">comfy-sweep-42</strong> at: <a href='https://wandb.ai/ns24z066/CS6910-Assignment-1/runs/lev2grnw' target=\"_blank\">https://wandb.ai/ns24z066/CS6910-Assignment-1/runs/lev2grnw</a><br/>Synced 5 W&B file(s), 0 media file(s), 0 artifact file(s) and 0 other file(s)"
            ]
          },
          "metadata": {}
        },
        {
          "output_type": "display_data",
          "data": {
            "text/plain": [
              "<IPython.core.display.HTML object>"
            ],
            "text/html": [
              "Find logs at: <code>./wandb/run-20240317_044627-lev2grnw/logs</code>"
            ]
          },
          "metadata": {}
        },
        {
          "output_type": "stream",
          "name": "stderr",
          "text": [
            "\u001b[34m\u001b[1mwandb\u001b[0m: Agent Starting Run: xcdm75oj with config:\n",
            "\u001b[34m\u001b[1mwandb\u001b[0m: \tactivation: sigmoid\n",
            "\u001b[34m\u001b[1mwandb\u001b[0m: \tbatch_size: 64\n",
            "\u001b[34m\u001b[1mwandb\u001b[0m: \tepochs: 5\n",
            "\u001b[34m\u001b[1mwandb\u001b[0m: \thidden_size: 32\n",
            "\u001b[34m\u001b[1mwandb\u001b[0m: \tlearning_rate: 0.0001\n",
            "\u001b[34m\u001b[1mwandb\u001b[0m: \tnum_layers: 5\n",
            "\u001b[34m\u001b[1mwandb\u001b[0m: \toptimizer: nadam\n",
            "\u001b[34m\u001b[1mwandb\u001b[0m: \tweight_decay: 0.5\n",
            "\u001b[34m\u001b[1mwandb\u001b[0m: \tweight_init: xavier\n"
          ]
        },
        {
          "output_type": "display_data",
          "data": {
            "text/plain": [
              "<IPython.core.display.HTML object>"
            ],
            "text/html": [
              "Tracking run with wandb version 0.16.4"
            ]
          },
          "metadata": {}
        },
        {
          "output_type": "display_data",
          "data": {
            "text/plain": [
              "<IPython.core.display.HTML object>"
            ],
            "text/html": [
              "Run data is saved locally in <code>/content/wandb/run-20240317_045432-xcdm75oj</code>"
            ]
          },
          "metadata": {}
        },
        {
          "output_type": "display_data",
          "data": {
            "text/plain": [
              "<IPython.core.display.HTML object>"
            ],
            "text/html": [
              "Syncing run <strong><a href='https://wandb.ai/ns24z066/CS6910-Assignment-1/runs/xcdm75oj' target=\"_blank\">fluent-sweep-46</a></strong> to <a href='https://wandb.ai/ns24z066/CS6910-Assignment-1' target=\"_blank\">Weights & Biases</a> (<a href='https://wandb.me/run' target=\"_blank\">docs</a>)<br/>Sweep page: <a href='https://wandb.ai/ns24z066/CS6910-Assignment-1/sweeps/91emsl1o' target=\"_blank\">https://wandb.ai/ns24z066/CS6910-Assignment-1/sweeps/91emsl1o</a>"
            ]
          },
          "metadata": {}
        },
        {
          "output_type": "display_data",
          "data": {
            "text/plain": [
              "<IPython.core.display.HTML object>"
            ],
            "text/html": [
              " View project at <a href='https://wandb.ai/ns24z066/CS6910-Assignment-1' target=\"_blank\">https://wandb.ai/ns24z066/CS6910-Assignment-1</a>"
            ]
          },
          "metadata": {}
        },
        {
          "output_type": "display_data",
          "data": {
            "text/plain": [
              "<IPython.core.display.HTML object>"
            ],
            "text/html": [
              " View sweep at <a href='https://wandb.ai/ns24z066/CS6910-Assignment-1/sweeps/91emsl1o' target=\"_blank\">https://wandb.ai/ns24z066/CS6910-Assignment-1/sweeps/91emsl1o</a>"
            ]
          },
          "metadata": {}
        },
        {
          "output_type": "display_data",
          "data": {
            "text/plain": [
              "<IPython.core.display.HTML object>"
            ],
            "text/html": [
              " View run at <a href='https://wandb.ai/ns24z066/CS6910-Assignment-1/runs/xcdm75oj' target=\"_blank\">https://wandb.ai/ns24z066/CS6910-Assignment-1/runs/xcdm75oj</a>"
            ]
          },
          "metadata": {}
        },
        {
          "output_type": "stream",
          "name": "stdout",
          "text": [
            "{activation sigmoid, batch_size: 64, epochs: 5, hidden_size: 32, learning_rate: 0.0001, num_layers: 5, optimizer nadam, weight_decay: 0.5, weight_init xavier}\n",
            "Using _nadam_gradient_descent for traing optimization\n",
            "Seconds taken 4.1 batch: 1/843 val_loss_acc: (48813.54, 0.106)\n",
            "Seconds taken 50.92 batch: 422/843 val_loss_acc: (39321.62, 0.106)\n",
            "Seconds taken 52.37 batch: 843/843 val_loss_acc: (36446.26, 0.106)\n",
            "Mins taken 2.74 {'loss': 329416.46, 'accuracy': 0.099, 'val_loss': 36446.26, 'val_accuracy': 0.106, 'epoch': 0}\n",
            "Seconds taken 62.39 batch: 1/843 val_loss_acc: (36437.92, 0.106)\n",
            "Seconds taken 49.89 batch: 422/843 val_loss_acc: (34191.93, 0.106)\n",
            "Seconds taken 46.97 batch: 843/843 val_loss_acc: (32825.72, 0.106)\n",
            "Mins taken 2.62 {'loss': 296338.52, 'accuracy': 0.099, 'val_loss': 32825.72, 'val_accuracy': 0.106, 'epoch': 1}\n",
            "Seconds taken 61.58 batch: 1/843 val_loss_acc: (32821.87, 0.106)\n",
            "Seconds taken 53.07 batch: 422/843 val_loss_acc: (31582.11, 0.106)\n",
            "Seconds taken 52.61 batch: 843/843 val_loss_acc: (30626.31, 0.106)\n",
            "Mins taken 2.61 {'loss': 276256.27, 'accuracy': 0.099, 'val_loss': 30626.31, 'val_accuracy': 0.106, 'epoch': 2}\n",
            "Seconds taken 48.59 batch: 1/843 val_loss_acc: (30623.71, 0.106)\n",
            "Seconds taken 39.11 batch: 422/843 val_loss_acc: (29700.87, 0.106)\n",
            "Seconds taken 49.2 batch: 843/843 val_loss_acc: (28922.69, 0.106)\n",
            "Mins taken 2.41 {'loss': 260741.15, 'accuracy': 0.099, 'val_loss': 28922.69, 'val_accuracy': 0.106, 'epoch': 3}\n",
            "Seconds taken 55.95 batch: 1/843 val_loss_acc: (28920.7, 0.106)\n",
            "Seconds taken 53.18 batch: 422/843 val_loss_acc: (28183.52, 0.106)\n",
            "Seconds taken 50.68 batch: 843/843 val_loss_acc: (27550.66, 0.106)\n",
            "Mins taken 2.7 {'loss': 248239.58, 'accuracy': 0.099, 'val_loss': 27550.66, 'val_accuracy': 0.106, 'epoch': 4}\n",
            "Total time taken for training: 13.08  mins\n"
          ]
        },
        {
          "output_type": "display_data",
          "data": {
            "text/plain": [
              "VBox(children=(Label(value='0.001 MB of 0.001 MB uploaded\\r'), FloatProgress(value=1.0, max=1.0)))"
            ],
            "application/vnd.jupyter.widget-view+json": {
              "version_major": 2,
              "version_minor": 0,
              "model_id": "04de3fc2e769492fb834c6083e4ce3ad"
            }
          },
          "metadata": {}
        },
        {
          "output_type": "display_data",
          "data": {
            "text/plain": [
              "<IPython.core.display.HTML object>"
            ],
            "text/html": [
              "<style>\n",
              "    table.wandb td:nth-child(1) { padding: 0 10px; text-align: left ; width: auto;} td:nth-child(2) {text-align: left ; width: 100%}\n",
              "    .wandb-row { display: flex; flex-direction: row; flex-wrap: wrap; justify-content: flex-start; width: 100% }\n",
              "    .wandb-col { display: flex; flex-direction: column; flex-basis: 100%; flex: 1; padding: 10px; }\n",
              "    </style>\n",
              "<div class=\"wandb-row\"><div class=\"wandb-col\"><h3>Run history:</h3><br/><table class=\"wandb\"><tr><td>accuracy</td><td>▁▁▁▁▁</td></tr><tr><td>epoch</td><td>▁▃▅▆█</td></tr><tr><td>loss</td><td>█▅▃▂▁</td></tr><tr><td>val_accuracy</td><td>▁▁▁▁▁</td></tr><tr><td>val_loss</td><td>█▅▃▂▁</td></tr></table><br/></div><div class=\"wandb-col\"><h3>Run summary:</h3><br/><table class=\"wandb\"><tr><td>accuracy</td><td>0.099</td></tr><tr><td>epoch</td><td>4</td></tr><tr><td>loss</td><td>248239.58</td></tr><tr><td>val_accuracy</td><td>0.106</td></tr><tr><td>val_loss</td><td>27550.66</td></tr></table><br/></div></div>"
            ]
          },
          "metadata": {}
        },
        {
          "output_type": "display_data",
          "data": {
            "text/plain": [
              "<IPython.core.display.HTML object>"
            ],
            "text/html": [
              " View run <strong style=\"color:#cdcd00\">fluent-sweep-46</strong> at: <a href='https://wandb.ai/ns24z066/CS6910-Assignment-1/runs/xcdm75oj' target=\"_blank\">https://wandb.ai/ns24z066/CS6910-Assignment-1/runs/xcdm75oj</a><br/>Synced 5 W&B file(s), 0 media file(s), 0 artifact file(s) and 0 other file(s)"
            ]
          },
          "metadata": {}
        },
        {
          "output_type": "display_data",
          "data": {
            "text/plain": [
              "<IPython.core.display.HTML object>"
            ],
            "text/html": [
              "Find logs at: <code>./wandb/run-20240317_045432-xcdm75oj/logs</code>"
            ]
          },
          "metadata": {}
        },
        {
          "output_type": "stream",
          "name": "stderr",
          "text": [
            "\u001b[34m\u001b[1mwandb\u001b[0m: Agent Starting Run: rp9uox19 with config:\n",
            "\u001b[34m\u001b[1mwandb\u001b[0m: \tactivation: sigmoid\n",
            "\u001b[34m\u001b[1mwandb\u001b[0m: \tbatch_size: 64\n",
            "\u001b[34m\u001b[1mwandb\u001b[0m: \tepochs: 10\n",
            "\u001b[34m\u001b[1mwandb\u001b[0m: \thidden_size: 64\n",
            "\u001b[34m\u001b[1mwandb\u001b[0m: \tlearning_rate: 0.001\n",
            "\u001b[34m\u001b[1mwandb\u001b[0m: \tnum_layers: 5\n",
            "\u001b[34m\u001b[1mwandb\u001b[0m: \toptimizer: nag\n",
            "\u001b[34m\u001b[1mwandb\u001b[0m: \tweight_decay: 0\n",
            "\u001b[34m\u001b[1mwandb\u001b[0m: \tweight_init: random\n"
          ]
        },
        {
          "output_type": "display_data",
          "data": {
            "text/plain": [
              "<IPython.core.display.HTML object>"
            ],
            "text/html": [
              "Tracking run with wandb version 0.16.4"
            ]
          },
          "metadata": {}
        },
        {
          "output_type": "display_data",
          "data": {
            "text/plain": [
              "<IPython.core.display.HTML object>"
            ],
            "text/html": [
              "Run data is saved locally in <code>/content/wandb/run-20240317_050754-rp9uox19</code>"
            ]
          },
          "metadata": {}
        },
        {
          "output_type": "display_data",
          "data": {
            "text/plain": [
              "<IPython.core.display.HTML object>"
            ],
            "text/html": [
              "Syncing run <strong><a href='https://wandb.ai/ns24z066/CS6910-Assignment-1/runs/rp9uox19' target=\"_blank\">happy-sweep-49</a></strong> to <a href='https://wandb.ai/ns24z066/CS6910-Assignment-1' target=\"_blank\">Weights & Biases</a> (<a href='https://wandb.me/run' target=\"_blank\">docs</a>)<br/>Sweep page: <a href='https://wandb.ai/ns24z066/CS6910-Assignment-1/sweeps/91emsl1o' target=\"_blank\">https://wandb.ai/ns24z066/CS6910-Assignment-1/sweeps/91emsl1o</a>"
            ]
          },
          "metadata": {}
        },
        {
          "output_type": "display_data",
          "data": {
            "text/plain": [
              "<IPython.core.display.HTML object>"
            ],
            "text/html": [
              " View project at <a href='https://wandb.ai/ns24z066/CS6910-Assignment-1' target=\"_blank\">https://wandb.ai/ns24z066/CS6910-Assignment-1</a>"
            ]
          },
          "metadata": {}
        },
        {
          "output_type": "display_data",
          "data": {
            "text/plain": [
              "<IPython.core.display.HTML object>"
            ],
            "text/html": [
              " View sweep at <a href='https://wandb.ai/ns24z066/CS6910-Assignment-1/sweeps/91emsl1o' target=\"_blank\">https://wandb.ai/ns24z066/CS6910-Assignment-1/sweeps/91emsl1o</a>"
            ]
          },
          "metadata": {}
        },
        {
          "output_type": "display_data",
          "data": {
            "text/plain": [
              "<IPython.core.display.HTML object>"
            ],
            "text/html": [
              " View run at <a href='https://wandb.ai/ns24z066/CS6910-Assignment-1/runs/rp9uox19' target=\"_blank\">https://wandb.ai/ns24z066/CS6910-Assignment-1/runs/rp9uox19</a>"
            ]
          },
          "metadata": {}
        },
        {
          "output_type": "stream",
          "name": "stdout",
          "text": [
            "{activation sigmoid, batch_size: 64, epochs: 10, hidden_size: 64, learning_rate: 0.001, num_layers: 5, optimizer nag, weight_decay: 0, weight_init random}\n",
            "Using _nag_gradient_descent for traing optimization\n",
            "Seconds taken 8.16 batch: 1/843 val_loss_acc: (43069.91, 0.07)\n",
            "Seconds taken 61.05 batch: 422/843 val_loss_acc: (17290.45, 0.413)\n",
            "Seconds taken 64.25 batch: 843/843 val_loss_acc: (15342.33, 0.508)\n",
            "Mins taken 3.49 {'loss': 137690.21, 'accuracy': 0.51, 'val_loss': 15342.33, 'val_accuracy': 0.508, 'epoch': 0}\n",
            "Seconds taken 83.34 batch: 1/843 val_loss_acc: (15350.54, 0.511)\n",
            "Seconds taken 61.81 batch: 422/843 val_loss_acc: (13076.21, 0.534)\n",
            "Seconds taken 59.74 batch: 843/843 val_loss_acc: (5807.51, 0.681)\n",
            "Mins taken 3.41 {'loss': 52192.8, 'accuracy': 0.681, 'val_loss': 5807.51, 'val_accuracy': 0.681, 'epoch': 1}\n",
            "Seconds taken 81.82 batch: 1/843 val_loss_acc: (5775.74, 0.683)\n",
            "Seconds taken 63.06 batch: 422/843 val_loss_acc: (5242.63, 0.703)\n",
            "Seconds taken 63.18 batch: 843/843 val_loss_acc: (4955.01, 0.716)\n",
            "Mins taken 3.44 {'loss': 44258.72, 'accuracy': 0.72, 'val_loss': 4955.01, 'val_accuracy': 0.716, 'epoch': 2}\n",
            "Seconds taken 82.16 batch: 1/843 val_loss_acc: (4931.54, 0.714)\n",
            "Seconds taken 58.85 batch: 422/843 val_loss_acc: (4793.76, 0.724)\n",
            "Seconds taken 62.97 batch: 843/843 val_loss_acc: (4598.69, 0.733)\n",
            "Mins taken 3.06 {'loss': 40879.28, 'accuracy': 0.739, 'val_loss': 4598.69, 'val_accuracy': 0.733, 'epoch': 3}\n",
            "Seconds taken 60.28 batch: 1/843 val_loss_acc: (4578.41, 0.736)\n",
            "Seconds taken 62.37 batch: 422/843 val_loss_acc: (4560.86, 0.738)\n",
            "Seconds taken 57.26 batch: 843/843 val_loss_acc: (4389.77, 0.746)\n",
            "Mins taken 3.4 {'loss': 38882.54, 'accuracy': 0.75, 'val_loss': 4389.77, 'val_accuracy': 0.746, 'epoch': 4}\n",
            "Seconds taken 82.9 batch: 1/843 val_loss_acc: (4370.13, 0.748)\n",
            "Seconds taken 62.0 batch: 422/843 val_loss_acc: (4411.56, 0.746)\n",
            "Seconds taken 63.64 batch: 843/843 val_loss_acc: (4254.36, 0.751)\n",
            "Mins taken 3.3 {'loss': 37590.89, 'accuracy': 0.757, 'val_loss': 4254.36, 'val_accuracy': 0.751, 'epoch': 5}\n",
            "Seconds taken 73.41 batch: 1/843 val_loss_acc: (4232.8, 0.754)\n",
            "Seconds taken 60.84 batch: 422/843 val_loss_acc: (4300.39, 0.752)\n",
            "Seconds taken 57.86 batch: 843/843 val_loss_acc: (4159.97, 0.755)\n",
            "Mins taken 3.31 {'loss': 36669.05, 'accuracy': 0.762, 'val_loss': 4159.97, 'val_accuracy': 0.755, 'epoch': 6}\n",
            "Seconds taken 78.57 batch: 1/843 val_loss_acc: (4137.25, 0.759)\n",
            "Seconds taken 55.05 batch: 422/843 val_loss_acc: (4207.03, 0.759)\n",
            "Seconds taken 63.46 batch: 843/843 val_loss_acc: (4090.58, 0.759)\n",
            "Mins taken 3.38 {'loss': 35955.1, 'accuracy': 0.766, 'val_loss': 4090.58, 'val_accuracy': 0.759, 'epoch': 7}\n",
            "Seconds taken 85.54 batch: 1/843 val_loss_acc: (4067.88, 0.763)\n",
            "Seconds taken 60.56 batch: 422/843 val_loss_acc: (4128.47, 0.764)\n",
            "Seconds taken 55.08 batch: 843/843 val_loss_acc: (4037.78, 0.762)\n",
            "Mins taken 3.14 {'loss': 35384.69, 'accuracy': 0.77, 'val_loss': 4037.78, 'val_accuracy': 0.762, 'epoch': 8}\n",
            "Seconds taken 72.25 batch: 1/843 val_loss_acc: (4015.8, 0.768)\n",
            "Seconds taken 62.56 batch: 422/843 val_loss_acc: (4067.06, 0.767)\n",
            "Seconds taken 68.36 batch: 843/843 val_loss_acc: (3995.77, 0.766)\n",
            "Mins taken 3.47 {'loss': 34916.36, 'accuracy': 0.773, 'val_loss': 3995.77, 'val_accuracy': 0.766, 'epoch': 9}\n",
            "Total time taken for training: 33.37  mins\n"
          ]
        },
        {
          "output_type": "display_data",
          "data": {
            "text/plain": [
              "VBox(children=(Label(value='0.001 MB of 0.001 MB uploaded\\r'), FloatProgress(value=1.0, max=1.0)))"
            ],
            "application/vnd.jupyter.widget-view+json": {
              "version_major": 2,
              "version_minor": 0,
              "model_id": "9c0ea68d98944df7a7fcecc9e2741f5c"
            }
          },
          "metadata": {}
        },
        {
          "output_type": "display_data",
          "data": {
            "text/plain": [
              "<IPython.core.display.HTML object>"
            ],
            "text/html": [
              "<style>\n",
              "    table.wandb td:nth-child(1) { padding: 0 10px; text-align: left ; width: auto;} td:nth-child(2) {text-align: left ; width: 100%}\n",
              "    .wandb-row { display: flex; flex-direction: row; flex-wrap: wrap; justify-content: flex-start; width: 100% }\n",
              "    .wandb-col { display: flex; flex-direction: column; flex-basis: 100%; flex: 1; padding: 10px; }\n",
              "    </style>\n",
              "<div class=\"wandb-row\"><div class=\"wandb-col\"><h3>Run history:</h3><br/><table class=\"wandb\"><tr><td>accuracy</td><td>▁▆▇▇▇█████</td></tr><tr><td>epoch</td><td>▁▂▃▃▄▅▆▆▇█</td></tr><tr><td>loss</td><td>█▂▂▁▁▁▁▁▁▁</td></tr><tr><td>val_accuracy</td><td>▁▆▇▇▇█████</td></tr><tr><td>val_loss</td><td>█▂▂▁▁▁▁▁▁▁</td></tr></table><br/></div><div class=\"wandb-col\"><h3>Run summary:</h3><br/><table class=\"wandb\"><tr><td>accuracy</td><td>0.773</td></tr><tr><td>epoch</td><td>9</td></tr><tr><td>loss</td><td>34916.36</td></tr><tr><td>val_accuracy</td><td>0.766</td></tr><tr><td>val_loss</td><td>3995.77</td></tr></table><br/></div></div>"
            ]
          },
          "metadata": {}
        },
        {
          "output_type": "display_data",
          "data": {
            "text/plain": [
              "<IPython.core.display.HTML object>"
            ],
            "text/html": [
              " View run <strong style=\"color:#cdcd00\">happy-sweep-49</strong> at: <a href='https://wandb.ai/ns24z066/CS6910-Assignment-1/runs/rp9uox19' target=\"_blank\">https://wandb.ai/ns24z066/CS6910-Assignment-1/runs/rp9uox19</a><br/>Synced 5 W&B file(s), 0 media file(s), 0 artifact file(s) and 0 other file(s)"
            ]
          },
          "metadata": {}
        },
        {
          "output_type": "display_data",
          "data": {
            "text/plain": [
              "<IPython.core.display.HTML object>"
            ],
            "text/html": [
              "Find logs at: <code>./wandb/run-20240317_050754-rp9uox19/logs</code>"
            ]
          },
          "metadata": {}
        },
        {
          "output_type": "stream",
          "name": "stderr",
          "text": [
            "\u001b[34m\u001b[1mwandb\u001b[0m: Agent Starting Run: x6dsd64j with config:\n",
            "\u001b[34m\u001b[1mwandb\u001b[0m: \tactivation: sigmoid\n",
            "\u001b[34m\u001b[1mwandb\u001b[0m: \tbatch_size: 64\n",
            "\u001b[34m\u001b[1mwandb\u001b[0m: \tepochs: 10\n",
            "\u001b[34m\u001b[1mwandb\u001b[0m: \thidden_size: 128\n",
            "\u001b[34m\u001b[1mwandb\u001b[0m: \tlearning_rate: 0.0001\n",
            "\u001b[34m\u001b[1mwandb\u001b[0m: \tnum_layers: 3\n",
            "\u001b[34m\u001b[1mwandb\u001b[0m: \toptimizer: nadam\n",
            "\u001b[34m\u001b[1mwandb\u001b[0m: \tweight_decay: 0\n",
            "\u001b[34m\u001b[1mwandb\u001b[0m: \tweight_init: random\n"
          ]
        },
        {
          "output_type": "display_data",
          "data": {
            "text/plain": [
              "<IPython.core.display.HTML object>"
            ],
            "text/html": [
              "Tracking run with wandb version 0.16.4"
            ]
          },
          "metadata": {}
        },
        {
          "output_type": "display_data",
          "data": {
            "text/plain": [
              "<IPython.core.display.HTML object>"
            ],
            "text/html": [
              "Run data is saved locally in <code>/content/wandb/run-20240317_054134-x6dsd64j</code>"
            ]
          },
          "metadata": {}
        },
        {
          "output_type": "display_data",
          "data": {
            "text/plain": [
              "<IPython.core.display.HTML object>"
            ],
            "text/html": [
              "Syncing run <strong><a href='https://wandb.ai/ns24z066/CS6910-Assignment-1/runs/x6dsd64j' target=\"_blank\">radiant-sweep-56</a></strong> to <a href='https://wandb.ai/ns24z066/CS6910-Assignment-1' target=\"_blank\">Weights & Biases</a> (<a href='https://wandb.me/run' target=\"_blank\">docs</a>)<br/>Sweep page: <a href='https://wandb.ai/ns24z066/CS6910-Assignment-1/sweeps/91emsl1o' target=\"_blank\">https://wandb.ai/ns24z066/CS6910-Assignment-1/sweeps/91emsl1o</a>"
            ]
          },
          "metadata": {}
        },
        {
          "output_type": "display_data",
          "data": {
            "text/plain": [
              "<IPython.core.display.HTML object>"
            ],
            "text/html": [
              " View project at <a href='https://wandb.ai/ns24z066/CS6910-Assignment-1' target=\"_blank\">https://wandb.ai/ns24z066/CS6910-Assignment-1</a>"
            ]
          },
          "metadata": {}
        },
        {
          "output_type": "display_data",
          "data": {
            "text/plain": [
              "<IPython.core.display.HTML object>"
            ],
            "text/html": [
              " View sweep at <a href='https://wandb.ai/ns24z066/CS6910-Assignment-1/sweeps/91emsl1o' target=\"_blank\">https://wandb.ai/ns24z066/CS6910-Assignment-1/sweeps/91emsl1o</a>"
            ]
          },
          "metadata": {}
        },
        {
          "output_type": "display_data",
          "data": {
            "text/plain": [
              "<IPython.core.display.HTML object>"
            ],
            "text/html": [
              " View run at <a href='https://wandb.ai/ns24z066/CS6910-Assignment-1/runs/x6dsd64j' target=\"_blank\">https://wandb.ai/ns24z066/CS6910-Assignment-1/runs/x6dsd64j</a>"
            ]
          },
          "metadata": {}
        },
        {
          "output_type": "stream",
          "name": "stdout",
          "text": [
            "{activation sigmoid, batch_size: 64, epochs: 10, hidden_size: 128, learning_rate: 0.0001, num_layers: 3, optimizer nadam, weight_decay: 0, weight_init random}\n",
            "Using _nadam_gradient_descent for traing optimization\n",
            "Seconds taken 9.22 batch: 1/843 val_loss_acc: (61286.19, 0.085)\n"
          ]
        },
        {
          "output_type": "stream",
          "name": "stderr",
          "text": [
            "\u001b[34m\u001b[1mwandb\u001b[0m: Ctrl + C detected. Stopping sweep.\n"
          ]
        },
        {
          "output_type": "stream",
          "name": "stdout",
          "text": [
            "Error in callback <bound method _WandbInit._pause_backend of <wandb.sdk.wandb_init._WandbInit object at 0x7c2dff563ee0>> (for post_run_cell):\n"
          ]
        },
        {
          "output_type": "error",
          "ename": "BrokenPipeError",
          "evalue": "[Errno 32] Broken pipe",
          "traceback": [
            "\u001b[0;31m---------------------------------------------------------------------------\u001b[0m",
            "\u001b[0;31mBrokenPipeError\u001b[0m                           Traceback (most recent call last)",
            "\u001b[0;32m/usr/local/lib/python3.10/dist-packages/wandb/sdk/wandb_init.py\u001b[0m in \u001b[0;36m_pause_backend\u001b[0;34m(self, *args, **kwargs)\u001b[0m\n\u001b[1;32m    436\u001b[0m         \u001b[0;32mif\u001b[0m \u001b[0mself\u001b[0m\u001b[0;34m.\u001b[0m\u001b[0mbackend\u001b[0m\u001b[0;34m.\u001b[0m\u001b[0minterface\u001b[0m \u001b[0;32mis\u001b[0m \u001b[0;32mnot\u001b[0m \u001b[0;32mNone\u001b[0m\u001b[0;34m:\u001b[0m\u001b[0;34m\u001b[0m\u001b[0;34m\u001b[0m\u001b[0m\n\u001b[1;32m    437\u001b[0m             \u001b[0mlogger\u001b[0m\u001b[0;34m.\u001b[0m\u001b[0minfo\u001b[0m\u001b[0;34m(\u001b[0m\u001b[0;34m\"pausing backend\"\u001b[0m\u001b[0;34m)\u001b[0m  \u001b[0;31m# type: ignore\u001b[0m\u001b[0;34m\u001b[0m\u001b[0;34m\u001b[0m\u001b[0m\n\u001b[0;32m--> 438\u001b[0;31m             \u001b[0mself\u001b[0m\u001b[0;34m.\u001b[0m\u001b[0mbackend\u001b[0m\u001b[0;34m.\u001b[0m\u001b[0minterface\u001b[0m\u001b[0;34m.\u001b[0m\u001b[0mpublish_pause\u001b[0m\u001b[0;34m(\u001b[0m\u001b[0;34m)\u001b[0m\u001b[0;34m\u001b[0m\u001b[0;34m\u001b[0m\u001b[0m\n\u001b[0m\u001b[1;32m    439\u001b[0m \u001b[0;34m\u001b[0m\u001b[0m\n\u001b[1;32m    440\u001b[0m     \u001b[0;32mdef\u001b[0m \u001b[0m_resume_backend\u001b[0m\u001b[0;34m(\u001b[0m\u001b[0mself\u001b[0m\u001b[0;34m,\u001b[0m \u001b[0;34m*\u001b[0m\u001b[0margs\u001b[0m\u001b[0;34m:\u001b[0m \u001b[0mAny\u001b[0m\u001b[0;34m,\u001b[0m \u001b[0;34m**\u001b[0m\u001b[0mkwargs\u001b[0m\u001b[0;34m:\u001b[0m \u001b[0mAny\u001b[0m\u001b[0;34m)\u001b[0m \u001b[0;34m->\u001b[0m \u001b[0;32mNone\u001b[0m\u001b[0;34m:\u001b[0m  \u001b[0;31m#  noqa\u001b[0m\u001b[0;34m\u001b[0m\u001b[0;34m\u001b[0m\u001b[0m\n",
            "\u001b[0;32m/usr/local/lib/python3.10/dist-packages/wandb/sdk/interface/interface.py\u001b[0m in \u001b[0;36mpublish_pause\u001b[0;34m(self)\u001b[0m\n\u001b[1;32m    657\u001b[0m     \u001b[0;32mdef\u001b[0m \u001b[0mpublish_pause\u001b[0m\u001b[0;34m(\u001b[0m\u001b[0mself\u001b[0m\u001b[0;34m)\u001b[0m \u001b[0;34m->\u001b[0m \u001b[0;32mNone\u001b[0m\u001b[0;34m:\u001b[0m\u001b[0;34m\u001b[0m\u001b[0;34m\u001b[0m\u001b[0m\n\u001b[1;32m    658\u001b[0m         \u001b[0mpause\u001b[0m \u001b[0;34m=\u001b[0m \u001b[0mpb\u001b[0m\u001b[0;34m.\u001b[0m\u001b[0mPauseRequest\u001b[0m\u001b[0;34m(\u001b[0m\u001b[0;34m)\u001b[0m\u001b[0;34m\u001b[0m\u001b[0;34m\u001b[0m\u001b[0m\n\u001b[0;32m--> 659\u001b[0;31m         \u001b[0mself\u001b[0m\u001b[0;34m.\u001b[0m\u001b[0m_publish_pause\u001b[0m\u001b[0;34m(\u001b[0m\u001b[0mpause\u001b[0m\u001b[0;34m)\u001b[0m\u001b[0;34m\u001b[0m\u001b[0;34m\u001b[0m\u001b[0m\n\u001b[0m\u001b[1;32m    660\u001b[0m \u001b[0;34m\u001b[0m\u001b[0m\n\u001b[1;32m    661\u001b[0m     \u001b[0;34m@\u001b[0m\u001b[0mabstractmethod\u001b[0m\u001b[0;34m\u001b[0m\u001b[0;34m\u001b[0m\u001b[0m\n",
            "\u001b[0;32m/usr/local/lib/python3.10/dist-packages/wandb/sdk/interface/interface_shared.py\u001b[0m in \u001b[0;36m_publish_pause\u001b[0;34m(self, pause)\u001b[0m\n\u001b[1;32m    353\u001b[0m     \u001b[0;32mdef\u001b[0m \u001b[0m_publish_pause\u001b[0m\u001b[0;34m(\u001b[0m\u001b[0mself\u001b[0m\u001b[0;34m,\u001b[0m \u001b[0mpause\u001b[0m\u001b[0;34m:\u001b[0m \u001b[0mpb\u001b[0m\u001b[0;34m.\u001b[0m\u001b[0mPauseRequest\u001b[0m\u001b[0;34m)\u001b[0m \u001b[0;34m->\u001b[0m \u001b[0;32mNone\u001b[0m\u001b[0;34m:\u001b[0m\u001b[0;34m\u001b[0m\u001b[0;34m\u001b[0m\u001b[0m\n\u001b[1;32m    354\u001b[0m         \u001b[0mrec\u001b[0m \u001b[0;34m=\u001b[0m \u001b[0mself\u001b[0m\u001b[0;34m.\u001b[0m\u001b[0m_make_request\u001b[0m\u001b[0;34m(\u001b[0m\u001b[0mpause\u001b[0m\u001b[0;34m=\u001b[0m\u001b[0mpause\u001b[0m\u001b[0;34m)\u001b[0m\u001b[0;34m\u001b[0m\u001b[0;34m\u001b[0m\u001b[0m\n\u001b[0;32m--> 355\u001b[0;31m         \u001b[0mself\u001b[0m\u001b[0;34m.\u001b[0m\u001b[0m_publish\u001b[0m\u001b[0;34m(\u001b[0m\u001b[0mrec\u001b[0m\u001b[0;34m)\u001b[0m\u001b[0;34m\u001b[0m\u001b[0;34m\u001b[0m\u001b[0m\n\u001b[0m\u001b[1;32m    356\u001b[0m \u001b[0;34m\u001b[0m\u001b[0m\n\u001b[1;32m    357\u001b[0m     \u001b[0;32mdef\u001b[0m \u001b[0m_publish_resume\u001b[0m\u001b[0;34m(\u001b[0m\u001b[0mself\u001b[0m\u001b[0;34m,\u001b[0m \u001b[0mresume\u001b[0m\u001b[0;34m:\u001b[0m \u001b[0mpb\u001b[0m\u001b[0;34m.\u001b[0m\u001b[0mResumeRequest\u001b[0m\u001b[0;34m)\u001b[0m \u001b[0;34m->\u001b[0m \u001b[0;32mNone\u001b[0m\u001b[0;34m:\u001b[0m\u001b[0;34m\u001b[0m\u001b[0;34m\u001b[0m\u001b[0m\n",
            "\u001b[0;32m/usr/local/lib/python3.10/dist-packages/wandb/sdk/interface/interface_sock.py\u001b[0m in \u001b[0;36m_publish\u001b[0;34m(self, record, local)\u001b[0m\n\u001b[1;32m     49\u001b[0m     \u001b[0;32mdef\u001b[0m \u001b[0m_publish\u001b[0m\u001b[0;34m(\u001b[0m\u001b[0mself\u001b[0m\u001b[0;34m,\u001b[0m \u001b[0mrecord\u001b[0m\u001b[0;34m:\u001b[0m \u001b[0;34m\"pb.Record\"\u001b[0m\u001b[0;34m,\u001b[0m \u001b[0mlocal\u001b[0m\u001b[0;34m:\u001b[0m \u001b[0mOptional\u001b[0m\u001b[0;34m[\u001b[0m\u001b[0mbool\u001b[0m\u001b[0;34m]\u001b[0m \u001b[0;34m=\u001b[0m \u001b[0;32mNone\u001b[0m\u001b[0;34m)\u001b[0m \u001b[0;34m->\u001b[0m \u001b[0;32mNone\u001b[0m\u001b[0;34m:\u001b[0m\u001b[0;34m\u001b[0m\u001b[0;34m\u001b[0m\u001b[0m\n\u001b[1;32m     50\u001b[0m         \u001b[0mself\u001b[0m\u001b[0;34m.\u001b[0m\u001b[0m_assign\u001b[0m\u001b[0;34m(\u001b[0m\u001b[0mrecord\u001b[0m\u001b[0;34m)\u001b[0m\u001b[0;34m\u001b[0m\u001b[0;34m\u001b[0m\u001b[0m\n\u001b[0;32m---> 51\u001b[0;31m         \u001b[0mself\u001b[0m\u001b[0;34m.\u001b[0m\u001b[0m_sock_client\u001b[0m\u001b[0;34m.\u001b[0m\u001b[0msend_record_publish\u001b[0m\u001b[0;34m(\u001b[0m\u001b[0mrecord\u001b[0m\u001b[0;34m)\u001b[0m\u001b[0;34m\u001b[0m\u001b[0;34m\u001b[0m\u001b[0m\n\u001b[0m\u001b[1;32m     52\u001b[0m \u001b[0;34m\u001b[0m\u001b[0m\n\u001b[1;32m     53\u001b[0m     def _communicate_async(\n",
            "\u001b[0;32m/usr/local/lib/python3.10/dist-packages/wandb/sdk/lib/sock_client.py\u001b[0m in \u001b[0;36msend_record_publish\u001b[0;34m(self, record)\u001b[0m\n\u001b[1;32m    219\u001b[0m         \u001b[0mserver_req\u001b[0m \u001b[0;34m=\u001b[0m \u001b[0mspb\u001b[0m\u001b[0;34m.\u001b[0m\u001b[0mServerRequest\u001b[0m\u001b[0;34m(\u001b[0m\u001b[0;34m)\u001b[0m\u001b[0;34m\u001b[0m\u001b[0;34m\u001b[0m\u001b[0m\n\u001b[1;32m    220\u001b[0m         \u001b[0mserver_req\u001b[0m\u001b[0;34m.\u001b[0m\u001b[0mrecord_publish\u001b[0m\u001b[0;34m.\u001b[0m\u001b[0mCopyFrom\u001b[0m\u001b[0;34m(\u001b[0m\u001b[0mrecord\u001b[0m\u001b[0;34m)\u001b[0m\u001b[0;34m\u001b[0m\u001b[0;34m\u001b[0m\u001b[0m\n\u001b[0;32m--> 221\u001b[0;31m         \u001b[0mself\u001b[0m\u001b[0;34m.\u001b[0m\u001b[0msend_server_request\u001b[0m\u001b[0;34m(\u001b[0m\u001b[0mserver_req\u001b[0m\u001b[0;34m)\u001b[0m\u001b[0;34m\u001b[0m\u001b[0;34m\u001b[0m\u001b[0m\n\u001b[0m\u001b[1;32m    222\u001b[0m \u001b[0;34m\u001b[0m\u001b[0m\n\u001b[1;32m    223\u001b[0m     \u001b[0;32mdef\u001b[0m \u001b[0m_extract_packet_bytes\u001b[0m\u001b[0;34m(\u001b[0m\u001b[0mself\u001b[0m\u001b[0;34m)\u001b[0m \u001b[0;34m->\u001b[0m \u001b[0mOptional\u001b[0m\u001b[0;34m[\u001b[0m\u001b[0mbytes\u001b[0m\u001b[0;34m]\u001b[0m\u001b[0;34m:\u001b[0m\u001b[0;34m\u001b[0m\u001b[0;34m\u001b[0m\u001b[0m\n",
            "\u001b[0;32m/usr/local/lib/python3.10/dist-packages/wandb/sdk/lib/sock_client.py\u001b[0m in \u001b[0;36msend_server_request\u001b[0;34m(self, msg)\u001b[0m\n\u001b[1;32m    153\u001b[0m \u001b[0;34m\u001b[0m\u001b[0m\n\u001b[1;32m    154\u001b[0m     \u001b[0;32mdef\u001b[0m \u001b[0msend_server_request\u001b[0m\u001b[0;34m(\u001b[0m\u001b[0mself\u001b[0m\u001b[0;34m,\u001b[0m \u001b[0mmsg\u001b[0m\u001b[0;34m:\u001b[0m \u001b[0mAny\u001b[0m\u001b[0;34m)\u001b[0m \u001b[0;34m->\u001b[0m \u001b[0;32mNone\u001b[0m\u001b[0;34m:\u001b[0m\u001b[0;34m\u001b[0m\u001b[0;34m\u001b[0m\u001b[0m\n\u001b[0;32m--> 155\u001b[0;31m         \u001b[0mself\u001b[0m\u001b[0;34m.\u001b[0m\u001b[0m_send_message\u001b[0m\u001b[0;34m(\u001b[0m\u001b[0mmsg\u001b[0m\u001b[0;34m)\u001b[0m\u001b[0;34m\u001b[0m\u001b[0;34m\u001b[0m\u001b[0m\n\u001b[0m\u001b[1;32m    156\u001b[0m \u001b[0;34m\u001b[0m\u001b[0m\n\u001b[1;32m    157\u001b[0m     \u001b[0;32mdef\u001b[0m \u001b[0msend_server_response\u001b[0m\u001b[0;34m(\u001b[0m\u001b[0mself\u001b[0m\u001b[0;34m,\u001b[0m \u001b[0mmsg\u001b[0m\u001b[0;34m:\u001b[0m \u001b[0mAny\u001b[0m\u001b[0;34m)\u001b[0m \u001b[0;34m->\u001b[0m \u001b[0;32mNone\u001b[0m\u001b[0;34m:\u001b[0m\u001b[0;34m\u001b[0m\u001b[0;34m\u001b[0m\u001b[0m\n",
            "\u001b[0;32m/usr/local/lib/python3.10/dist-packages/wandb/sdk/lib/sock_client.py\u001b[0m in \u001b[0;36m_send_message\u001b[0;34m(self, msg)\u001b[0m\n\u001b[1;32m    150\u001b[0m         \u001b[0mheader\u001b[0m \u001b[0;34m=\u001b[0m \u001b[0mstruct\u001b[0m\u001b[0;34m.\u001b[0m\u001b[0mpack\u001b[0m\u001b[0;34m(\u001b[0m\u001b[0;34m\"<BI\"\u001b[0m\u001b[0;34m,\u001b[0m \u001b[0mord\u001b[0m\u001b[0;34m(\u001b[0m\u001b[0;34m\"W\"\u001b[0m\u001b[0;34m)\u001b[0m\u001b[0;34m,\u001b[0m \u001b[0mraw_size\u001b[0m\u001b[0;34m)\u001b[0m\u001b[0;34m\u001b[0m\u001b[0;34m\u001b[0m\u001b[0m\n\u001b[1;32m    151\u001b[0m         \u001b[0;32mwith\u001b[0m \u001b[0mself\u001b[0m\u001b[0;34m.\u001b[0m\u001b[0m_lock\u001b[0m\u001b[0;34m:\u001b[0m\u001b[0;34m\u001b[0m\u001b[0;34m\u001b[0m\u001b[0m\n\u001b[0;32m--> 152\u001b[0;31m             \u001b[0mself\u001b[0m\u001b[0;34m.\u001b[0m\u001b[0m_sendall_with_error_handle\u001b[0m\u001b[0;34m(\u001b[0m\u001b[0mheader\u001b[0m \u001b[0;34m+\u001b[0m \u001b[0mdata\u001b[0m\u001b[0;34m)\u001b[0m\u001b[0;34m\u001b[0m\u001b[0;34m\u001b[0m\u001b[0m\n\u001b[0m\u001b[1;32m    153\u001b[0m \u001b[0;34m\u001b[0m\u001b[0m\n\u001b[1;32m    154\u001b[0m     \u001b[0;32mdef\u001b[0m \u001b[0msend_server_request\u001b[0m\u001b[0;34m(\u001b[0m\u001b[0mself\u001b[0m\u001b[0;34m,\u001b[0m \u001b[0mmsg\u001b[0m\u001b[0;34m:\u001b[0m \u001b[0mAny\u001b[0m\u001b[0;34m)\u001b[0m \u001b[0;34m->\u001b[0m \u001b[0;32mNone\u001b[0m\u001b[0;34m:\u001b[0m\u001b[0;34m\u001b[0m\u001b[0;34m\u001b[0m\u001b[0m\n",
            "\u001b[0;32m/usr/local/lib/python3.10/dist-packages/wandb/sdk/lib/sock_client.py\u001b[0m in \u001b[0;36m_sendall_with_error_handle\u001b[0;34m(self, data)\u001b[0m\n\u001b[1;32m    128\u001b[0m             \u001b[0mstart_time\u001b[0m \u001b[0;34m=\u001b[0m \u001b[0mtime\u001b[0m\u001b[0;34m.\u001b[0m\u001b[0mmonotonic\u001b[0m\u001b[0;34m(\u001b[0m\u001b[0;34m)\u001b[0m\u001b[0;34m\u001b[0m\u001b[0;34m\u001b[0m\u001b[0m\n\u001b[1;32m    129\u001b[0m             \u001b[0;32mtry\u001b[0m\u001b[0;34m:\u001b[0m\u001b[0;34m\u001b[0m\u001b[0;34m\u001b[0m\u001b[0m\n\u001b[0;32m--> 130\u001b[0;31m                 \u001b[0msent\u001b[0m \u001b[0;34m=\u001b[0m \u001b[0mself\u001b[0m\u001b[0;34m.\u001b[0m\u001b[0m_sock\u001b[0m\u001b[0;34m.\u001b[0m\u001b[0msend\u001b[0m\u001b[0;34m(\u001b[0m\u001b[0mdata\u001b[0m\u001b[0;34m)\u001b[0m\u001b[0;34m\u001b[0m\u001b[0;34m\u001b[0m\u001b[0m\n\u001b[0m\u001b[1;32m    131\u001b[0m                 \u001b[0;31m# sent equal to 0 indicates a closed socket\u001b[0m\u001b[0;34m\u001b[0m\u001b[0;34m\u001b[0m\u001b[0m\n\u001b[1;32m    132\u001b[0m                 \u001b[0;32mif\u001b[0m \u001b[0msent\u001b[0m \u001b[0;34m==\u001b[0m \u001b[0;36m0\u001b[0m\u001b[0;34m:\u001b[0m\u001b[0;34m\u001b[0m\u001b[0;34m\u001b[0m\u001b[0m\n",
            "\u001b[0;31mBrokenPipeError\u001b[0m: [Errno 32] Broken pipe"
          ]
        }
      ]
    },
    {
      "cell_type": "markdown",
      "source": [
        "\n",
        "\n",
        "## Question 5 (5 marks)\n",
        "We would like to see the best accuracy on the validation set across all the models that you train.\n",
        "wandb automatically generates this plot which summarises the test accuracy of all the models that you tested. Please paste this plot below using the \"Add Panel to Report\" feature\n"
      ],
      "metadata": {
        "id": "pQrXjsBzeKUm"
      }
    },
    {
      "cell_type": "code",
      "source": [
        "# The Graphs can be found in the report, I got over 85% Accuracy on validation dataset"
      ],
      "metadata": {
        "id": "RTESXnLmelHe"
      },
      "execution_count": 8,
      "outputs": []
    },
    {
      "cell_type": "markdown",
      "source": [
        "\n",
        "\n",
        "## Question 6 (20 Marks)\n",
        "Based on the different experiments that you have run we want you to make some inferences about which configurations worked and which did not.\n",
        "Here again, wandb automatically generates a \"Parallel co-ordinates plot\" and a \"correlation summary\" as shown below. Learn about a \"Parallel co-ordinates plot\" and how to read it.\n",
        "By looking at the plots that you get, write down some interesting observations (simple bullet points but should be insightful). You can also refer to the plot in Question 5 while writing these insights. For example, in the above sample plot there are many configurations which give less than 65% accuracy. I would like to zoom into those and see what is happening.\n",
        "I would also like to see a recommendation for what configuration to use to get close to 95% accuracy.\n",
        "\n"
      ],
      "metadata": {
        "id": "RZ1Q4cCzeKSM"
      }
    },
    {
      "cell_type": "code",
      "source": [
        "# Please refer the report for the graphs"
      ],
      "metadata": {
        "id": "rYgcw-L7i2w_"
      },
      "execution_count": null,
      "outputs": []
    },
    {
      "cell_type": "markdown",
      "source": [
        "## Question 7 (10 Marks)\n",
        "For the best model identified above, report the accuracy on the test set of fashion_mnist and plot the confusion matrix as shown below. More marks for creativity (less marks for producing the plot shown below as it is)\n"
      ],
      "metadata": {
        "id": "mi76ckhxeKPo"
      }
    },
    {
      "cell_type": "code",
      "source": [
        "network_prediction = np.zeros([y_test.shape[0], len(np.unique(y_test)), 1], dtype=float)\n",
        "for index, item in enumerate(x_test_flattened):\n",
        "  network_prediction[index] = nn.feed_forward(item)\n",
        "\n",
        "cm = wandb.plot.confusion_matrix(\n",
        "    y_true=one_hot_label_test.reshape(-1, 10).argmax(axis=1), preds=network_prediction.reshape(-1, 10).argmax(axis=1), class_names=list(fmnist_labels.values())\n",
        ")\n",
        "\n",
        "wandb.log({\"conf_mat\": cm})\n"
      ],
      "metadata": {
        "id": "0FTlW4Qli52X"
      },
      "execution_count": 18,
      "outputs": []
    },
    {
      "cell_type": "markdown",
      "source": [
        "\n",
        "## Question 8 (5 Marks)\n",
        "In all the models above you would have used cross entropy loss. Now compare the cross entropy loss with the squared error loss. I would again like to see some automatically generated plots or your own plots to convince me whether one is better than the other.\n"
      ],
      "metadata": {
        "id": "ya1K_7TzeKNQ"
      }
    },
    {
      "cell_type": "code",
      "source": [
        "# Training using the parameters that were found to be best by sweeping in wandb\n",
        "\n",
        "# Conducting two trainings, first one uses cross_entrophy and second one uses MSE, to check if there is a difference\n",
        "# nn.train(train_data=train_data, val_data=val_data, epochs=10, learning_rate=0.001,\n",
        "#                  optimizer='adam', weight_decay=0, batch_size=64, print_every_epoch=1, loss='mse')\n",
        "nn.train(train_data=train_data, val_data=val_data, epochs=6, learning_rate=0.001,\n",
        "                 optimizer='adam', weight_decay=0, batch_size=64, print_every_epoch=1)\n",
        "\n"
      ],
      "metadata": {
        "colab": {
          "base_uri": "https://localhost:8080/"
        },
        "id": "YayKIaJVsuOx",
        "outputId": "057b4c93-2834-41d9-e3d5-bc35d246e6f3"
      },
      "execution_count": 5,
      "outputs": [
        {
          "output_type": "stream",
          "name": "stdout",
          "text": [
            "Using _adam_gradient_descent for traing optimization\n",
            "Seconds taken 15.04 batch: 1/843 val_loss_acc: (21407.14, 0.103)\n",
            "Seconds taken 50.7 batch: 423/843 val_loss_acc: (3518.95, 0.802)\n",
            "Mins taken 2.71 {'loss': 28450.51, 'accuracy': 0.82, 'val_loss': 3198.3, 'val_accuracy': 0.82, 'epoch': 0}\n",
            "Seconds taken 101.77 batch: 1/843 val_loss_acc: (3194.13, 0.819)\n",
            "Seconds taken 46.82 batch: 423/843 val_loss_acc: (3010.71, 0.829)\n",
            "Mins taken 2.49 {'loss': 25772.27, 'accuracy': 0.838, 'val_loss': 2944.78, 'val_accuracy': 0.834, 'epoch': 1}\n",
            "Seconds taken 102.62 batch: 1/843 val_loss_acc: (2945.88, 0.832)\n",
            "Seconds taken 47.34 batch: 423/843 val_loss_acc: (2831.87, 0.838)\n",
            "Mins taken 2.52 {'loss': 24380.92, 'accuracy': 0.848, 'val_loss': 2822.86, 'val_accuracy': 0.84, 'epoch': 2}\n",
            "Seconds taken 104.03 batch: 1/843 val_loss_acc: (2824.92, 0.841)\n",
            "Seconds taken 48.02 batch: 423/843 val_loss_acc: (2722.85, 0.844)\n",
            "Mins taken 2.48 {'loss': 23410.36, 'accuracy': 0.855, 'val_loss': 2743.95, 'val_accuracy': 0.844, 'epoch': 3}\n",
            "Seconds taken 100.95 batch: 1/843 val_loss_acc: (2747.02, 0.844)\n",
            "Seconds taken 47.55 batch: 423/843 val_loss_acc: (2648.94, 0.847)\n",
            "Mins taken 2.44 {'loss': 22649.33, 'accuracy': 0.86, 'val_loss': 2681.73, 'val_accuracy': 0.848, 'epoch': 4}\n",
            "Seconds taken 99.09 batch: 1/843 val_loss_acc: (2685.34, 0.849)\n",
            "Seconds taken 51.9 batch: 423/843 val_loss_acc: (2592.37, 0.85)\n",
            "Mins taken 2.54 {'loss': 22015.68, 'accuracy': 0.864, 'val_loss': 2631.55, 'val_accuracy': 0.851, 'epoch': 5}\n",
            "Total time taken for training: 15.19  mins\n"
          ]
        }
      ]
    },
    {
      "cell_type": "markdown",
      "source": [
        "\n",
        "## Question 9 (10 Marks)\n",
        "Paste a link to your github code for this assignment\n",
        "Example: \\href{https://github.com/<user-id>/cs6910_assignment1}{https://github.com/<user-id>/cs6910_assignment1};\n",
        "We will check for coding style, clarity in using functions and a README file with clear instructions on training and evaluating the model (the 10 marks will be based on this)\n",
        "We will also run a plagiarism check to ensure that the code is not copied (0 marks in the assignment if we find that the code is plagiarized)\n",
        "We will also check if the training and test data has been split properly and randomly. You will get 0 marks on the assignment if we find any cheating (e.g., adding test data to training data) to get higher accuracy\n"
      ],
      "metadata": {
        "id": "v21uSCxWeJ45"
      }
    },
    {
      "cell_type": "code",
      "source": [
        "## https://github.com/i-618/cs6910_assignment1"
      ],
      "metadata": {
        "id": "lCU9uDqQ_M5T"
      },
      "execution_count": null,
      "outputs": []
    },
    {
      "cell_type": "markdown",
      "source": [
        "\n",
        "## Question 10 (10 Marks)\n",
        "Based on your learnings above, give me 3 recommendations for what would work for the MNIST dataset (not Fashion-MNIST). Just to be clear, I am asking you to take your learnings based on extensive experimentation with one dataset and see if these learnings help on another dataset. If I give you a budget of running only 3 hyperparameter configurations as opposed to the large number of experiments you have run above then which 3 would you use and why. Report the accuracies that you obtain using these 3 configurations.\n"
      ],
      "metadata": {
        "id": "aY4l69Fseeb4"
      }
    },
    {
      "cell_type": "code",
      "source": [
        "from keras.datasets import mnist\n",
        "\n",
        "# Pre-Processing the data for training\n",
        "(x_train, y_train), (x_test, y_test) = mnist.load_data()\n",
        "\n",
        "# One hot encoding the output parameters, since this is a classification problem, in case of regression this is not needed\n",
        "one_hot_label = np.zeros([y_train.shape[0], len(np.unique(y_train)), 1], dtype=int)\n",
        "for index, item in enumerate(y_train):\n",
        "  one_hot_label[index, item] = [1]\n",
        "\n",
        "one_hot_label_test = np.zeros([y_test.shape[0], len(np.unique(y_test)), 1], dtype=int)\n",
        "for index, item in enumerate(y_test):\n",
        "  one_hot_label_test[index, item] = [1]\n",
        "\n",
        "# Flattening each image into shape (784, 1) as Neural network accepts only 1d series of data and then normalizing it with max value\n",
        "x_train_flattened = x_train.reshape(-1, 784, 1)/np.max(x_train)\n",
        "x_test_flattened = x_test.reshape(-1, 784, 1)/np.max(x_test)\n",
        "\n",
        "# It is given that 90% of the dataset is to be considered for training, while 10%  for validation\n",
        "train_records_count = int(len(x_train)*0.9)\n",
        "train_data={'inputs':x_train_flattened[:train_records_count], 'labels':one_hot_label[:train_records_count]}\n",
        "val_data={'inputs':x_train_flattened[train_records_count:], 'labels':one_hot_label[train_records_count:]}\n",
        "test_data={'inputs':x_test_flattened, 'labels': one_hot_label_test}"
      ],
      "metadata": {
        "id": "ubtH3QKFedeX",
        "colab": {
          "base_uri": "https://localhost:8080/"
        },
        "outputId": "dba13e7b-dd79-4920-8c05-fd76aba150b5"
      },
      "execution_count": 10,
      "outputs": [
        {
          "output_type": "stream",
          "name": "stdout",
          "text": [
            "Downloading data from https://storage.googleapis.com/tensorflow/tf-keras-datasets/mnist.npz\n",
            "11490434/11490434 [==============================] - 0s 0us/step\n"
          ]
        }
      ]
    },
    {
      "cell_type": "code",
      "source": [
        "from NeuralNetwork import NeuralNetwork\n",
        "\n",
        "layers = [{'num_neurons': 128, 'activation': 'tanh'}] * 5\n",
        "nn = NeuralNetwork(input_dim=x_train_flattened.shape[1], output_dim=one_hot_label.shape[1], nn_archtre=layers,\n",
        "                   last_layer_activation='softmax', weight_initializer='xavier')\n",
        "nn.train(train_data=train_data, val_data=val_data, epochs=5, learning_rate=0.001,\n",
        "                 optimizer='adam', weight_decay=0, batch_size=64, print_every_epoch=1)\n"
      ],
      "metadata": {
        "id": "kvFlgvW7VowN",
        "outputId": "5fc40c90-991b-4588-eb3f-0150442b0ce2",
        "colab": {
          "base_uri": "https://localhost:8080/"
        }
      },
      "execution_count": 11,
      "outputs": [
        {
          "output_type": "stream",
          "name": "stdout",
          "text": [
            "Using _adam_gradient_descent for traing optimization\n",
            "Seconds taken 5.99 batch: 1/843 val_loss_acc: (19872.81, 0.099)\n",
            "Seconds taken 51.87 batch: 423/843 val_loss_acc: (2385.56, 0.886)\n",
            "Mins taken 2.51 {'loss': 20688.79, 'accuracy': 0.89, 'val_loss': 1968.73, 'val_accuracy': 0.905, 'epoch': 0}\n",
            "Seconds taken 97.78 batch: 1/843 val_loss_acc: (2016.29, 0.902)\n",
            "Seconds taken 47.79 batch: 423/843 val_loss_acc: (1661.16, 0.921)\n",
            "Mins taken 2.47 {'loss': 16756.34, 'accuracy': 0.91, 'val_loss': 1621.04, 'val_accuracy': 0.92, 'epoch': 1}\n",
            "Seconds taken 99.54 batch: 1/843 val_loss_acc: (1648.81, 0.918)\n",
            "Seconds taken 48.99 batch: 423/843 val_loss_acc: (1444.3, 0.932)\n",
            "Mins taken 2.49 {'loss': 14571.69, 'accuracy': 0.923, 'val_loss': 1439.74, 'val_accuracy': 0.93, 'epoch': 2}\n",
            "Seconds taken 100.45 batch: 1/843 val_loss_acc: (1457.5, 0.93)\n",
            "Seconds taken 48.86 batch: 423/843 val_loss_acc: (1325.58, 0.938)\n",
            "Mins taken 2.45 {'loss': 13135.3, 'accuracy': 0.932, 'val_loss': 1327.83, 'val_accuracy': 0.935, 'epoch': 3}\n",
            "Seconds taken 97.87 batch: 1/843 val_loss_acc: (1341.21, 0.934)\n",
            "Seconds taken 47.63 batch: 423/843 val_loss_acc: (1246.1, 0.94)\n",
            "Mins taken 2.38 {'loss': 12142.3, 'accuracy': 0.937, 'val_loss': 1254.48, 'val_accuracy': 0.936, 'epoch': 4}\n",
            "Total time taken for training: 12.29  mins\n"
          ]
        }
      ]
    },
    {
      "cell_type": "code",
      "source": [
        "layers = [{'num_neurons': 128, 'activation': 'tanh'}] * 5\n",
        "nn = NeuralNetwork(input_dim=x_train_flattened.shape[1], output_dim=one_hot_label.shape[1], nn_archtre=layers,\n",
        "                   last_layer_activation='softmax', weight_initializer='xavier')\n",
        "nn.train(train_data=train_data, val_data=val_data, epochs=5, learning_rate=0.001,\n",
        "                 optimizer='nag', weight_decay=0.0005, batch_size=64, print_every_epoch=1)"
      ],
      "metadata": {
        "id": "mVTEVWQDWNOF",
        "outputId": "6b216022-e66f-4e9f-fcd3-3cdf69f625dd",
        "colab": {
          "base_uri": "https://localhost:8080/"
        }
      },
      "execution_count": 12,
      "outputs": [
        {
          "output_type": "stream",
          "name": "stdout",
          "text": [
            "Using _nag_gradient_descent for traing optimization\n",
            "Seconds taken 5.57 batch: 1/843 val_loss_acc: (22963.1, 0.1)\n",
            "Seconds taken 44.77 batch: 423/843 val_loss_acc: (4325.49, 0.792)\n",
            "Mins taken 2.41 {'loss': 25015.23, 'accuracy': 0.869, 'val_loss': 2426.93, 'val_accuracy': 0.885, 'epoch': 0}\n",
            "Seconds taken 98.89 batch: 1/843 val_loss_acc: (2399.57, 0.891)\n",
            "Seconds taken 43.46 batch: 423/843 val_loss_acc: (2150.31, 0.904)\n",
            "Mins taken 2.48 {'loss': 20874.25, 'accuracy': 0.894, 'val_loss': 1965.38, 'val_accuracy': 0.912, 'epoch': 1}\n",
            "Seconds taken 105.99 batch: 1/843 val_loss_acc: (2005.07, 0.91)\n",
            "Seconds taken 44.27 batch: 423/843 val_loss_acc: (1665.1, 0.924)\n",
            "Mins taken 2.41 {'loss': 19762.27, 'accuracy': 0.901, 'val_loss': 1879.97, 'val_accuracy': 0.912, 'epoch': 2}\n",
            "Seconds taken 102.29 batch: 1/843 val_loss_acc: (1821.41, 0.915)\n",
            "Seconds taken 44.93 batch: 423/843 val_loss_acc: (1568.48, 0.93)\n",
            "Mins taken 2.4 {'loss': 17545.83, 'accuracy': 0.914, 'val_loss': 1730.74, 'val_accuracy': 0.921, 'epoch': 3}\n",
            "Seconds taken 96.2 batch: 1/843 val_loss_acc: (1731.36, 0.922)\n",
            "Seconds taken 47.45 batch: 423/843 val_loss_acc: (1490.01, 0.934)\n",
            "Mins taken 2.32 {'loss': 16808.55, 'accuracy': 0.918, 'val_loss': 1688.69, 'val_accuracy': 0.924, 'epoch': 4}\n",
            "Total time taken for training: 12.01  mins\n"
          ]
        }
      ]
    },
    {
      "cell_type": "code",
      "source": [
        "layers = [{'num_neurons': 128, 'activation': 'tanh'}] * 3\n",
        "nn = NeuralNetwork(input_dim=x_train_flattened.shape[1], output_dim=one_hot_label.shape[1], nn_archtre=layers,\n",
        "                   last_layer_activation='softmax', weight_initializer='xavier')\n",
        "nn.train(train_data=train_data, val_data=val_data, epochs=5, learning_rate=0.001,\n",
        "                 optimizer='relu', weight_decay=0.0005, batch_size=64, print_every_epoch=1)"
      ],
      "metadata": {
        "id": "KNRxSidgZtuR",
        "outputId": "a81cc6e0-8240-442b-97ac-96e7ab61a1e7",
        "colab": {
          "base_uri": "https://localhost:8080/"
        }
      },
      "execution_count": 13,
      "outputs": [
        {
          "output_type": "stream",
          "name": "stdout",
          "text": [
            "Using _stochastic_gradient_descent for traing optimization\n",
            "Seconds taken 5.08 batch: 1/843 val_loss_acc: (19884.98, 0.092)\n",
            "Seconds taken 29.92 batch: 423/843 val_loss_acc: (4988.64, 0.771)\n",
            "Mins taken 1.71 {'loss': 32109.48, 'accuracy': 0.837, 'val_loss': 3037.01, 'val_accuracy': 0.865, 'epoch': 0}\n",
            "Seconds taken 71.79 batch: 1/843 val_loss_acc: (3029.21, 0.867)\n",
            "Seconds taken 31.03 batch: 423/843 val_loss_acc: (2503.03, 0.894)\n",
            "Mins taken 1.67 {'loss': 24188.18, 'accuracy': 0.882, 'val_loss': 2248.99, 'val_accuracy': 0.904, 'epoch': 1}\n",
            "Seconds taken 69.0 batch: 1/843 val_loss_acc: (2248.15, 0.902)\n",
            "Seconds taken 29.87 batch: 423/843 val_loss_acc: (2071.93, 0.912)\n",
            "Mins taken 1.71 {'loss': 21028.84, 'accuracy': 0.9, 'val_loss': 1960.24, 'val_accuracy': 0.919, 'epoch': 2}\n",
            "Seconds taken 73.28 batch: 1/843 val_loss_acc: (1961.2, 0.918)\n",
            "Seconds taken 30.55 batch: 423/843 val_loss_acc: (1858.63, 0.922)\n",
            "Mins taken 1.69 {'loss': 19126.63, 'accuracy': 0.911, 'val_loss': 1793.86, 'val_accuracy': 0.927, 'epoch': 3}\n",
            "Seconds taken 71.94 batch: 1/843 val_loss_acc: (1795.31, 0.927)\n",
            "Seconds taken 30.36 batch: 423/843 val_loss_acc: (1723.73, 0.928)\n",
            "Mins taken 1.73 {'loss': 17784.77, 'accuracy': 0.919, 'val_loss': 1680.72, 'val_accuracy': 0.932, 'epoch': 4}\n",
            "Total time taken for training: 8.52  mins\n"
          ]
        }
      ]
    },
    {
      "cell_type": "code",
      "source": [],
      "metadata": {
        "id": "V-vm_NXja0xy"
      },
      "execution_count": null,
      "outputs": []
    }
  ]
}